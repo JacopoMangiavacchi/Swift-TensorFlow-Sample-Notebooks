{
  "cells": [
    {
      "metadata": {
        "trusted": true
      },
      "cell_type": "code",
      "source": "from keras.models import Sequential\nfrom keras.layers import Dense, Activation\nfrom keras.optimizers import SGD, Adam\nimport numpy as np\n\nnp.random.seed(7)\n\nX = np.array([[0,0],[0,1],[1,0],[1,1]], \"float32\")\ny = np.array([[0],[1],[1],[0]], \"float32\")",
      "execution_count": 1,
      "outputs": [
        {
          "output_type": "stream",
          "text": "Using TensorFlow backend.\n",
          "name": "stderr"
        }
      ]
    },
    {
      "metadata": {
        "trusted": true
      },
      "cell_type": "code",
      "source": "model = Sequential()\nmodel.add(Dense(units = 2, input_dim=2, activation = 'sigmoid'))\nmodel.add(Dense(units = 1, activation = 'sigmoid'))",
      "execution_count": 2,
      "outputs": []
    },
    {
      "metadata": {
        "trusted": true
      },
      "cell_type": "code",
      "source": "#optimizer = Adam(lr=0.1)\n#model.compile(loss='binary_crossentropy', optimizer=optimizer)\n\noptimizer = SGD(lr=0.02)\nmodel.compile(loss='mean_squared_error', optimizer=optimizer, metrics=['accuracy'])",
      "execution_count": 3,
      "outputs": []
    },
    {
      "metadata": {
        "trusted": true
      },
      "cell_type": "code",
      "source": "model.summary()",
      "execution_count": 4,
      "outputs": [
        {
          "output_type": "stream",
          "text": "_________________________________________________________________\nLayer (type)                 Output Shape              Param #   \n=================================================================\ndense_1 (Dense)              (None, 2)                 6         \n_________________________________________________________________\ndense_2 (Dense)              (None, 1)                 3         \n=================================================================\nTotal params: 9\nTrainable params: 9\nNon-trainable params: 0\n_________________________________________________________________\n",
          "name": "stdout"
        }
      ]
    },
    {
      "metadata": {
        "trusted": true
      },
      "cell_type": "code",
      "source": "# model.fit(X, y, epochs=200, batch_size=4,verbose=1)\nmodel.fit(X, y, epochs=100000, batch_size=4, verbose=1)",
      "execution_count": null,
      "outputs": []
    },
    {
      "metadata": {
        "trusted": true
      },
      "cell_type": "code",
      "source": "print(model.predict(X))",
      "execution_count": 6,
      "outputs": [
        {
          "output_type": "stream",
          "text": "[[0.0663276 ]\n [0.92357546]\n [0.9400725 ]\n [0.05815994]]\n",
          "name": "stdout"
        }
      ]
    },
    {
      "metadata": {
        "trusted": true
      },
      "cell_type": "code",
      "source": "for layer in model.layers:\n    g=layer.get_config()\n    h=layer.get_weights()\n    print (g)\n    print (\"--\")\n    print (h)\n    print (\"-----\")",
      "execution_count": 7,
      "outputs": [
        {
          "output_type": "stream",
          "text": "{'name': 'dense_1', 'trainable': True, 'batch_input_shape': (None, 2), 'dtype': 'float32', 'units': 2, 'activation': 'sigmoid', 'use_bias': True, 'kernel_initializer': {'class_name': 'VarianceScaling', 'config': {'scale': 1.0, 'mode': 'fan_avg', 'distribution': 'uniform', 'seed': None}}, 'bias_initializer': {'class_name': 'Zeros', 'config': {}}, 'kernel_regularizer': None, 'bias_regularizer': None, 'activity_regularizer': None, 'kernel_constraint': None, 'bias_constraint': None}\n--\n[array([[ 5.1417747,  4.8710747],\n       [-5.2199078, -4.6441307]], dtype=float32), array([-2.8986623,  2.3097937], dtype=float32)]\n-----\n{'name': 'dense_2', 'trainable': True, 'units': 1, 'activation': 'sigmoid', 'use_bias': True, 'kernel_initializer': {'class_name': 'VarianceScaling', 'config': {'scale': 1.0, 'mode': 'fan_avg', 'distribution': 'uniform', 'seed': None}}, 'bias_initializer': {'class_name': 'Zeros', 'config': {}}, 'kernel_regularizer': None, 'bias_regularizer': None, 'activity_regularizer': None, 'kernel_constraint': None, 'bias_constraint': None}\n--\n[array([[ 7.0403705],\n       [-6.698618 ]], dtype=float32), array([3.0814655], dtype=float32)]\n-----\n",
          "name": "stdout"
        }
      ]
    },
    {
      "metadata": {
        "trusted": true
      },
      "cell_type": "code",
      "source": "print(model.layers[0].get_weights()[0])",
      "execution_count": 8,
      "outputs": [
        {
          "output_type": "stream",
          "text": "[[ 5.1417747  4.8710747]\n [-5.2199078 -4.6441307]]\n",
          "name": "stdout"
        }
      ]
    },
    {
      "metadata": {
        "trusted": true
      },
      "cell_type": "code",
      "source": "",
      "execution_count": null,
      "outputs": []
    }
  ],
  "metadata": {
    "kernelspec": {
      "name": "python36",
      "display_name": "Python 3.6",
      "language": "python"
    },
    "language_info": {
      "mimetype": "text/x-python",
      "nbconvert_exporter": "python",
      "name": "python",
      "pygments_lexer": "ipython3",
      "version": "3.6.6",
      "file_extension": ".py",
      "codemirror_mode": {
        "version": 3,
        "name": "ipython"
      }
    }
  },
  "nbformat": 4,
  "nbformat_minor": 1
}