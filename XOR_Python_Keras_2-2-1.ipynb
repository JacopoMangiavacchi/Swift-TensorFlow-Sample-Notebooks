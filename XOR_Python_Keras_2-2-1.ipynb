{
  "nbformat": 4,
  "nbformat_minor": 0,
  "metadata": {
    "colab": {
      "name": "XOR_Python_Keras_2-2-1.ipynb",
      "version": "0.3.2",
      "provenance": [],
      "include_colab_link": true
    },
    "kernelspec": {
      "name": "python36",
      "display_name": "Python 3.6",
      "language": "python"
    }
  },
  "cells": [
    {
      "cell_type": "markdown",
      "metadata": {
        "id": "view-in-github",
        "colab_type": "text"
      },
      "source": [
        "<a href=\"https://colab.research.google.com/github/JacopoMangiavacchi/Swift-TensorFlow-Sample-Notebooks/blob/master/XOR_Python_Keras_2-2-1.ipynb\" target=\"_parent\"><img src=\"https://colab.research.google.com/assets/colab-badge.svg\" alt=\"Open In Colab\"/></a>"
      ]
    },
    {
      "metadata": {
        "trusted": true,
        "id": "K3OqAnJZm3lb",
        "colab_type": "code",
        "colab": {},
        "outputId": "72990d38-a399-4240-9bc5-4f4a5d779811"
      },
      "cell_type": "code",
      "source": [
        "from keras.models import Sequential\n",
        "from keras.layers import Dense, Activation\n",
        "from keras.optimizers import SGD, Adam\n",
        "import numpy as np\n",
        "\n",
        "np.random.seed(7)\n",
        "\n",
        "X = np.array([[0,0],[0,1],[1,0],[1,1]], \"float32\")\n",
        "y = np.array([[0],[1],[1],[0]], \"float32\")"
      ],
      "execution_count": 0,
      "outputs": [
        {
          "output_type": "stream",
          "text": [
            "Using TensorFlow backend.\n"
          ],
          "name": "stderr"
        }
      ]
    },
    {
      "metadata": {
        "trusted": true,
        "id": "nCmrYbmEm3ll",
        "colab_type": "code",
        "colab": {}
      },
      "cell_type": "code",
      "source": [
        "model = Sequential()\n",
        "model.add(Dense(units = 2, input_dim=2, activation = 'sigmoid'))\n",
        "model.add(Dense(units = 1, activation = 'sigmoid'))"
      ],
      "execution_count": 0,
      "outputs": []
    },
    {
      "metadata": {
        "trusted": true,
        "id": "kdyRGUD-m3lp",
        "colab_type": "code",
        "colab": {}
      },
      "cell_type": "code",
      "source": [
        "optimizer = SGD(lr=0.02)\n",
        "model.compile(loss='mean_squared_error', optimizer=optimizer, metrics=['accuracy'])"
      ],
      "execution_count": 0,
      "outputs": []
    },
    {
      "metadata": {
        "trusted": true,
        "id": "CkTXO_h8m3lr",
        "colab_type": "code",
        "colab": {},
        "outputId": "531e7de8-0cb2-4c6e-a973-00f0e688a579"
      },
      "cell_type": "code",
      "source": [
        "model.summary()"
      ],
      "execution_count": 0,
      "outputs": [
        {
          "output_type": "stream",
          "text": [
            "_________________________________________________________________\n",
            "Layer (type)                 Output Shape              Param #   \n",
            "=================================================================\n",
            "dense_1 (Dense)              (None, 2)                 6         \n",
            "_________________________________________________________________\n",
            "dense_2 (Dense)              (None, 1)                 3         \n",
            "=================================================================\n",
            "Total params: 9\n",
            "Trainable params: 9\n",
            "Non-trainable params: 0\n",
            "_________________________________________________________________\n"
          ],
          "name": "stdout"
        }
      ]
    },
    {
      "metadata": {
        "trusted": true,
        "id": "eh1UoA8Mm3lu",
        "colab_type": "code",
        "colab": {}
      },
      "cell_type": "code",
      "source": [
        "model.fit(X, y, epochs=100000, batch_size=4, verbose=1)"
      ],
      "execution_count": 0,
      "outputs": []
    },
    {
      "metadata": {
        "trusted": true,
        "id": "_ed5q2gcm3lw",
        "colab_type": "code",
        "colab": {},
        "outputId": "b62c11c3-9948-4e0e-cf02-f9c404172173"
      },
      "cell_type": "code",
      "source": [
        "print(model.predict(X))"
      ],
      "execution_count": 0,
      "outputs": [
        {
          "output_type": "stream",
          "text": [
            "[[0.0663276 ]\n",
            " [0.92357546]\n",
            " [0.9400725 ]\n",
            " [0.05815994]]\n"
          ],
          "name": "stdout"
        }
      ]
    },
    {
      "metadata": {
        "trusted": true,
        "id": "MSW64jSBm3ly",
        "colab_type": "code",
        "colab": {},
        "outputId": "8b9e2d8a-3a03-4da4-9b23-683a075e8203"
      },
      "cell_type": "code",
      "source": [
        "for layer in model.layers:\n",
        "    g=layer.get_config()\n",
        "    h=layer.get_weights()\n",
        "    print (g)\n",
        "    print (\"--\")\n",
        "    print (h)\n",
        "    print (\"-----\")"
      ],
      "execution_count": 0,
      "outputs": [
        {
          "output_type": "stream",
          "text": [
            "{'name': 'dense_1', 'trainable': True, 'batch_input_shape': (None, 2), 'dtype': 'float32', 'units': 2, 'activation': 'sigmoid', 'use_bias': True, 'kernel_initializer': {'class_name': 'VarianceScaling', 'config': {'scale': 1.0, 'mode': 'fan_avg', 'distribution': 'uniform', 'seed': None}}, 'bias_initializer': {'class_name': 'Zeros', 'config': {}}, 'kernel_regularizer': None, 'bias_regularizer': None, 'activity_regularizer': None, 'kernel_constraint': None, 'bias_constraint': None}\n",
            "--\n",
            "[array([[ 5.1417747,  4.8710747],\n",
            "       [-5.2199078, -4.6441307]], dtype=float32), array([-2.8986623,  2.3097937], dtype=float32)]\n",
            "-----\n",
            "{'name': 'dense_2', 'trainable': True, 'units': 1, 'activation': 'sigmoid', 'use_bias': True, 'kernel_initializer': {'class_name': 'VarianceScaling', 'config': {'scale': 1.0, 'mode': 'fan_avg', 'distribution': 'uniform', 'seed': None}}, 'bias_initializer': {'class_name': 'Zeros', 'config': {}}, 'kernel_regularizer': None, 'bias_regularizer': None, 'activity_regularizer': None, 'kernel_constraint': None, 'bias_constraint': None}\n",
            "--\n",
            "[array([[ 7.0403705],\n",
            "       [-6.698618 ]], dtype=float32), array([3.0814655], dtype=float32)]\n",
            "-----\n"
          ],
          "name": "stdout"
        }
      ]
    },
    {
      "metadata": {
        "trusted": true,
        "id": "2ais57qbm3l1",
        "colab_type": "code",
        "colab": {},
        "outputId": "aabaae54-0a02-4e3b-cd14-eb54110947b3"
      },
      "cell_type": "code",
      "source": [
        "print(model.layers[0].get_weights()[0])"
      ],
      "execution_count": 0,
      "outputs": [
        {
          "output_type": "stream",
          "text": [
            "[[ 5.1417747  4.8710747]\n",
            " [-5.2199078 -4.6441307]]\n"
          ],
          "name": "stdout"
        }
      ]
    },
    {
      "metadata": {
        "trusted": true,
        "id": "HpBAcclDm3l2",
        "colab_type": "code",
        "colab": {}
      },
      "cell_type": "code",
      "source": [
        ""
      ],
      "execution_count": 0,
      "outputs": []
    }
  ]
}