{
  "nbformat": 4,
  "nbformat_minor": 0,
  "metadata": {
    "colab": {
      "name": "blank_swift.ipynb",
      "version": "0.3.2",
      "provenance": [],
      "collapsed_sections": [],
      "include_colab_link": true
    },
    "kernelspec": {
      "name": "swift",
      "display_name": "Swift"
    }
  },
  "cells": [
    {
      "cell_type": "markdown",
      "metadata": {
        "id": "view-in-github",
        "colab_type": "text"
      },
      "source": [
        "<a href=\"https://colab.research.google.com/github/JacopoMangiavacchi/Swift-TensorFlow-Sample-Notebooks/blob/master/LinearRegression_MultiVariable_Swift_TensorFlow.ipynb\" target=\"_parent\"><img src=\"https://colab.research.google.com/assets/colab-badge.svg\" alt=\"Open In Colab\"/></a>"
      ]
    },
    {
      "metadata": {
        "id": "TgiX5mzQ5vTd",
        "colab_type": "code",
        "colab": {}
      },
      "cell_type": "code",
      "source": [
        "import Python\n",
        "\n",
        "func getArrayDataset() -> ([[Float]], [Float]) {\n",
        "    let np = Python.import(\"numpy\")\n",
        "    let pd = Python.import(\"pandas\")\n",
        "    let io = Python.import(\"io\")\n",
        "    let requests = Python.import(\"requests\")\n",
        "\n",
        "    let url=\"https://raw.githubusercontent.com/Dataweekends/zero_to_deep_learning_video/master/data/weight-height.csv\"\n",
        "    let s = requests.get(url).content\n",
        "    let df = pd.read_csv(io.StringIO(s.decode(\"utf-8\")))\n",
        "\n",
        "    let dummies = pd.get_dummies(df[[\"Gender\"]])\n",
        "    let trasnformed = pd.concat([df[[\"Height\", \"Weight\"]], dummies], 1)\n",
        "    // print(trasnformed)\n",
        "\n",
        "    let X1 = trasnformed[[\"Height\"]].values\n",
        "    let X2 = trasnformed[[\"Gender_Female\"]].values\n",
        "    let X3 = trasnformed[[\"Gender_Male\"]].values\n",
        "    let Y = trasnformed[[\"Weight\"]].values\n",
        "  \n",
        "    let x1Array = X1.tolist().flatMap{ $0.map{ Float($0)! }}\n",
        "    let x2Array = X2.tolist().flatMap{ $0.map{ Float($0)! }}\n",
        "    let x3Array = X3.tolist().flatMap{ $0.map{ Float($0)! }}\n",
        "    let yArray = Y.tolist().flatMap{ $0.map{ Float($0)! }}\n",
        "  \n",
        "    return ([x1Array, x2Array, x3Array], yArray)\n",
        "}"
      ],
      "execution_count": 0,
      "outputs": []
    },
    {
      "metadata": {
        "id": "jOX8dO5YPtd6",
        "colab_type": "code",
        "colab": {}
      },
      "cell_type": "code",
      "source": [
        "func minMaxNormalized<T: BinaryFloatingPoint>(_ vector : [T]) -> [T] {\n",
        "    guard let (min, max) = minimumMaximum(vector) else { return vector }\n",
        "    return vector.map{ ($0 - min) / (max - min) }\n",
        "}\n",
        "\n",
        "func minimumMaximum<T: Comparable>(_ vector: [T]) -> (minimum: T, maximum: T)? {\n",
        "    guard var minimum = vector.first else { return nil }\n",
        "    var maximum = minimum\n",
        "\n",
        "    let start = vector.count % 2\n",
        "    for i in stride(from: start, to: vector.count, by: 2) {\n",
        "        let (first, second) = (vector[i], vector[i+1])\n",
        "\n",
        "        if first > second {\n",
        "            if first > maximum {\n",
        "                maximum = first\n",
        "            }\n",
        "            if second < minimum {\n",
        "                minimum = second\n",
        "            }\n",
        "        } else {\n",
        "            if second > maximum {\n",
        "                maximum = second\n",
        "            }\n",
        "            if first < minimum {\n",
        "                minimum = first\n",
        "            }\n",
        "        }\n",
        "    }\n",
        "\n",
        "    return (minimum, maximum)\n",
        "}\n",
        "\n",
        "func flattenMatrix<T: BinaryFloatingPoint>(_ matrix : [[T]]) -> [T] {\n",
        "    let size = matrix.count\n",
        "    guard size > 0 else { return [] }\n",
        "\n",
        "    let count = matrix[0].count\n",
        "    var allEqualCount = true\n",
        "    for m in 0..<size {\n",
        "        if matrix[m].count != count {\n",
        "          allEqualCount = false\n",
        "          break\n",
        "        }\n",
        "    }\n",
        "  \n",
        "    guard allEqualCount else { return [] }\n",
        "  \n",
        "    let total = count * size\n",
        "    var vector = [T](repeating: 0, count: total)\n",
        "    for i in stride(from: 0, to: total, by: size) {\n",
        "        for m in 0..<size {\n",
        "            vector[i+m] = matrix[m][i/3]\n",
        "        }\n",
        "    }\n",
        "\n",
        "    return vector\n",
        "}"
      ],
      "execution_count": 0,
      "outputs": []
    },
    {
      "metadata": {
        "id": "gPWmhInLNAXa",
        "colab_type": "code",
        "colab": {}
      },
      "cell_type": "code",
      "source": [
        "let (xArray, yVector) = getArrayDataset()\n",
        "\n",
        "let (minHeight, maxHeight) = minimumMaximum(xArray[0])!\n",
        "let (minWeight, maxWeight) = minimumMaximum(yVector)!\n",
        "\n",
        "let xNormalizedVector = flattenMatrix([minMaxNormalized(xArray[0]), \n",
        "                                       xArray[1], \n",
        "                                       xArray[2]])\n",
        "let yNormalizedVector = minMaxNormalized(yVector)"
      ],
      "execution_count": 0,
      "outputs": []
    },
    {
      "metadata": {
        "id": "kZRlD4utdPuX",
        "colab_type": "code",
        "colab": {}
      },
      "cell_type": "code",
      "source": [
        "import TensorFlow"
      ],
      "execution_count": 0,
      "outputs": []
    },
    {
      "metadata": {
        "id": "_e1hzXeb8J5d",
        "colab_type": "code",
        "colab": {}
      },
      "cell_type": "code",
      "source": [
        "@differentiable()\n",
        "func linear(input: Tensor<Float>) -> Tensor<Float> {\n",
        "    return input\n",
        "}\n",
        "\n",
        "struct LinearRegression: Layer {\n",
        "    var l1: Dense<Float>\n",
        "    init(variables: Int = 1) {\n",
        "        l1 = Dense<Float>(inputSize: variables, outputSize: 1, activation: linear)\n",
        "    }\n",
        "    \n",
        "    @differentiable(wrt: (self, input))\n",
        "    func applied(to input: Tensor<Float>) -> Tensor<Float> {\n",
        "        return l1.applied(to: input)\n",
        "    }\n",
        "}"
      ],
      "execution_count": 0,
      "outputs": []
    },
    {
      "metadata": {
        "id": "JdGxV6K2VZ2X",
        "colab_type": "code",
        "outputId": "3ae1ee86-091e-4b30-a033-d19f3c186a04",
        "colab": {
          "base_uri": "https://localhost:8080/",
          "height": 51
        }
      },
      "cell_type": "code",
      "source": [
        "let x = Tensor<Float>(shape: [Int32(10000), 3], scalars: xNormalizedVector)\n",
        "let y = Tensor<Float>(shape: [Int32(10000), 1], scalars: yNormalizedVector)\n",
        "\n",
        "print(x.shape)\n",
        "print(y.shape)"
      ],
      "execution_count": 6,
      "outputs": [
        {
          "output_type": "stream",
          "text": [
            "TensorShape(dimensions: [10000, 3])\r\n",
            "TensorShape(dimensions: [10000, 1])\r\n"
          ],
          "name": "stdout"
        }
      ]
    },
    {
      "metadata": {
        "id": "OkEgM40GQGKG",
        "colab_type": "code",
        "outputId": "79aee1f4-2a21-4e29-d72f-e10849f27347",
        "colab": {
          "base_uri": "https://localhost:8080/",
          "height": 68
        }
      },
      "cell_type": "code",
      "source": [
        "let optimizer = SGD<LinearRegression, Float>(learningRate: 0.03)\n",
        "var model = LinearRegression(variables: 3)\n",
        "\n",
        "\n",
        "for epoch in 1...3000 {\n",
        "    let (cost, 𝛁model) = model.valueWithGradient { m -> Tensor<Float> in\n",
        "        let ŷ = m.applied(to: x)\n",
        "        return meanSquaredError(predicted: ŷ, expected: y)\n",
        "    }\n",
        "    optimizer.update(&model.allDifferentiableVariables, along: 𝛁model)\n",
        "  \n",
        "    if epoch % 1000 == 0 {\n",
        "        print(\"Epoch: \\(epoch) Cost: \\(cost)\")\n",
        "    }\n",
        "}"
      ],
      "execution_count": 7,
      "outputs": [
        {
          "output_type": "stream",
          "text": [
            "Epoch: 1000 Cost: 0.0045769475\n",
            "Epoch: 2000 Cost: 0.0029894193\n",
            "Epoch: 3000 Cost: 0.0025484264\n"
          ],
          "name": "stdout"
        }
      ]
    },
    {
      "metadata": {
        "id": "LOmonwRSVqui",
        "colab_type": "code",
        "outputId": "5f7dba48-660b-4881-e2c6-960ff48eab71",
        "colab": {
          "base_uri": "https://localhost:8080/",
          "height": 34
        }
      },
      "cell_type": "code",
      "source": [
        "let height = Float(76.8)\n",
        "let heightTensor = TensorElementLiteral<Float>(floatLiteral: (height - minHeight) / (maxHeight - minHeight))\n",
        "\n",
        "let normPredictedWeight = model.applied(to: [[heightTensor, 0, 1]])[0][0]  //Height, Female, Male\n",
        "let predictedWeight = (normPredictedWeight * (maxWeight - minWeight)) + minWeight\n",
        "\n",
        "print(predictedWeight)"
      ],
      "execution_count": 8,
      "outputs": [
        {
          "output_type": "stream",
          "text": [
            "226.15817\r\n"
          ],
          "name": "stdout"
        }
      ]
    }
  ]
}