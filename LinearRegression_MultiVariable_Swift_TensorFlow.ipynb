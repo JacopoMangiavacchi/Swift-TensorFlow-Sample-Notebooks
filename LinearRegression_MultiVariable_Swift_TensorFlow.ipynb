{
  "nbformat": 4,
  "nbformat_minor": 0,
  "metadata": {
    "colab": {
      "name": "blank_swift.ipynb",
      "version": "0.3.2",
      "provenance": [],
      "collapsed_sections": [],
      "include_colab_link": true
    },
    "kernelspec": {
      "name": "swift",
      "display_name": "Swift"
    }
  },
  "cells": [
    {
      "cell_type": "markdown",
      "metadata": {
        "id": "view-in-github",
        "colab_type": "text"
      },
      "source": [
        "<a href=\"https://colab.research.google.com/github/JacopoMangiavacchi/Swift-TensorFlow-Sample-Notebooks/blob/master/LinearRegression_MultiVariable_Swift_TensorFlow.ipynb\" target=\"_parent\"><img src=\"https://colab.research.google.com/assets/colab-badge.svg\" alt=\"Open In Colab\"/></a>"
      ]
    },
    {
      "metadata": {
        "id": "TgiX5mzQ5vTd",
        "colab_type": "code",
        "colab": {}
      },
      "cell_type": "code",
      "source": [
        "import Python\n",
        "\n",
        "func getArrayDataset() -> ([[Float]], [Float]) {\n",
        "    let np = Python.import(\"numpy\")\n",
        "    let pd = Python.import(\"pandas\")\n",
        "    let io = Python.import(\"io\")\n",
        "    let requests = Python.import(\"requests\")\n",
        "\n",
        "    let url=\"https://raw.githubusercontent.com/Dataweekends/zero_to_deep_learning_video/master/data/weight-height.csv\"\n",
        "    let s = requests.get(url).content\n",
        "    let df = pd.read_csv(io.StringIO(s.decode(\"utf-8\")))\n",
        "\n",
        "    let dummies = pd.get_dummies(df[[\"Gender\"]])\n",
        "    let trasnformed = pd.concat([df[[\"Height\", \"Weight\"]], dummies], 1)\n",
        "    // print(trasnformed)\n",
        "\n",
        "    let X1 = trasnformed[[\"Height\"]].values\n",
        "    let X2 = trasnformed[[\"Gender_Female\"]].values\n",
        "    let X3 = trasnformed[[\"Gender_Male\"]].values\n",
        "    let Y = trasnformed[[\"Weight\"]].values\n",
        "  \n",
        "    let x1Array = X1.tolist().flatMap{ $0.map{ Float($0)! }}\n",
        "    let x2Array = X2.tolist().flatMap{ $0.map{ Float($0)! }}\n",
        "    let x3Array = X3.tolist().flatMap{ $0.map{ Float($0)! }}\n",
        "    let yArray = Y.tolist().flatMap{ $0.map{ Float($0)! }}\n",
        "  \n",
        "    return ([x1Array, x2Array, x3Array], yArray)\n",
        "}"
      ],
      "execution_count": 0,
      "outputs": []
    },
    {
      "metadata": {
        "id": "jOX8dO5YPtd6",
        "colab_type": "code",
        "colab": {}
      },
      "cell_type": "code",
      "source": [
        "func minMaxNormalized<T: BinaryFloatingPoint>(_ vector : [T]) -> [T] {\n",
        "    guard let (min, max) = minimumMaximum(vector) else { return vector }\n",
        "    return vector.map{ ($0 - min) / (max - min) }\n",
        "}\n",
        "\n",
        "func minimumMaximum<T: Comparable>(_ vector: [T]) -> (minimum: T, maximum: T)? {\n",
        "    guard var minimum = vector.first else { return nil }\n",
        "    var maximum = minimum\n",
        "\n",
        "    let start = vector.count % 2\n",
        "    for i in stride(from: start, to: vector.count, by: 2) {\n",
        "        let (first, second) = (vector[i], vector[i+1])\n",
        "\n",
        "        if first > second {\n",
        "            if first > maximum {\n",
        "                maximum = first\n",
        "            }\n",
        "            if second < minimum {\n",
        "                minimum = second\n",
        "            }\n",
        "        } else {\n",
        "            if second > maximum {\n",
        "                maximum = second\n",
        "            }\n",
        "            if first < minimum {\n",
        "                minimum = first\n",
        "            }\n",
        "        }\n",
        "    }\n",
        "\n",
        "    return (minimum, maximum)\n",
        "}"
      ],
      "execution_count": 0,
      "outputs": []
    },
    {
      "metadata": {
        "id": "gPWmhInLNAXa",
        "colab_type": "code",
        "colab": {}
      },
      "cell_type": "code",
      "source": [
        "let (xArray, yVector) = getArrayDataset()\n",
        "\n",
        "let (minHeight, maxHeight) = minimumMaximum(xArray[0])!\n",
        "let (minWeight, maxWeight) = minimumMaximum(yVector)!\n",
        "\n",
        "let yNormalizedVector = minMaxNormalized(yVector)\n",
        "let xNormalizedArray = [minMaxNormalized(xArray[0]), xArray[1], xArray[2]]\n",
        "\n",
        "let count = xNormalizedArray[0].count * 3\n",
        "var xNormalizedVector = [Float](repeating: 0, count: count)\n",
        "\n",
        "for i in stride(from: 0, to: count, by: 3) {\n",
        "    xNormalizedVector[i] = xNormalizedArray[0][i/3]\n",
        "    xNormalizedVector[i+1] = xNormalizedArray[1][i/3]\n",
        "    xNormalizedVector[i+2] = xNormalizedArray[2][i/3]\n",
        "}"
      ],
      "execution_count": 0,
      "outputs": []
    },
    {
      "metadata": {
        "id": "kZRlD4utdPuX",
        "colab_type": "code",
        "colab": {}
      },
      "cell_type": "code",
      "source": [
        "import TensorFlow"
      ],
      "execution_count": 0,
      "outputs": []
    },
    {
      "metadata": {
        "id": "_e1hzXeb8J5d",
        "colab_type": "code",
        "colab": {}
      },
      "cell_type": "code",
      "source": [
        "@differentiable()\n",
        "func linear(input: Tensor<Float>) -> Tensor<Float> {\n",
        "    return input\n",
        "}\n",
        "\n",
        "struct LinearRegression: Layer {\n",
        "    var l1: Dense<Float>\n",
        "    init(variables: Int = 1) {\n",
        "        l1 = Dense<Float>(inputSize: variables, outputSize: 1, activation: linear)\n",
        "    }\n",
        "    \n",
        "    @differentiable(wrt: (self, input))\n",
        "    func applied(to input: Tensor<Float>) -> Tensor<Float> {\n",
        "        return l1.applied(to: input)\n",
        "    }\n",
        "}"
      ],
      "execution_count": 0,
      "outputs": []
    },
    {
      "metadata": {
        "id": "JdGxV6K2VZ2X",
        "colab_type": "code",
        "outputId": "4e841314-42df-462a-b720-12c42d810af8",
        "colab": {
          "base_uri": "https://localhost:8080/",
          "height": 51
        }
      },
      "cell_type": "code",
      "source": [
        "let x = Tensor<Float>(shape: [Int32(10000), 3], scalars: xNormalizedVector)\n",
        "let y = Tensor<Float>(shape: [Int32(10000), 1], scalars: yNormalizedVector)\n",
        "\n",
        "print(x.shape)\n",
        "print(y.shape)"
      ],
      "execution_count": 6,
      "outputs": [
        {
          "output_type": "stream",
          "text": [
            "TensorShape(dimensions: [10000, 3])\r\n",
            "TensorShape(dimensions: [10000, 1])\r\n"
          ],
          "name": "stdout"
        }
      ]
    },
    {
      "metadata": {
        "id": "OkEgM40GQGKG",
        "colab_type": "code",
        "outputId": "d1ff2f2e-b580-4098-ae40-3c3bac85ced2",
        "colab": {
          "base_uri": "https://localhost:8080/",
          "height": 357
        }
      },
      "cell_type": "code",
      "source": [
        "let optimizer = SGD<LinearRegression, Float>(learningRate: 0.03)\n",
        "var model = LinearRegression(variables: 3)\n",
        "\n",
        "\n",
        "for epoch in 1...2000 {\n",
        "    let (cost, 𝛁model) = model.valueWithGradient { m -> Tensor<Float> in\n",
        "        let ŷ = m.applied(to: x)\n",
        "        return meanSquaredError(predicted: ŷ, expected: y)\n",
        "    }\n",
        "    optimizer.update(&model.allDifferentiableVariables, along: 𝛁model)\n",
        "  \n",
        "    if epoch % 100 == 0 {\n",
        "        print(\"Epoch: \\(epoch) Cost: \\(cost)\")\n",
        "    }\n",
        "}"
      ],
      "execution_count": 7,
      "outputs": [
        {
          "output_type": "stream",
          "text": [
            "Epoch: 100 Cost: 0.011159992\n",
            "Epoch: 200 Cost: 0.010100178\n",
            "Epoch: 300 Cost: 0.009171858\n",
            "Epoch: 400 Cost: 0.008355156\n",
            "Epoch: 500 Cost: 0.0076366393\n",
            "Epoch: 600 Cost: 0.0070045106\n",
            "Epoch: 700 Cost: 0.0064483797\n",
            "Epoch: 800 Cost: 0.005959111\n",
            "Epoch: 900 Cost: 0.0055286638\n",
            "Epoch: 1000 Cost: 0.005149969\n",
            "Epoch: 1100 Cost: 0.004816803\n",
            "Epoch: 1200 Cost: 0.004523691\n",
            "Epoch: 1300 Cost: 0.0042658197\n",
            "Epoch: 1400 Cost: 0.0040389504\n",
            "Epoch: 1500 Cost: 0.003839357\n",
            "Epoch: 1600 Cost: 0.0036637615\n",
            "Epoch: 1700 Cost: 0.0035092751\n",
            "Epoch: 1800 Cost: 0.0033733642\n",
            "Epoch: 1900 Cost: 0.0032537922\n",
            "Epoch: 2000 Cost: 0.0031485963\n"
          ],
          "name": "stdout"
        }
      ]
    },
    {
      "metadata": {
        "id": "LOmonwRSVqui",
        "colab_type": "code",
        "outputId": "f8a6c62c-a62b-49ec-b97e-83349e1f0e4d",
        "colab": {
          "base_uri": "https://localhost:8080/",
          "height": 34
        }
      },
      "cell_type": "code",
      "source": [
        "let height = Float(76.8)\n",
        "let heightTensor = TensorElementLiteral<Float>(floatLiteral: (height - minHeight) / (maxHeight - minHeight))\n",
        "\n",
        "let normPredictedWeight = model.applied(to: [[heightTensor, 0, 1]])[0][0]  //Height, Female, Male\n",
        "let predictedWeight = (normPredictedWeight * (maxWeight - minWeight)) + minWeight\n",
        "\n",
        "print(predictedWeight)"
      ],
      "execution_count": 8,
      "outputs": [
        {
          "output_type": "stream",
          "text": [
            "217.8783\r\n"
          ],
          "name": "stdout"
        }
      ]
    }
  ]
}