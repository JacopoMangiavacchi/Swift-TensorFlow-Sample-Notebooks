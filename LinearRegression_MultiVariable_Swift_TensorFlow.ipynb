{
  "nbformat": 4,
  "nbformat_minor": 0,
  "metadata": {
    "colab": {
      "name": "blank_swift.ipynb",
      "version": "0.3.2",
      "provenance": [],
      "collapsed_sections": [],
      "include_colab_link": true
    },
    "kernelspec": {
      "name": "swift",
      "display_name": "Swift"
    }
  },
  "cells": [
    {
      "cell_type": "markdown",
      "metadata": {
        "id": "view-in-github",
        "colab_type": "text"
      },
      "source": [
        "<a href=\"https://colab.research.google.com/github/JacopoMangiavacchi/Swift-TensorFlow-Sample-Notebooks/blob/master/LinearRegression_MultiVariable_Swift_TensorFlow.ipynb\" target=\"_parent\"><img src=\"https://colab.research.google.com/assets/colab-badge.svg\" alt=\"Open In Colab\"/></a>"
      ]
    },
    {
      "metadata": {
        "id": "TgiX5mzQ5vTd",
        "colab_type": "code",
        "colab": {}
      },
      "cell_type": "code",
      "source": [
        "import Python\n",
        "\n",
        "func getArrayDataset() -> ([[Float]], [Float]) {\n",
        "    let np = Python.import(\"numpy\")\n",
        "    let pd = Python.import(\"pandas\")\n",
        "    let io = Python.import(\"io\")\n",
        "    let requests = Python.import(\"requests\")\n",
        "\n",
        "    let url=\"https://raw.githubusercontent.com/Dataweekends/zero_to_deep_learning_video/master/data/weight-height.csv\"\n",
        "    let s = requests.get(url).content\n",
        "    let df = pd.read_csv(io.StringIO(s.decode(\"utf-8\")))\n",
        "\n",
        "    let dummies = pd.get_dummies(df[[\"Gender\"]])\n",
        "    let trasnformed = pd.concat([df[[\"Height\", \"Weight\"]], dummies], 1)\n",
        "    // print(trasnformed)\n",
        "\n",
        "    let X1 = trasnformed[[\"Height\"]].values\n",
        "    let X2 = trasnformed[[\"Gender_Female\"]].values\n",
        "    let X3 = trasnformed[[\"Gender_Male\"]].values\n",
        "    let Y = trasnformed[[\"Weight\"]].values\n",
        "  \n",
        "    let x1Array = X1.tolist().flatMap{ $0.map{ Float($0)! }}\n",
        "    let x2Array = X2.tolist().flatMap{ $0.map{ Float($0)! }}\n",
        "    let x3Array = X3.tolist().flatMap{ $0.map{ Float($0)! }}\n",
        "    let yArray = Y.tolist().flatMap{ $0.map{ Float($0)! }}\n",
        "  \n",
        "    return ([x1Array, x2Array, x3Array], yArray)\n",
        "}"
      ],
      "execution_count": 0,
      "outputs": []
    },
    {
      "metadata": {
        "id": "jOX8dO5YPtd6",
        "colab_type": "code",
        "colab": {}
      },
      "cell_type": "code",
      "source": [
        "func minMaxNormalized<T: BinaryFloatingPoint>(_ vector : [T]) -> [T] {\n",
        "    guard let (min, max) = minimumMaximum(vector) else { return vector }\n",
        "    return vector.map{ ($0 - min) / (max - min) }\n",
        "}\n",
        "\n",
        "func minimumMaximum<T: Comparable>(_ vector: [T]) -> (minimum: T, maximum: T)? {\n",
        "    guard var minimum = vector.first else { return nil }\n",
        "    var maximum = minimum\n",
        "\n",
        "    let start = vector.count % 2\n",
        "    for i in stride(from: start, to: vector.count, by: 2) {\n",
        "        let (first, second) = (vector[i], vector[i+1])\n",
        "\n",
        "        if first > second {\n",
        "            if first > maximum {\n",
        "                maximum = first\n",
        "            }\n",
        "            if second < minimum {\n",
        "                minimum = second\n",
        "            }\n",
        "        } else {\n",
        "            if second > maximum {\n",
        "                maximum = second\n",
        "            }\n",
        "            if first < minimum {\n",
        "                minimum = first\n",
        "            }\n",
        "        }\n",
        "    }\n",
        "\n",
        "    return (minimum, maximum)\n",
        "}"
      ],
      "execution_count": 0,
      "outputs": []
    },
    {
      "metadata": {
        "id": "gPWmhInLNAXa",
        "colab_type": "code",
        "colab": {}
      },
      "cell_type": "code",
      "source": [
        "let (xArray, yVector) = getArrayDataset()\n",
        "\n",
        "let yNormalizedVector = minMaxNormalized(yVector)\n",
        "let xNormalizedArray = [minMaxNormalized(xArray[0]), xArray[1], xArray[2]]\n",
        "\n",
        "let count = xNormalizedArray[0].count * 3\n",
        "var xNormalizedVector = [Float](repeating: 0, count: count)\n",
        "\n",
        "for i in stride(from: 0, to: count, by: 3) {\n",
        "    xNormalizedVector[i] = xNormalizedArray[0][i/3]\n",
        "    xNormalizedVector[i+1] = xNormalizedArray[1][i/3]\n",
        "    xNormalizedVector[i+2] = xNormalizedArray[2][i/3]\n",
        "}"
      ],
      "execution_count": 0,
      "outputs": []
    },
    {
      "metadata": {
        "id": "kZRlD4utdPuX",
        "colab_type": "code",
        "colab": {}
      },
      "cell_type": "code",
      "source": [
        "import TensorFlow"
      ],
      "execution_count": 0,
      "outputs": []
    },
    {
      "metadata": {
        "id": "_e1hzXeb8J5d",
        "colab_type": "code",
        "colab": {}
      },
      "cell_type": "code",
      "source": [
        "@differentiable()\n",
        "func linear(input: Tensor<Float>) -> Tensor<Float> {\n",
        "    return input\n",
        "}\n",
        "\n",
        "struct LinearRegression: Layer {\n",
        "    var l1: Dense<Float>\n",
        "    init(variables: Int = 1) {\n",
        "        l1 = Dense<Float>(inputSize: variables, outputSize: 1, activation: linear)\n",
        "    }\n",
        "    \n",
        "    @differentiable(wrt: (self, input))\n",
        "    func applied(to input: Tensor<Float>) -> Tensor<Float> {\n",
        "        return l1.applied(to: input)\n",
        "    }\n",
        "}"
      ],
      "execution_count": 0,
      "outputs": []
    },
    {
      "metadata": {
        "id": "JdGxV6K2VZ2X",
        "colab_type": "code",
        "outputId": "cdd109c6-b5be-4014-efb7-736512f256ff",
        "colab": {
          "base_uri": "https://localhost:8080/",
          "height": 51
        }
      },
      "cell_type": "code",
      "source": [
        "let x = Tensor<Float>(shape: [Int32(10000), 3], scalars: xNormalizedVector)\n",
        "let y = Tensor<Float>(shape: [Int32(10000), 1], scalars: yNormalizedVector)\n",
        "\n",
        "print(x.shape)\n",
        "print(y.shape)"
      ],
      "execution_count": 6,
      "outputs": [
        {
          "output_type": "stream",
          "text": [
            "TensorShape(dimensions: [10000, 3])\r\n",
            "TensorShape(dimensions: [10000, 1])\r\n"
          ],
          "name": "stdout"
        }
      ]
    },
    {
      "metadata": {
        "id": "OkEgM40GQGKG",
        "colab_type": "code",
        "outputId": "3b725daa-9834-4f78-b922-137453197b85",
        "colab": {
          "base_uri": "https://localhost:8080/",
          "height": 357
        }
      },
      "cell_type": "code",
      "source": [
        "let optimizer = SGD<LinearRegression, Float>(learningRate: 0.03)\n",
        "var model = LinearRegression(variables: 3)\n",
        "\n",
        "\n",
        "for epoch in 1...2000 {\n",
        "    let (cost, 𝛁model) = model.valueWithGradient { m -> Tensor<Float> in\n",
        "        let ŷ = m.applied(to: x)\n",
        "        return meanSquaredError(predicted: ŷ, expected: y)\n",
        "    }\n",
        "    optimizer.update(&model.allDifferentiableVariables, along: 𝛁model)\n",
        "  \n",
        "    if epoch % 100 == 0 {\n",
        "        print(\"Epoch: \\(epoch) Cost: \\(cost)\")\n",
        "    }\n",
        "}"
      ],
      "execution_count": 7,
      "outputs": [
        {
          "output_type": "stream",
          "text": [
            "Epoch: 100 Cost: 0.002407352\n",
            "Epoch: 200 Cost: 0.0023789632\n",
            "Epoch: 300 Cost: 0.002378894\n",
            "Epoch: 400 Cost: 0.002378883\n",
            "Epoch: 500 Cost: 0.0023788742\n",
            "Epoch: 600 Cost: 0.0023788663\n",
            "Epoch: 700 Cost: 0.0023788589\n",
            "Epoch: 800 Cost: 0.0023788523\n",
            "Epoch: 900 Cost: 0.0023788468\n",
            "Epoch: 1000 Cost: 0.0023788419\n",
            "Epoch: 1100 Cost: 0.0023788377\n",
            "Epoch: 1200 Cost: 0.0023788342\n",
            "Epoch: 1300 Cost: 0.00237883\n",
            "Epoch: 1400 Cost: 0.002378828\n",
            "Epoch: 1500 Cost: 0.002378825\n",
            "Epoch: 1600 Cost: 0.0023788228\n",
            "Epoch: 1700 Cost: 0.002378821\n",
            "Epoch: 1800 Cost: 0.0023788193\n",
            "Epoch: 1900 Cost: 0.0023788174\n",
            "Epoch: 2000 Cost: 0.0023788156\n"
          ],
          "name": "stdout"
        }
      ]
    },
    {
      "metadata": {
        "id": "LOmonwRSVqui",
        "colab_type": "code",
        "outputId": "b465c8b8-94bf-4bea-d62a-5d7197f21a29",
        "colab": {
          "base_uri": "https://localhost:8080/",
          "height": 34
        }
      },
      "cell_type": "code",
      "source": [
        "print(model.applied(to: [[0.7, 0, 1]]))  //Height, Female, Male"
      ],
      "execution_count": 8,
      "outputs": [
        {
          "output_type": "stream",
          "text": [
            "[[0.6700497]]\r\n"
          ],
          "name": "stdout"
        }
      ]
    }
  ]
}