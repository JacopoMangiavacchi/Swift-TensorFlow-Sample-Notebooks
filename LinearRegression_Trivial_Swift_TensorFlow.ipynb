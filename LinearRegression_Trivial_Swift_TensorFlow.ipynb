{
  "nbformat": 4,
  "nbformat_minor": 0,
  "metadata": {
    "colab": {
      "name": "blank_swift.ipynb",
      "version": "0.3.2",
      "provenance": [],
      "collapsed_sections": [],
      "include_colab_link": true
    },
    "kernelspec": {
      "name": "swift",
      "display_name": "Swift"
    }
  },
  "cells": [
    {
      "cell_type": "markdown",
      "metadata": {
        "id": "view-in-github",
        "colab_type": "text"
      },
      "source": [
        "<a href=\"https://colab.research.google.com/github/JacopoMangiavacchi/SwiftTensorFlowColabNotebook/blob/master/LinearRegression_Swift_TensorFlow.ipynb\" target=\"_parent\"><img src=\"https://colab.research.google.com/assets/colab-badge.svg\" alt=\"Open In Colab\"/></a>"
      ]
    },
    {
      "metadata": {
        "id": "kZRlD4utdPuX",
        "colab_type": "code",
        "colab": {}
      },
      "cell_type": "code",
      "source": [
        "import TensorFlow"
      ],
      "execution_count": 0,
      "outputs": []
    },
    {
      "metadata": {
        "id": "_e1hzXeb8J5d",
        "colab_type": "code",
        "colab": {}
      },
      "cell_type": "code",
      "source": [
        "@differentiable()\n",
        "func linear(input: Tensor<Float>) -> Tensor<Float> {\n",
        "    return input\n",
        "}\n",
        "\n",
        "struct LinearRegression: Layer {\n",
        "    var l1: Dense<Float>\n",
        "    init(variables: Int = 1) {\n",
        "        l1 = Dense<Float>(inputSize: variables, outputSize: 1, activation: linear)\n",
        "    }\n",
        "    \n",
        "    @differentiable(wrt: (self, input))\n",
        "    func applied(to input: Tensor<Float>) -> Tensor<Float> {\n",
        "        return l1.applied(to: input)\n",
        "    }\n",
        "}"
      ],
      "execution_count": 0,
      "outputs": []
    },
    {
      "metadata": {
        "id": "JdGxV6K2VZ2X",
        "colab_type": "code",
        "colab": {}
      },
      "cell_type": "code",
      "source": [
        "let trainingSize = Int32(1000)\n",
        "let a: Float = -1.5\n",
        "let b: Float = 2\n",
        "func y(_ x: Float) -> Float {\n",
        "    return a + (b * x)\n",
        "}\n",
        "\n",
        "var xScalar:[Float] = []\n",
        "var yScalar:[Float] = []\n",
        "\n",
        "for _ in 0..<trainingSize {\n",
        "    let r = Float.random(in: 0...1)\n",
        "    xScalar.append(r)\n",
        "    yScalar.append(y(r))\n",
        "}\n",
        "\n",
        "let x = Tensor<Float>(shape: [trainingSize, 1], scalars: xScalar)\n",
        "let y = Tensor<Float>(shape: [trainingSize, 1], scalars: yScalar)"
      ],
      "execution_count": 0,
      "outputs": []
    },
    {
      "metadata": {
        "id": "OkEgM40GQGKG",
        "colab_type": "code",
        "colab": {
          "base_uri": "https://localhost:8080/",
          "height": 357
        },
        "outputId": "786bcc1c-1ab5-423e-bffd-7bbdb6c799b9"
      },
      "cell_type": "code",
      "source": [
        "let optimizer = SGD<LinearRegression, Float>(learningRate: 0.03)\n",
        "var model = LinearRegression()\n",
        "\n",
        "\n",
        "for epoch in 1...2000 {\n",
        "    let (cost, 𝛁model) = model.valueWithGradient { m -> Tensor<Float> in\n",
        "        let ŷ = m.applied(to: x)\n",
        "        return meanSquaredError(predicted: ŷ, expected: y)\n",
        "    }\n",
        "    optimizer.update(&model.allDifferentiableVariables, along: 𝛁model)\n",
        "  \n",
        "    if epoch % 100 == 0 {\n",
        "        print(\"Epoch: \\(epoch) Cost: \\(cost)\")\n",
        "    }\n",
        "}"
      ],
      "execution_count": 337,
      "outputs": [
        {
          "output_type": "stream",
          "text": [
            "Epoch: 100 Cost: 0.30576774\r\n",
            "Epoch: 200 Cost: 0.13721937\n",
            "Epoch: 300 Cost: 0.061579976\n",
            "Epoch: 400 Cost: 0.02763527\n",
            "Epoch: 500 Cost: 0.012401864\n",
            "Epoch: 600 Cost: 0.0055656126\n",
            "Epoch: 700 Cost: 0.0024976807\n",
            "Epoch: 800 Cost: 0.0011208763\n",
            "Epoch: 900 Cost: 0.00050301757\n",
            "Epoch: 1000 Cost: 0.00022573883\n",
            "Epoch: 1100 Cost: 0.00010130478\n",
            "Epoch: 1200 Cost: 4.5464272e-05\n",
            "Epoch: 1300 Cost: 2.0403037e-05\n",
            "Epoch: 1400 Cost: 9.155797e-06\n",
            "Epoch: 1500 Cost: 4.108066e-06\n",
            "Epoch: 1600 Cost: 1.8433888e-06\n",
            "Epoch: 1700 Cost: 8.272943e-07\n",
            "Epoch: 1800 Cost: 3.712682e-07\n",
            "Epoch: 1900 Cost: 1.6668803e-07\n",
            "Epoch: 2000 Cost: 7.4842056e-08\n"
          ],
          "name": "stdout"
        }
      ]
    },
    {
      "metadata": {
        "id": "LOmonwRSVqui",
        "colab_type": "code",
        "outputId": "fb4f4e2d-949f-43e4-e996-7687aa9bb6df",
        "colab": {
          "base_uri": "https://localhost:8080/",
          "height": 34
        }
      },
      "cell_type": "code",
      "source": [
        "print(model.applied(to: [[0], [1], [2], [3], [4], [5], [6], [7], [8], [9]]))"
      ],
      "execution_count": 338,
      "outputs": [
        {
          "output_type": "stream",
          "text": [
            "[[-1.4995017], [0.49956775], [2.4986372], [4.497707], [6.496776], [8.495846], [10.494915], [12.493984], [14.493053], [16.492123]]\r\n"
          ],
          "name": "stdout"
        }
      ]
    }
  ]
}
