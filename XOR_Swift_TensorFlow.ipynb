{
  "nbformat": 4,
  "nbformat_minor": 0,
  "metadata": {
    "colab": {
      "name": "blank_swift.ipynb",
      "version": "0.3.2",
      "provenance": [],
      "collapsed_sections": [],
      "include_colab_link": true
    },
    "kernelspec": {
      "name": "swift",
      "display_name": "Swift"
    }
  },
  "cells": [
    {
      "cell_type": "markdown",
      "metadata": {
        "id": "view-in-github",
        "colab_type": "text"
      },
      "source": [
        "<a href=\"https://colab.research.google.com/github/JacopoMangiavacchi/Swift-TensorFlow-Sample-Notebooks/blob/master/XOR_Swift_TensorFlow.ipynb\" target=\"_parent\"><img src=\"https://colab.research.google.com/assets/colab-badge.svg\" alt=\"Open In Colab\"/></a>"
      ]
    },
    {
      "metadata": {
        "id": "kZRlD4utdPuX",
        "colab_type": "code",
        "colab": {}
      },
      "cell_type": "code",
      "source": [
        "import TensorFlow"
      ],
      "execution_count": 0,
      "outputs": []
    },
    {
      "metadata": {
        "id": "_e1hzXeb8J5d",
        "colab_type": "code",
        "colab": {}
      },
      "cell_type": "code",
      "source": [
        "struct Model: Layer {\n",
        "    var l1, l2: Dense<Float>\n",
        "    init(hiddenSize: Int) {\n",
        "        l1 = Dense<Float>(inputSize: 2, outputSize: hiddenSize, activation: relu)\n",
        "        l2 = Dense<Float>(inputSize: hiddenSize, outputSize: 1, activation: sigmoid)\n",
        "    }\n",
        "    \n",
        "    @differentiable(wrt: (self, input))\n",
        "    func applied(to input: Tensor<Float>) -> Tensor<Float> {\n",
        "        let h1 = l1.applied(to: input)\n",
        "        return l2.applied(to: h1)\n",
        "    }\n",
        "}"
      ],
      "execution_count": 0,
      "outputs": []
    },
    {
      "metadata": {
        "id": "JdGxV6K2VZ2X",
        "colab_type": "code",
        "outputId": "c57f0c59-618f-49c4-b7f5-0af0e39b40c0",
        "colab": {
          "base_uri": "https://localhost:8080/",
          "height": 187
        }
      },
      "cell_type": "code",
      "source": [
        "let optimizer = SGD<Model, Float>(learningRate: 0.1)\n",
        "var model = Model(hiddenSize: 2)\n",
        "let x: Tensor<Float> = [[0, 0], [0, 1], [1, 0], [1, 1]]\n",
        "let y: Tensor<Float> = [[0], [1], [1], [0]]\n",
        "\n",
        "for epoch in 1...1000 {\n",
        "    let (cost, 𝛁model) = model.valueWithGradient { m -> Tensor<Float> in\n",
        "        let ŷ = m.applied(to: x)\n",
        "        return meanSquaredError(predicted: ŷ, expected: y)\n",
        "    }\n",
        "    optimizer.update(&model.allDifferentiableVariables, along: 𝛁model)\n",
        "  \n",
        "    if epoch % 100 == 0 {\n",
        "        print(\"Epoch: \\(epoch) Cost: \\(cost)\")\n",
        "    }\n",
        "}"
      ],
      "execution_count": 3,
      "outputs": [
        {
          "output_type": "stream",
          "text": [
            "Epoch: 100 Cost: 0.21561432\n",
            "Epoch: 200 Cost: 0.18681651\n",
            "Epoch: 300 Cost: 0.16362533\n",
            "Epoch: 400 Cost: 0.14416629\n",
            "Epoch: 500 Cost: 0.12533225\n",
            "Epoch: 600 Cost: 0.10581136\n",
            "Epoch: 700 Cost: 0.08613548\n",
            "Epoch: 800 Cost: 0.06837691\n",
            "Epoch: 900 Cost: 0.053941596\n",
            "Epoch: 1000 Cost: 0.042640075\n"
          ],
          "name": "stdout"
        }
      ]
    },
    {
      "metadata": {
        "id": "q6ry4fK9Cf9v",
        "colab_type": "code",
        "colab": {}
      },
      "cell_type": "code",
      "source": [
        "// Temporary implement round() here as we're not using last S4TF toolchain\n",
        "// Rounds the values of a tensor to the nearest integer, element-wise.\n",
        "public func round<Scalar: BinaryFloatingPoint>(_ x: Tensor<Scalar>) -> Tensor<Scalar> {\n",
        "    return Raw.round(x)\n",
        "}"
      ],
      "execution_count": 0,
      "outputs": []
    },
    {
      "metadata": {
        "id": "LOmonwRSVqui",
        "colab_type": "code",
        "outputId": "bc422137-e1bc-4cc8-bc61-c30cbf1addc3",
        "colab": {
          "base_uri": "https://localhost:8080/",
          "height": 34
        }
      },
      "cell_type": "code",
      "source": [
        "print(round(model.applied(to: [[0, 0], [0, 1], [1, 0], [1, 1]])))"
      ],
      "execution_count": 5,
      "outputs": [
        {
          "output_type": "stream",
          "text": [
            "[[0.0], [1.0], [1.0], [0.0]]\r\n"
          ],
          "name": "stdout"
        }
      ]
    }
  ]
}