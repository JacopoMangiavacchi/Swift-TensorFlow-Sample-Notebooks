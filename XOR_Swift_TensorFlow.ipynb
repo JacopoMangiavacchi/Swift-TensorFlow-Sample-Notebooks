{
  "nbformat": 4,
  "nbformat_minor": 0,
  "metadata": {
    "colab": {
      "name": "blank_swift.ipynb",
      "version": "0.3.2",
      "provenance": [],
      "collapsed_sections": [],
      "include_colab_link": true
    },
    "kernelspec": {
      "name": "swift",
      "display_name": "Swift"
    }
  },
  "cells": [
    {
      "cell_type": "markdown",
      "metadata": {
        "id": "view-in-github",
        "colab_type": "text"
      },
      "source": [
        "<a href=\"https://colab.research.google.com/github/JacopoMangiavacchi/SwiftTensorFlowColabNotebook/blob/master/XOR_Swift_TensorFlow.ipynb\" target=\"_parent\"><img src=\"https://colab.research.google.com/assets/colab-badge.svg\" alt=\"Open In Colab\"/></a>"
      ]
    },
    {
      "metadata": {
        "id": "kZRlD4utdPuX",
        "colab_type": "code",
        "colab": {}
      },
      "cell_type": "code",
      "source": [
        "import TensorFlow"
      ],
      "execution_count": 0,
      "outputs": []
    },
    {
      "metadata": {
        "id": "_e1hzXeb8J5d",
        "colab_type": "code",
        "colab": {}
      },
      "cell_type": "code",
      "source": [
        "struct Model: Layer {\n",
        "    var l1, l2: Dense<Float>\n",
        "    init(hiddenSize: Int) {\n",
        "        l1 = Dense<Float>(inputSize: 2, outputSize: hiddenSize, activation: relu)\n",
        "        l2 = Dense<Float>(inputSize: hiddenSize, outputSize: 1, activation: sigmoid)\n",
        "    }\n",
        "    \n",
        "    @differentiable(wrt: (self, input))\n",
        "    func applied(to input: Tensor<Float>) -> Tensor<Float> {\n",
        "        let h1 = l1.applied(to: input)\n",
        "        return l2.applied(to: h1)\n",
        "    }\n",
        "}"
      ],
      "execution_count": 0,
      "outputs": []
    },
    {
      "metadata": {
        "id": "JdGxV6K2VZ2X",
        "colab_type": "code",
        "outputId": "80d20012-0b7d-4357-e220-6fca72da386b",
        "colab": {
          "base_uri": "https://localhost:8080/",
          "height": 187
        }
      },
      "cell_type": "code",
      "source": [
        "let optimizer = SGD<Model, Float>(learningRate: 0.1)\n",
        "var model = Model(hiddenSize: 10)\n",
        "let x: Tensor<Float> = [[0, 0], [0, 1], [1, 0], [1, 1]]\n",
        "let y: Tensor<Float> = [[0], [1], [1], [0]]\n",
        "\n",
        "for epoch in 1...1000 {\n",
        "    let (cost, 𝛁model) = model.valueWithGradient { m -> Tensor<Float> in\n",
        "        let ŷ = m.applied(to: x)\n",
        "        return meanSquaredError(predicted: ŷ, expected: y)\n",
        "    }\n",
        "    optimizer.update(&model.allDifferentiableVariables, along: 𝛁model)\n",
        "  \n",
        "    if epoch % 100 == 0 {\n",
        "        print(\"Epoch: \\(epoch) Cost: \\(cost)\")\n",
        "    }\n",
        "}"
      ],
      "execution_count": 7,
      "outputs": [
        {
          "output_type": "stream",
          "text": [
            "Epoch: 100 Cost: 0.23293285\n",
            "Epoch: 200 Cost: 0.21212795\n",
            "Epoch: 300 Cost: 0.18467566\n",
            "Epoch: 400 Cost: 0.15301824\n",
            "Epoch: 500 Cost: 0.1214909\n",
            "Epoch: 600 Cost: 0.093688615\n",
            "Epoch: 700 Cost: 0.07124306\n",
            "Epoch: 800 Cost: 0.054183617\n",
            "Epoch: 900 Cost: 0.041762162\n",
            "Epoch: 1000 Cost: 0.032745235\n"
          ],
          "name": "stdout"
        }
      ]
    },
    {
      "metadata": {
        "id": "LOmonwRSVqui",
        "colab_type": "code",
        "outputId": "a933fe8c-6a64-4690-b937-0b321528f390",
        "colab": {
          "base_uri": "https://localhost:8080/",
          "height": 34
        }
      },
      "cell_type": "code",
      "source": [
        "print(model.applied(to: [[0, 0], [0, 1], [1, 0], [1, 1]]))"
      ],
      "execution_count": 8,
      "outputs": [
        {
          "output_type": "stream",
          "text": [
            "[[0.27433944], [0.83995944], [0.870377], [0.11378536]]\r\n"
          ],
          "name": "stdout"
        }
      ]
    }
  ]
}