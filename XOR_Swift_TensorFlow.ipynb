{
  "nbformat": 4,
  "nbformat_minor": 0,
  "metadata": {
    "colab": {
      "name": "blank_swift.ipynb",
      "version": "0.3.2",
      "provenance": [],
      "collapsed_sections": [],
      "include_colab_link": true
    },
    "kernelspec": {
      "name": "swift",
      "display_name": "Swift"
    }
  },
  "cells": [
    {
      "cell_type": "markdown",
      "metadata": {
        "id": "view-in-github",
        "colab_type": "text"
      },
      "source": [
        "<a href=\"https://colab.research.google.com/github/JacopoMangiavacchi/SwiftTensorFlowColabNotebook/blob/master/XOR_Swift_TensorFlow.ipynb\" target=\"_parent\"><img src=\"https://colab.research.google.com/assets/colab-badge.svg\" alt=\"Open In Colab\"/></a>"
      ]
    },
    {
      "metadata": {
        "id": "kZRlD4utdPuX",
        "colab_type": "code",
        "colab": {}
      },
      "cell_type": "code",
      "source": [
        "import TensorFlow"
      ],
      "execution_count": 0,
      "outputs": []
    },
    {
      "metadata": {
        "id": "_e1hzXeb8J5d",
        "colab_type": "code",
        "colab": {}
      },
      "cell_type": "code",
      "source": [
        "struct Model: Layer {\n",
        "    var l1, l2: Dense<Float>\n",
        "    init(hiddenSize: Int) {\n",
        "        l1 = Dense<Float>(inputSize: 2, outputSize: hiddenSize, activation: relu)\n",
        "        l2 = Dense<Float>(inputSize: hiddenSize, outputSize: 1, activation: sigmoid)\n",
        "    }\n",
        "    \n",
        "    @differentiable(wrt: (self, input))\n",
        "    func applied(to input: Tensor<Float>) -> Tensor<Float> {\n",
        "        let h1 = l1.applied(to: input)\n",
        "        return l2.applied(to: h1)\n",
        "    }\n",
        "}"
      ],
      "execution_count": 0,
      "outputs": []
    },
    {
      "metadata": {
        "id": "JdGxV6K2VZ2X",
        "colab_type": "code",
        "colab": {
          "base_uri": "https://localhost:8080/",
          "height": 187
        },
        "outputId": "73a8070d-fca0-4bb4-d2aa-4392d6d7d874"
      },
      "cell_type": "code",
      "source": [
        "let optimizer = SGD<Model, Float>(learningRate: 0.1)\n",
        "var model = Model(hiddenSize: 10)\n",
        "let x: Tensor<Float> = [[0, 0], [0, 1], [1, 0], [1, 1]]\n",
        "let y: Tensor<Float> = [0, 1, 1, 0]\n",
        "\n",
        "for epoch in 0..<1000 {\n",
        "    let (cost, 𝛁model) = model.valueWithGradient { m -> Tensor<Float> in\n",
        "        let ŷ = m.applied(to: x)\n",
        "        return meanSquaredError(predicted: ŷ, expected: y)\n",
        "    }\n",
        "    optimizer.update(&model.allDifferentiableVariables, along: 𝛁model)\n",
        "  \n",
        "    if epoch % 100 == 0 {\n",
        "        print(\"Epoch: \\(epoch) Cost: \\(cost)\")\n",
        "    }\n",
        "}"
      ],
      "execution_count": 3,
      "outputs": [
        {
          "output_type": "stream",
          "text": [
            "Epoch: 0 Cost: 0.25140655\n",
            "Epoch: 100 Cost: 0.25029948\n",
            "Epoch: 200 Cost: 0.25011358\n",
            "Epoch: 300 Cost: 0.2500527\n",
            "Epoch: 400 Cost: 0.25002775\n",
            "Epoch: 500 Cost: 0.25001568\n",
            "Epoch: 600 Cost: 0.2500092\n",
            "Epoch: 700 Cost: 0.25000554\n",
            "Epoch: 800 Cost: 0.2500034\n",
            "Epoch: 900 Cost: 0.2500021\n"
          ],
          "name": "stdout"
        }
      ]
    },
    {
      "metadata": {
        "id": "LOmonwRSVqui",
        "colab_type": "code",
        "outputId": "5b203dcb-06cc-4328-ab7b-18d5306d27ca",
        "colab": {
          "base_uri": "https://localhost:8080/",
          "height": 34
        }
      },
      "cell_type": "code",
      "source": [
        "print(model.applied(to: [[0, 0], [0, 1], [1, 0], [1, 1]]))"
      ],
      "execution_count": 4,
      "outputs": [
        {
          "output_type": "stream",
          "text": [
            "[[0.50137347], [0.4987981], [0.49915472], [0.5010639]]\r\n"
          ],
          "name": "stdout"
        }
      ]
    }
  ]
}