{
  "nbformat": 4,
  "nbformat_minor": 0,
  "metadata": {
    "colab": {
      "name": "blank_swift.ipynb",
      "version": "0.3.2",
      "provenance": [],
      "collapsed_sections": [],
      "include_colab_link": true
    },
    "kernelspec": {
      "name": "swift",
      "display_name": "Swift"
    }
  },
  "cells": [
    {
      "cell_type": "markdown",
      "metadata": {
        "id": "view-in-github",
        "colab_type": "text"
      },
      "source": [
        "<a href=\"https://colab.research.google.com/github/JacopoMangiavacchi/SwiftTensorFlowColabNotebook/blob/master/LinearRegression_MultiVariable_Swift_TensorFlow.ipynb\" target=\"_parent\"><img src=\"https://colab.research.google.com/assets/colab-badge.svg\" alt=\"Open In Colab\"/></a>"
      ]
    },
    {
      "metadata": {
        "id": "TgiX5mzQ5vTd",
        "colab_type": "code",
        "colab": {}
      },
      "cell_type": "code",
      "source": [
        "import Python\n",
        "let np = Python.import(\"numpy\")\n",
        "let pd = Python.import(\"pandas\")\n",
        "let io = Python.import(\"io\")\n",
        "let requests = Python.import(\"requests\")\n",
        "let preprocessing = Python.import(\"sklearn.preprocessing\")\n",
        "\n",
        "\n",
        "let url=\"https://raw.githubusercontent.com/Dataweekends/zero_to_deep_learning_video/master/data/weight-height.csv\"\n",
        "let s = requests.get(url).content\n",
        "let df = pd.read_csv(io.StringIO(s.decode(\"utf-8\")))\n",
        "\n",
        "let dummies = pd.get_dummies(df[[\"Gender\"]])\n",
        "let trasnformed = pd.concat([df[[\"Height\", \"Weight\"]], dummies], 1)\n",
        "// print(trasnformed)\n",
        "\n",
        "let X = trasnformed[[\"Height\",\"Gender_Female\",\"Gender_Male\"]].values\n",
        "let Y = trasnformed[[\"Weight\"]].values\n",
        "\n",
        "let scaler = preprocessing.MinMaxScaler()\n",
        "let xNP = np.array(scaler.fit_transform(X))\n",
        "let yNP = np.array(scaler.fit_transform(Y))"
      ],
      "execution_count": 0,
      "outputs": []
    },
    {
      "metadata": {
        "id": "kZRlD4utdPuX",
        "colab_type": "code",
        "colab": {}
      },
      "cell_type": "code",
      "source": [
        "import TensorFlow"
      ],
      "execution_count": 0,
      "outputs": []
    },
    {
      "metadata": {
        "id": "_e1hzXeb8J5d",
        "colab_type": "code",
        "colab": {}
      },
      "cell_type": "code",
      "source": [
        "@differentiable()\n",
        "func linear(input: Tensor<Float>) -> Tensor<Float> {\n",
        "    return input\n",
        "}\n",
        "\n",
        "struct LinearRegression: Layer {\n",
        "    var l1: Dense<Float>\n",
        "    init(variables: Int = 1) {\n",
        "        l1 = Dense<Float>(inputSize: variables, outputSize: 1, activation: linear)\n",
        "    }\n",
        "    \n",
        "    @differentiable(wrt: (self, input))\n",
        "    func applied(to input: Tensor<Float>) -> Tensor<Float> {\n",
        "        return l1.applied(to: input)\n",
        "    }\n",
        "}"
      ],
      "execution_count": 0,
      "outputs": []
    },
    {
      "metadata": {
        "id": "JdGxV6K2VZ2X",
        "colab_type": "code",
        "outputId": "e68903e7-33a1-4ba8-b372-a1e0e260403c",
        "colab": {
          "base_uri": "https://localhost:8080/",
          "height": 51
        }
      },
      "cell_type": "code",
      "source": [
        "// print(xNP.shape)\n",
        "// print(yNP.shape)\n",
        "// print(Python.isinstance(xNP,(np.ndarray)))\n",
        "\n",
        "// let x = Tensor<Float>(numpy: xNP)\n",
        "// let y = Tensor<Float>(numpy: yNP)\n",
        "\n",
        "\n",
        "let xArray = xNP.tolist().flatMap{ $0.map{ Float($0)! }}\n",
        "let yArray = yNP.tolist().flatMap{ $0.map{ Float($0)! }}\n",
        "\n",
        "let x = Tensor<Float>(shape: [Int32(10000), 3], scalars: xArray)\n",
        "let y = Tensor<Float>(shape: [Int32(10000), 1], scalars: yArray)\n",
        "\n",
        "print(x.shape)\n",
        "print(y.shape)"
      ],
      "execution_count": 444,
      "outputs": [
        {
          "output_type": "stream",
          "text": [
            "TensorShape(dimensions: [10000, 3])\r\n",
            "TensorShape(dimensions: [10000, 1])\r\n"
          ],
          "name": "stdout"
        }
      ]
    },
    {
      "metadata": {
        "id": "OkEgM40GQGKG",
        "colab_type": "code",
        "colab": {
          "base_uri": "https://localhost:8080/",
          "height": 357
        },
        "outputId": "ebed55b5-6731-4bb2-aac4-d52bdad03fa0"
      },
      "cell_type": "code",
      "source": [
        "let optimizer = SGD<LinearRegression, Float>(learningRate: 0.03)\n",
        "var model = LinearRegression(variables: 3)\n",
        "\n",
        "\n",
        "for epoch in 1...2000 {\n",
        "    let (cost, 𝛁model) = model.valueWithGradient { m -> Tensor<Float> in\n",
        "        let ŷ = m.applied(to: x)\n",
        "        return meanSquaredError(predicted: ŷ, expected: y)\n",
        "    }\n",
        "    optimizer.update(&model.allDifferentiableVariables, along: 𝛁model)\n",
        "  \n",
        "    if epoch % 100 == 0 {\n",
        "        print(\"Epoch: \\(epoch) Cost: \\(cost)\")\n",
        "    }\n",
        "}"
      ],
      "execution_count": 445,
      "outputs": [
        {
          "output_type": "stream",
          "text": [
            "Epoch: 100 Cost: 0.024107022\n",
            "Epoch: 200 Cost: 0.020814365\n",
            "Epoch: 300 Cost: 0.018596565\n",
            "Epoch: 400 Cost: 0.016646761\n",
            "Epoch: 500 Cost: 0.01493138\n",
            "Epoch: 600 Cost: 0.01342223\n",
            "Epoch: 700 Cost: 0.012094522\n",
            "Epoch: 800 Cost: 0.0109264385\n",
            "Epoch: 900 Cost: 0.009898791\n",
            "Epoch: 1000 Cost: 0.008994691\n",
            "Epoch: 1100 Cost: 0.00819929\n",
            "Epoch: 1200 Cost: 0.0074995155\n",
            "Epoch: 1300 Cost: 0.006883872\n",
            "Epoch: 1400 Cost: 0.0063422453\n",
            "Epoch: 1500 Cost: 0.005865737\n",
            "Epoch: 1600 Cost: 0.0054465174\n",
            "Epoch: 1700 Cost: 0.005077697\n",
            "Epoch: 1800 Cost: 0.0047532204\n",
            "Epoch: 1900 Cost: 0.004467753\n",
            "Epoch: 2000 Cost: 0.0042166067\n"
          ],
          "name": "stdout"
        }
      ]
    },
    {
      "metadata": {
        "id": "LOmonwRSVqui",
        "colab_type": "code",
        "outputId": "48b96b89-db82-446f-8cd5-a88a00218186",
        "colab": {
          "base_uri": "https://localhost:8080/",
          "height": 34
        }
      },
      "cell_type": "code",
      "source": [
        "print(model.applied(to: [[0.7, 0, 1]]))  //Height, Female, Male"
      ],
      "execution_count": 452,
      "outputs": [
        {
          "output_type": "stream",
          "text": [
            "[[0.6330787]]\r\n"
          ],
          "name": "stdout"
        }
      ]
    }
  ]
}
