{
  "nbformat": 4,
  "nbformat_minor": 0,
  "metadata": {
    "colab": {
      "name": "blank_swift.ipynb",
      "version": "0.3.2",
      "provenance": [],
      "collapsed_sections": [],
      "include_colab_link": true
    },
    "kernelspec": {
      "name": "swift",
      "display_name": "Swift"
    }
  },
  "cells": [
    {
      "cell_type": "markdown",
      "metadata": {
        "id": "view-in-github",
        "colab_type": "text"
      },
      "source": [
        "<a href=\"https://colab.research.google.com/github/JacopoMangiavacchi/Swift-TensorFlow-Sample-Notebooks/blob/master/LinearRegression_MultiVariable_SciKit_Normalize_Swift_TensorFlow.ipynb\" target=\"_parent\"><img src=\"https://colab.research.google.com/assets/colab-badge.svg\" alt=\"Open In Colab\"/></a>"
      ]
    },
    {
      "metadata": {
        "id": "bChC2l3EPmoi",
        "colab_type": "text"
      },
      "cell_type": "markdown",
      "source": [
        "# **Linear Regression (Width, Height, Sex)**\n",
        "\n",
        "Simple linear regression with multi-variable and categories\n",
        "\n",
        "Dataset with Height, Weight, Sex statistics from: \n",
        "\n",
        "https://raw.githubusercontent.com/Dataweekends/zero_to_deep_learning_video/master/data/weight-height.csv\n",
        "\n",
        "**Swift with SciKit Learn MinMax normalization**\n",
        "\n",
        "Use Python/Pandas to import the dataset Use SciKit Learn to normalize values with MinMax scaler"
      ]
    },
    {
      "metadata": {
        "id": "TgiX5mzQ5vTd",
        "colab_type": "code",
        "colab": {}
      },
      "cell_type": "code",
      "source": [
        "import Python\n",
        "\n",
        "func getNumpyNormalizedDataset() -> (PythonObject, PythonObject) {\n",
        "    let np = Python.import(\"numpy\")\n",
        "    let pd = Python.import(\"pandas\")\n",
        "    let io = Python.import(\"io\")\n",
        "    let requests = Python.import(\"requests\")\n",
        "    let preprocessing = Python.import(\"sklearn.preprocessing\")\n",
        "\n",
        "\n",
        "    let url=\"https://raw.githubusercontent.com/Dataweekends/zero_to_deep_learning_video/master/data/weight-height.csv\"\n",
        "    let s = requests.get(url).content\n",
        "    let df = pd.read_csv(io.StringIO(s.decode(\"utf-8\")))\n",
        "\n",
        "    let dummies = pd.get_dummies(df[[\"Gender\"]])\n",
        "    let trasnformed = pd.concat([df[[\"Height\", \"Weight\"]], dummies], 1)\n",
        "    // print(trasnformed)\n",
        "\n",
        "    let X = trasnformed[[\"Height\",\"Gender_Female\",\"Gender_Male\"]].values\n",
        "    let Y = trasnformed[[\"Weight\"]].values\n",
        "\n",
        "    let scaler = preprocessing.MinMaxScaler()\n",
        "    let xNP = np.array(scaler.fit_transform(X))\n",
        "    let yNP = np.array(scaler.fit_transform(Y))  \n",
        "    \n",
        "    return (xNP, yNP)\n",
        "}"
      ],
      "execution_count": 0,
      "outputs": []
    },
    {
      "metadata": {
        "id": "_e1hzXeb8J5d",
        "colab_type": "code",
        "colab": {}
      },
      "cell_type": "code",
      "source": [
        "import TensorFlow\n",
        "\n",
        "@differentiable()\n",
        "func linear(input: Tensor<Float>) -> Tensor<Float> {\n",
        "    return input\n",
        "}\n",
        "\n",
        "struct LinearRegression: Layer {\n",
        "    var l1: Dense<Float>\n",
        "    init(variables: Int = 1) {\n",
        "        l1 = Dense<Float>(inputSize: variables, outputSize: 1, activation: linear)\n",
        "    }\n",
        "    \n",
        "    @differentiable(wrt: (self, input))\n",
        "    func applied(to input: Tensor<Float>, in context: Context) -> Tensor<Float> {\n",
        "        return l1.applied(to: input, in: context)\n",
        "    }\n",
        "}"
      ],
      "execution_count": 0,
      "outputs": []
    },
    {
      "metadata": {
        "id": "JdGxV6K2VZ2X",
        "colab_type": "code",
        "outputId": "ab040e2b-7c38-4c2f-86e4-f4429bb4aec0",
        "colab": {
          "base_uri": "https://localhost:8080/",
          "height": 51
        }
      },
      "cell_type": "code",
      "source": [
        "let (xNP, yNP) = getNumpyNormalizedDataset()\n",
        "// print(xNP.shape)\n",
        "// print(yNP.shape)\n",
        "// print(Python.isinstance(xNP,(np.ndarray)))\n",
        "\n",
        "// let x = Tensor<Float>(numpy: xNP)\n",
        "// let y = Tensor<Float>(numpy: yNP)\n",
        "\n",
        "\n",
        "let xArray = xNP.tolist().flatMap{ $0.map{ Float($0)! }}\n",
        "let yArray = yNP.tolist().flatMap{ $0.map{ Float($0)! }}\n",
        "\n",
        "let x = Tensor<Float>(shape: [Int32(10000), 3], scalars: xArray)\n",
        "let y = Tensor<Float>(shape: [Int32(10000), 1], scalars: yArray)\n",
        "\n",
        "print(x.shape)\n",
        "print(y.shape)"
      ],
      "execution_count": 0,
      "outputs": [
        {
          "output_type": "stream",
          "text": [
            "TensorShape(dimensions: [10000, 3])\r\n",
            "TensorShape(dimensions: [10000, 1])\r\n"
          ],
          "name": "stdout"
        }
      ]
    },
    {
      "metadata": {
        "id": "OkEgM40GQGKG",
        "colab_type": "code",
        "outputId": "37635d3f-951f-4484-9910-800fe80a68a1",
        "colab": {
          "base_uri": "https://localhost:8080/",
          "height": 357
        }
      },
      "cell_type": "code",
      "source": [
        "let optimizer = SGD<LinearRegression, Float>(learningRate: 0.03)\n",
        "var model = LinearRegression(variables: 3)\n",
        "\n",
        "let trainingContext = Context(learningPhase: .training)\n",
        "for epoch in 1...2000 {\n",
        "    let (cost, 𝛁model) = model.valueWithGradient { m -> Tensor<Float> in\n",
        "        let ŷ = m.applied(to: x, in: trainingContext)\n",
        "        return meanSquaredError(predicted: ŷ, expected: y)\n",
        "    }\n",
        "    optimizer.update(&model.allDifferentiableVariables, along: 𝛁model)\n",
        "  \n",
        "    if epoch % 100 == 0 {\n",
        "        print(\"Epoch: \\(epoch) Cost: \\(cost)\")\n",
        "    }\n",
        "}"
      ],
      "execution_count": 0,
      "outputs": [
        {
          "output_type": "stream",
          "text": [
            "Epoch: 100 Cost: 0.019389413\n",
            "Epoch: 200 Cost: 0.016790783\n",
            "Epoch: 300 Cost: 0.015056973\n",
            "Epoch: 400 Cost: 0.013532722\n",
            "Epoch: 500 Cost: 0.01219173\n",
            "Epoch: 600 Cost: 0.011011955\n",
            "Epoch: 700 Cost: 0.009974026\n",
            "Epoch: 800 Cost: 0.009060881\n",
            "Epoch: 900 Cost: 0.008257522\n",
            "Epoch: 1000 Cost: 0.0075507485\n",
            "Epoch: 1100 Cost: 0.0069289436\n",
            "Epoch: 1200 Cost: 0.006381898\n",
            "Epoch: 1300 Cost: 0.005900621\n",
            "Epoch: 1400 Cost: 0.005477206\n",
            "Epoch: 1500 Cost: 0.005104698\n",
            "Epoch: 1600 Cost: 0.0047769747\n",
            "Epoch: 1700 Cost: 0.0044886507\n",
            "Epoch: 1800 Cost: 0.0042349915\n",
            "Epoch: 1900 Cost: 0.004011831\n",
            "Epoch: 2000 Cost: 0.0038154984\n"
          ],
          "name": "stdout"
        }
      ]
    },
    {
      "metadata": {
        "id": "LOmonwRSVqui",
        "colab_type": "code",
        "outputId": "b3749a60-c15f-4e76-fb61-6ca2140a308a",
        "colab": {
          "base_uri": "https://localhost:8080/",
          "height": 34
        }
      },
      "cell_type": "code",
      "source": [
        "print(model.applied(to: [[0.7, 0, 1]]))  //Height, Female, Male"
      ],
      "execution_count": 0,
      "outputs": [
        {
          "output_type": "stream",
          "text": [
            "[[0.6373713]]\r\n"
          ],
          "name": "stdout"
        }
      ]
    }
  ]
}