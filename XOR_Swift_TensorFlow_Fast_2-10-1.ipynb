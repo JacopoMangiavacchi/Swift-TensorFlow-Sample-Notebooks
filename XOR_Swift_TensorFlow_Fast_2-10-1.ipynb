{
  "nbformat": 4,
  "nbformat_minor": 0,
  "metadata": {
    "colab": {
      "name": "blank_swift.ipynb",
      "version": "0.3.2",
      "provenance": [],
      "collapsed_sections": [],
      "include_colab_link": true
    },
    "kernelspec": {
      "name": "swift",
      "display_name": "Swift"
    }
  },
  "cells": [
    {
      "cell_type": "markdown",
      "metadata": {
        "id": "view-in-github",
        "colab_type": "text"
      },
      "source": [
        "<a href=\"https://colab.research.google.com/github/JacopoMangiavacchi/Swift-TensorFlow-Sample-Notebooks/blob/master/XOR_Swift_TensorFlow_Fast_2-10-1.ipynb\" target=\"_parent\"><img src=\"https://colab.research.google.com/assets/colab-badge.svg\" alt=\"Open In Colab\"/></a>"
      ]
    },
    {
      "metadata": {
        "id": "kZRlD4utdPuX",
        "colab_type": "code",
        "colab": {}
      },
      "cell_type": "code",
      "source": [
        "import TensorFlow"
      ],
      "execution_count": 0,
      "outputs": []
    },
    {
      "metadata": {
        "id": "_e1hzXeb8J5d",
        "colab_type": "code",
        "colab": {}
      },
      "cell_type": "code",
      "source": [
        "struct XOR: Layer {\n",
        "    var l1, l2: Dense<Float>\n",
        "    init() {\n",
        "        l1 = Dense<Float>(\n",
        "            inputSize: 2,\n",
        "            outputSize: 10,\n",
        "            activation: relu,\n",
        "            seed: (0xfffffff, 0xfeeff)\n",
        "        )\n",
        "        l2 = Dense<Float>(\n",
        "            inputSize: 10,\n",
        "            outputSize: 1,\n",
        "            activation: relu,\n",
        "            seed: (0xfeffeffe, 0xfffe)\n",
        "        )\n",
        "    }\n",
        "  \n",
        "    @differentiable\n",
        "    func applied(to input: Tensor<Float>, in context: Context) -> Tensor<Float> {\n",
        "        let h1 = l1.applied(to: input, in: context)\n",
        "        return l2.applied(to: h1, in: context)\n",
        "    }\n",
        "}"
      ],
      "execution_count": 0,
      "outputs": []
    },
    {
      "metadata": {
        "id": "JdGxV6K2VZ2X",
        "colab_type": "code",
        "colab": {}
      },
      "cell_type": "code",
      "source": [
        "var model = XOR()\n",
        "let optimizer = SGD(for: model, learningRate: 0.03, scalarType: Float.self)\n",
        "\n",
        "let x: Tensor<Float> = [[0, 0], [0, 1], [1, 0], [1, 1]]\n",
        "let y: Tensor<Float> = [[0], [1], [1], [0]]\n",
        "\n",
        "let trainingContext = Context(learningPhase: .training)\n",
        "for epoch in 1...1000 {\n",
        "    let 𝛁model = model.gradient { m -> Tensor<Float> in\n",
        "        let ŷ = m.applied(to: x, in: trainingContext)\n",
        "        return meanSquaredError(predicted: ŷ, expected: y)\n",
        "    }\n",
        "    optimizer.update(&model.allDifferentiableVariables, along: 𝛁model)\n",
        "}"
      ],
      "execution_count": 0,
      "outputs": []
    },
    {
      "metadata": {
        "id": "LOmonwRSVqui",
        "colab_type": "code",
        "outputId": "835a2d03-7e8e-4903-888f-15d5e9a7f10b",
        "colab": {
          "base_uri": "https://localhost:8080/",
          "height": 34
        }
      },
      "cell_type": "code",
      "source": [
        "print(round(model.inferring(from: [[0, 0], [0, 1], [1, 0], [1, 1]])))"
      ],
      "execution_count": 4,
      "outputs": [
        {
          "output_type": "stream",
          "text": [
            "[[0.0], [1.0], [1.0], [0.0]]\r\n"
          ],
          "name": "stdout"
        }
      ]
    },
    {
      "metadata": {
        "id": "Kzi0wSSboVC0",
        "colab_type": "code",
        "colab": {
          "base_uri": "https://localhost:8080/",
          "height": 74
        },
        "outputId": "9d30cb2c-4cf9-41c2-9edf-3346526c0236"
      },
      "cell_type": "code",
      "source": [
        "print(model)"
      ],
      "execution_count": 5,
      "outputs": [
        {
          "output_type": "stream",
          "text": [
            "XOR(l1: TensorFlow.Dense<Swift.Float>(weight: [[-0.6430484, -0.006845154, 0.15502183, -0.15306444, 0.023470154, -0.06308928, 0.21356016, 0.028444273, -0.5117605, 0.900456], [0.64849, -0.06420381, 0.17531295, 0.34221375, -0.69475216, -0.6388112, 0.21544898, -0.32061544, 0.5157353, -0.89359885]], bias: [4.733124e-07, 0.0, -0.08821706, -1.6009997e-06, -0.02507543, 0.0, -0.21492144, -0.033098552, -2.4566043e-06, -1.0518217e-05], activation: (Function)), l2: TensorFlow.Dense<Swift.Float>(weight: [[0.86244786], [-0.29146093], [-0.11554975], [0.35523173], [-0.3281893], [0.6970284], [-0.26027703], [-0.25837126], [0.6338912], [1.1163903]], bias: [0.0018430026], activation: (Function)))\r\n"
          ],
          "name": "stdout"
        }
      ]
    }
  ]
}