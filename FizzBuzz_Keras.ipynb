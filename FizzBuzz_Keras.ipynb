{
  "nbformat": 4,
  "nbformat_minor": 0,
  "metadata": {
    "colab": {
      "name": "Untitled",
      "version": "0.3.2",
      "provenance": [],
      "include_colab_link": true
    },
    "kernelspec": {
      "name": "python3",
      "display_name": "Python 3"
    }
  },
  "cells": [
    {
      "cell_type": "markdown",
      "metadata": {
        "id": "view-in-github",
        "colab_type": "text"
      },
      "source": [
        "<a href=\"https://colab.research.google.com/github/JacopoMangiavacchi/Swift-TensorFlow-Sample-Notebooks/blob/master/FizzBuzz_Keras.ipynb\" target=\"_parent\"><img src=\"https://colab.research.google.com/assets/colab-badge.svg\" alt=\"Open In Colab\"/></a>"
      ]
    },
    {
      "metadata": {
        "id": "vCHiPWWfbo7C",
        "colab_type": "code",
        "outputId": "777f090a-4841-4989-84d6-245367b8fb6b",
        "colab": {
          "base_uri": "https://localhost:8080/",
          "height": 34
        }
      },
      "cell_type": "code",
      "source": [
        "from keras.models import Sequential\n",
        "from keras.layers import Dense,Activation,Dropout\n",
        "from keras.optimizers import RMSprop\n",
        "from keras.utils import np_utils\n",
        "\n",
        "import numpy"
      ],
      "execution_count": 1,
      "outputs": [
        {
          "output_type": "stream",
          "text": [
            "Using TensorFlow backend.\n"
          ],
          "name": "stderr"
        }
      ]
    },
    {
      "metadata": {
        "id": "i0zUaDeFbtyx",
        "colab_type": "code",
        "colab": {}
      },
      "cell_type": "code",
      "source": [
        "num_digits = 10 # binary encode numbers\n",
        "nb_classes = 4 # 4 classes : number/fizz/buzz/fizzbuzz\n",
        "batch_size = 128\n",
        "\n",
        "def fb_encode(i):\n",
        "    if   i % 15 == 0: return [3]\n",
        "    elif i % 5  == 0: return [2]\n",
        "    elif i % 3  == 0: return [1]\n",
        "    else:             return [0]\n",
        "\n",
        "def bin_encode(i):\n",
        "    return [i >> d & 1 for d in range(num_digits)]\n",
        "\n",
        "def fizz_buzz_pred(i, pred):\n",
        "    return [str(i), \"fizz\", \"buzz\", \"fizzbuzz\"][pred.argmax()]\n",
        "\n",
        "def fizz_buzz(i):\n",
        "    if   i % 15 == 0: return \"fizzbuzz\"\n",
        "    elif i % 5  == 0: return \"buzz\"\n",
        "    elif i % 3  == 0: return \"fizz\"\n",
        "    else:             return str(i)\n",
        "\n",
        "def create_dataset(start, end):\n",
        "    dataX,dataY = [],[]\n",
        "    for i in range(start, end):\n",
        "         dataX.append(bin_encode(i))\n",
        "         dataY.append(fb_encode(i))\n",
        "\n",
        "    return numpy.array(dataX),np_utils.to_categorical(numpy.array(dataY), nb_classes)\n"
      ],
      "execution_count": 0,
      "outputs": []
    },
    {
      "metadata": {
        "id": "yl_KOMdLp5c0",
        "colab_type": "code",
        "colab": {}
      },
      "cell_type": "code",
      "source": [
        "# Create a Training dataset from 101 to 1024 (NB 1024 Greatest number for 10 bits)  \n",
        "dataX,dataY = create_dataset(101, 1024)"
      ],
      "execution_count": 0,
      "outputs": []
    },
    {
      "metadata": {
        "id": "aNGlwrgWbctP",
        "colab_type": "code",
        "outputId": "8746b140-3575-41fb-9604-2266a45c3552",
        "colab": {
          "base_uri": "https://localhost:8080/",
          "height": 108
        }
      },
      "cell_type": "code",
      "source": [
        "model = Sequential()\n",
        "model.add(Dense(128, input_shape=(num_digits,), activation=\"relu\"))\n",
        "#model.add(Dropout(0.5))\n",
        "model.add(Dense(256, activation=\"relu\"))\n",
        "#model.add(Dropout(0.2))\n",
        "model.add(Dense(4, activation=\"softmax\"))\n",
        "\n",
        "model.compile(loss='categorical_crossentropy',optimizer=RMSprop())"
      ],
      "execution_count": 4,
      "outputs": [
        {
          "output_type": "stream",
          "text": [
            "WARNING:tensorflow:From /usr/local/lib/python3.6/dist-packages/tensorflow/python/framework/op_def_library.py:263: colocate_with (from tensorflow.python.framework.ops) is deprecated and will be removed in a future version.\n",
            "Instructions for updating:\n",
            "Colocations handled automatically by placer.\n"
          ],
          "name": "stdout"
        }
      ]
    },
    {
      "metadata": {
        "id": "P4CWv-fSb1tc",
        "colab_type": "code",
        "outputId": "a5aede47-7d9b-4e5d-b167-7dd2b4b485bb",
        "colab": {
          "base_uri": "https://localhost:8080/",
          "height": 148
        }
      },
      "cell_type": "code",
      "source": [
        "model.fit(dataX,dataY,epochs=1000,batch_size=batch_size, verbose=0)\n",
        "\n"
      ],
      "execution_count": 5,
      "outputs": [
        {
          "output_type": "stream",
          "text": [
            "WARNING:tensorflow:From /usr/local/lib/python3.6/dist-packages/tensorflow/python/ops/math_ops.py:3066: to_int32 (from tensorflow.python.ops.math_ops) is deprecated and will be removed in a future version.\n",
            "Instructions for updating:\n",
            "Use tf.cast instead.\n"
          ],
          "name": "stdout"
        },
        {
          "output_type": "execute_result",
          "data": {
            "text/plain": [
              "<keras.callbacks.History at 0x7f19cc2afdd8>"
            ]
          },
          "metadata": {
            "tags": []
          },
          "execution_count": 5
        }
      ]
    },
    {
      "metadata": {
        "id": "IZphjoJQb7H7",
        "colab_type": "code",
        "outputId": "3a2168b6-e609-401d-8fa7-442ffb31a6fa",
        "colab": {
          "base_uri": "https://localhost:8080/",
          "height": 1717
        }
      },
      "cell_type": "code",
      "source": [
        "errors = 0\n",
        "correct = 0\n",
        "\n",
        "# Test number from 1 to 101\n",
        "for i in range(1,101):\n",
        "    x = bin_encode(i)\n",
        "    y = model.predict(numpy.array(x).reshape(-1,10))\n",
        "    print(fizz_buzz_pred(i,y))\n",
        "    if fizz_buzz_pred(i,y) == fizz_buzz(i):\n",
        "        correct = correct + 1\n",
        "    else:\n",
        "        errors = errors + 1\n"
      ],
      "execution_count": 6,
      "outputs": [
        {
          "output_type": "stream",
          "text": [
            "fizz\n",
            "2\n",
            "fizz\n",
            "4\n",
            "buzz\n",
            "fizz\n",
            "7\n",
            "8\n",
            "fizz\n",
            "buzz\n",
            "11\n",
            "fizz\n",
            "13\n",
            "14\n",
            "fizzbuzz\n",
            "fizz\n",
            "17\n",
            "fizz\n",
            "19\n",
            "buzz\n",
            "fizz\n",
            "22\n",
            "23\n",
            "fizz\n",
            "buzz\n",
            "26\n",
            "fizz\n",
            "28\n",
            "29\n",
            "fizzbuzz\n",
            "31\n",
            "32\n",
            "fizz\n",
            "34\n",
            "buzz\n",
            "fizz\n",
            "37\n",
            "38\n",
            "fizz\n",
            "40\n",
            "41\n",
            "42\n",
            "43\n",
            "44\n",
            "fizzbuzz\n",
            "46\n",
            "47\n",
            "fizz\n",
            "49\n",
            "buzz\n",
            "fizz\n",
            "52\n",
            "53\n",
            "fizz\n",
            "buzz\n",
            "56\n",
            "fizz\n",
            "58\n",
            "59\n",
            "fizzbuzz\n",
            "61\n",
            "62\n",
            "fizz\n",
            "64\n",
            "65\n",
            "fizz\n",
            "67\n",
            "68\n",
            "fizz\n",
            "70\n",
            "71\n",
            "fizz\n",
            "73\n",
            "74\n",
            "fizzbuzz\n",
            "76\n",
            "77\n",
            "fizz\n",
            "79\n",
            "buzz\n",
            "81\n",
            "82\n",
            "83\n",
            "fizz\n",
            "buzz\n",
            "86\n",
            "fizz\n",
            "88\n",
            "89\n",
            "fizzbuzz\n",
            "91\n",
            "92\n",
            "fizz\n",
            "94\n",
            "buzz\n",
            "fizz\n",
            "97\n",
            "98\n",
            "fizz\n",
            "buzz\n"
          ],
          "name": "stdout"
        }
      ]
    },
    {
      "metadata": {
        "id": "dDP5zFkVq0o2",
        "colab_type": "code",
        "colab": {
          "base_uri": "https://localhost:8080/",
          "height": 34
        },
        "outputId": "bf9e007c-1060-4382-d917-90b7a93b7eb6"
      },
      "cell_type": "code",
      "source": [
        "\n",
        "# accuracy = (correctly predicted class / total testing class) × 100%\n",
        "print(\"Errors :\" , errors, \" Correct :\", correct, \"Accuracy: \", correct / (correct + errors))\n"
      ],
      "execution_count": 7,
      "outputs": [
        {
          "output_type": "stream",
          "text": [
            "Errors : 7  Correct : 93 Accuracy:  0.93\n"
          ],
          "name": "stdout"
        }
      ]
    }
  ]
}