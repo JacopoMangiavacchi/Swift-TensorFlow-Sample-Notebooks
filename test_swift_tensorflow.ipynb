{
  "nbformat": 4,
  "nbformat_minor": 0,
  "metadata": {
    "colab": {
      "name": "blank_swift.ipynb",
      "version": "0.3.2",
      "provenance": [],
      "collapsed_sections": []
    },
    "kernelspec": {
      "name": "swift",
      "display_name": "Swift"
    }
  },
  "cells": [
    {
      "metadata": {
        "id": "kZRlD4utdPuX",
        "colab_type": "code",
        "colab": {}
      },
      "cell_type": "code",
      "source": [
        "import Python\n",
        "import TensorFlow"
      ],
      "execution_count": 0,
      "outputs": []
    },
    {
      "metadata": {
        "id": "oVh7vhhMy4dF",
        "colab_type": "code",
        "colab": {}
      },
      "cell_type": "code",
      "source": [
        "let os = Python.import(\"os\")\n",
        "let np = Python.import(\"numpy\")\n",
        "let pd = Python.import(\"pandas\")\n",
        "let PIL = Python.import(\"PIL\")\n",
        "let plt = Python.import(\"matplotlib.pyplot\")"
      ],
      "execution_count": 0,
      "outputs": []
    },
    {
      "metadata": {
        "id": "HUJ6RhT69nnp",
        "colab_type": "code",
        "colab": {
          "base_uri": "https://localhost:8080/",
          "height": 85
        },
        "outputId": "6df2d582-a677-4cf4-c656-facc3408b4f4"
      },
      "cell_type": "code",
      "source": [
        "let display = Python.import(\"IPython.display\")\n",
        "display.display(pd.DataFrame.from_records([[\"col 1\": 3, \"col 2\": 5], [\"col 1\": 8, \"col 2\": 2]]))"
      ],
      "execution_count": 24,
      "outputs": [
        {
          "output_type": "stream",
          "text": [
            "   col 1  col 2\r\n",
            "0      3      5\r\n",
            "1      8      2\r\n"
          ],
          "name": "stdout"
        },
        {
          "output_type": "execute_result",
          "data": {
            "text/plain": [
              "None\n"
            ]
          },
          "metadata": {
            "tags": []
          },
          "execution_count": 24
        }
      ]
    },
    {
      "metadata": {
        "id": "7ZDE4-KZ9oQ5",
        "colab_type": "code",
        "colab": {
          "base_uri": "https://localhost:8080/",
          "height": 34
        },
        "outputId": "5c1d331b-5cb0-4544-92cb-a51effdaad0e"
      },
      "cell_type": "code",
      "source": [
        "//IPythonDisplay.shell.enable_matplotlib(\"inline\")\n",
        "\n",
        "let time = np.arange(0, 10, 0.01)\n",
        "let amplitude = np.exp(-0.1 * time)\n",
        "let position = amplitude * np.sin(3 * time)\n",
        "\n",
        "plt.figure(figsize: [15, 10])\n",
        "\n",
        "plt.plot(time, position)\n",
        "plt.plot(time, amplitude)\n",
        "plt.plot(time, -amplitude)\n",
        "\n",
        "plt.xlabel(\"time (s)\")\n",
        "plt.ylabel(\"position (m)\")\n",
        "plt.title(\"Oscillations\")\n",
        "\n",
        "plt.show()"
      ],
      "execution_count": 25,
      "outputs": [
        {
          "output_type": "execute_result",
          "data": {
            "text/plain": [
              "None\n"
            ]
          },
          "metadata": {
            "tags": []
          },
          "execution_count": 25
        }
      ]
    },
    {
      "metadata": {
        "id": "TzFm8YCs0gla",
        "colab_type": "code",
        "colab": {
          "base_uri": "https://localhost:8080/",
          "height": 102
        },
        "outputId": "4e11af67-18ea-4391-9359-b1001ac16963"
      },
      "cell_type": "code",
      "source": [
        "var x = Tensor<Float>([[1, 2], [3, 4]])\n",
        "\n",
        "for _ in 1...5 {\n",
        "    x += x • x // alternatively: x += matmul(x, x)\n",
        "    print(x)\n",
        "}"
      ],
      "execution_count": 26,
      "outputs": [
        {
          "output_type": "stream",
          "text": [
            "[[8.0, 12.0], [18.0, 26.0]]\r\n",
            "[[288.0, 420.0], [630.0, 918.0]]\r\n",
            "[[347832.0, 506940.0], [760410.0, 1108242.0]]\r\n",
            "[[5.064697e+11, 7.381427e+11], [1.1072141e+12, 1.6136836e+12]]\r\n",
            "[[1.07379355e+24, 1.5649758e+24], [2.3474636e+24, 3.421257e+24]]\r\n"
          ],
          "name": "stdout"
        }
      ]
    },
    {
      "metadata": {
        "id": "_e1hzXeb8J5d",
        "colab_type": "code",
        "colab": {}
      },
      "cell_type": "code",
      "source": [
        ""
      ],
      "execution_count": 0,
      "outputs": []
    }
  ]
}