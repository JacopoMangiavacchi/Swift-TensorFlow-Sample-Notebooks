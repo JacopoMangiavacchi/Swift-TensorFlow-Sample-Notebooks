{
  "nbformat": 4,
  "nbformat_minor": 0,
  "metadata": {
    "colab": {
      "name": "blank_swift.ipynb",
      "version": "0.3.2",
      "provenance": [],
      "collapsed_sections": []
    },
    "kernelspec": {
      "name": "swift",
      "display_name": "Swift"
    }
  },
  "cells": [
    {
      "metadata": {
        "id": "kZRlD4utdPuX",
        "colab_type": "code",
        "colab": {}
      },
      "cell_type": "code",
      "source": [
        "import Python\n",
        "import TensorFlow"
      ],
      "execution_count": 0,
      "outputs": []
    },
    {
      "metadata": {
        "id": "oVh7vhhMy4dF",
        "colab_type": "code",
        "colab": {}
      },
      "cell_type": "code",
      "source": [
        "let os = Python.import(\"os\")\n",
        "let np = Python.import(\"numpy\")\n",
        "let pd = Python.import(\"pandas\")\n",
        "let PIL = Python.import(\"PIL\")\n",
        "let plt = Python.import(\"matplotlib.pyplot\")"
      ],
      "execution_count": 0,
      "outputs": []
    },
    {
      "metadata": {
        "id": "HUJ6RhT69nnp",
        "colab_type": "code",
        "outputId": "06e41216-130f-4844-94fd-74f5c6157b58",
        "colab": {
          "base_uri": "https://localhost:8080/",
          "height": 85
        }
      },
      "cell_type": "code",
      "source": [
        "let display = Python.import(\"IPython.display\")\n",
        "display.display(pd.DataFrame.from_records([[\"col 1\": 3, \"col 2\": 5], [\"col 1\": 8, \"col 2\": 2]]))"
      ],
      "execution_count": 4,
      "outputs": [
        {
          "output_type": "stream",
          "text": [
            "   col 1  col 2\r\n",
            "0      3      5\r\n",
            "1      8      2\r\n"
          ],
          "name": "stdout"
        },
        {
          "output_type": "execute_result",
          "data": {
            "text/plain": [
              "None\n"
            ]
          },
          "metadata": {
            "tags": []
          },
          "execution_count": 4
        }
      ]
    },
    {
      "metadata": {
        "id": "IHPnQ1CJ0yWP",
        "colab_type": "code",
        "colab": {
          "base_uri": "https://localhost:8080/",
          "height": 51
        },
        "outputId": "19c4c739-c034-404c-dfe1-f92ffee91c17"
      },
      "cell_type": "code",
      "source": [
        "display.display(display.Image(\"https://static.independent.co.uk/s3fs-public/thumbnails/image/2017/09/12/11/naturo-monkey-selfie.jpg\"))"
      ],
      "execution_count": 7,
      "outputs": [
        {
          "output_type": "stream",
          "text": [
            "<IPython.core.display.Image object>\r\n"
          ],
          "name": "stdout"
        },
        {
          "output_type": "execute_result",
          "data": {
            "text/plain": [
              "None\n"
            ]
          },
          "metadata": {
            "tags": []
          },
          "execution_count": 7
        }
      ]
    },
    {
      "metadata": {
        "id": "7ZDE4-KZ9oQ5",
        "colab_type": "code",
        "outputId": "d259652c-7093-4524-fd2a-6119e871d11c",
        "colab": {
          "base_uri": "https://localhost:8080/",
          "height": 113
        }
      },
      "cell_type": "code",
      "source": [
        "//IPythonDisplay.shell.enable_matplotlib(\"inline\")\n",
        "\n",
        "let time = np.arange(0, 10, 0.01)\n",
        "let amplitude = np.exp(-0.1 * time)\n",
        "let position = amplitude * np.sin(3 * time)\n",
        "\n",
        "plt.figure(figsize: [15, 10])\n",
        "\n",
        "plt.plot(time, position)\n",
        "plt.plot(time, amplitude)\n",
        "plt.plot(time, -amplitude)\n",
        "\n",
        "plt.xlabel(\"time (s)\")\n",
        "plt.ylabel(\"position (m)\")\n",
        "plt.title(\"Oscillations\")\n",
        "\n",
        "plt.show()"
      ],
      "execution_count": 8,
      "outputs": [
        {
          "output_type": "stream",
          "text": [
            "Fatal error: Could not access PythonObject member 'shell': file /swift-base/swift/stdlib/public/Python/Python.swift, line 535\r\n"
          ],
          "name": "stdout"
        },
        {
          "output_type": "error",
          "ename": "",
          "evalue": "ignored",
          "traceback": [
            "Current stack trace:",
            "\tframe #4: 0x00007fe069d4a068 $__lldb_expr167`main at <Cell 8>:1:9"
          ]
        }
      ]
    },
    {
      "metadata": {
        "id": "TzFm8YCs0gla",
        "colab_type": "code",
        "outputId": "387c24d8-8cce-4c46-e0d9-13803e09cd88",
        "colab": {
          "base_uri": "https://localhost:8080/",
          "height": 102
        }
      },
      "cell_type": "code",
      "source": [
        "var x = Tensor<Float>([[1, 2], [3, 4]])\n",
        "\n",
        "for _ in 1...5 {\n",
        "    x += x • x // alternatively: x += matmul(x, x)\n",
        "    print(x)\n",
        "}"
      ],
      "execution_count": 0,
      "outputs": [
        {
          "output_type": "stream",
          "text": [
            "[[8.0, 12.0], [18.0, 26.0]]\r\n",
            "[[288.0, 420.0], [630.0, 918.0]]\r\n",
            "[[347832.0, 506940.0], [760410.0, 1108242.0]]\r\n",
            "[[5.064697e+11, 7.381427e+11], [1.1072141e+12, 1.6136836e+12]]\r\n",
            "[[1.07379355e+24, 1.5649758e+24], [2.3474636e+24, 3.421257e+24]]\r\n"
          ],
          "name": "stdout"
        }
      ]
    },
    {
      "metadata": {
        "id": "_e1hzXeb8J5d",
        "colab_type": "code",
        "colab": {}
      },
      "cell_type": "code",
      "source": [
        ""
      ],
      "execution_count": 0,
      "outputs": []
    }
  ]
}