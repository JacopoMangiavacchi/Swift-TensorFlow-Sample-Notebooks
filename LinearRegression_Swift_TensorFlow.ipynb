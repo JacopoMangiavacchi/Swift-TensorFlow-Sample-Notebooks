{
  "nbformat": 4,
  "nbformat_minor": 0,
  "metadata": {
    "colab": {
      "name": "blank_swift.ipynb",
      "version": "0.3.2",
      "provenance": [],
      "collapsed_sections": [],
      "include_colab_link": true
    },
    "kernelspec": {
      "name": "swift",
      "display_name": "Swift"
    }
  },
  "cells": [
    {
      "cell_type": "markdown",
      "metadata": {
        "id": "view-in-github",
        "colab_type": "text"
      },
      "source": [
        "<a href=\"https://colab.research.google.com/github/JacopoMangiavacchi/SwiftTensorFlowColabNotebook/blob/master/LinearRegression_Swift_TensorFlow.ipynb\" target=\"_parent\"><img src=\"https://colab.research.google.com/assets/colab-badge.svg\" alt=\"Open In Colab\"/></a>"
      ]
    },
    {
      "metadata": {
        "id": "kZRlD4utdPuX",
        "colab_type": "code",
        "colab": {}
      },
      "cell_type": "code",
      "source": [
        "import TensorFlow"
      ],
      "execution_count": 0,
      "outputs": []
    },
    {
      "metadata": {
        "id": "_e1hzXeb8J5d",
        "colab_type": "code",
        "colab": {}
      },
      "cell_type": "code",
      "source": [
        "struct LinearRegression: Layer {\n",
        "    var l1: Dense<Float>\n",
        "    init(variables: Int = 1) {\n",
        "        l1 = Dense<Float>(inputSize: variables, outputSize: 1, activation: relu) // Only positive number as linar not available\n",
        "    }\n",
        "    \n",
        "    @differentiable(wrt: (self, input))\n",
        "    func applied(to input: Tensor<Float>) -> Tensor<Float> {\n",
        "        return l1.applied(to: input)\n",
        "    }\n",
        "}"
      ],
      "execution_count": 0,
      "outputs": []
    },
    {
      "metadata": {
        "id": "JdGxV6K2VZ2X",
        "colab_type": "code",
        "colab": {}
      },
      "cell_type": "code",
      "source": [
        "let trainingSize = Int32(1000)\n",
        "let a: Float = 1.5\n",
        "let b: Float = 2\n",
        "func y(_ x: Float) -> Float {\n",
        "    return a + (b * x)\n",
        "}\n",
        "\n",
        "var xScalar:[Float] = []\n",
        "var yScalar:[Float] = []\n",
        "\n",
        "for _ in 0..<trainingSize {\n",
        "    let r = Float.random(in: 0...1)\n",
        "    xScalar.append(r)\n",
        "    yScalar.append(y(r))\n",
        "}\n",
        "\n",
        "let x = Tensor<Float>(shape: [trainingSize, 1], scalars: xScalar)\n",
        "let y = Tensor<Float>(shape: [trainingSize, 1], scalars: yScalar)"
      ],
      "execution_count": 0,
      "outputs": []
    },
    {
      "metadata": {
        "id": "OkEgM40GQGKG",
        "colab_type": "code",
        "colab": {
          "base_uri": "https://localhost:8080/",
          "height": 357
        },
        "outputId": "468d1677-fb84-46f6-96ee-61d09608c12d"
      },
      "cell_type": "code",
      "source": [
        "let optimizer = SGD<LinearRegression, Float>(learningRate: 0.03)\n",
        "var model = LinearRegression()\n",
        "\n",
        "\n",
        "for epoch in 1...2000 {\n",
        "    let (cost, 𝛁model) = model.valueWithGradient { m -> Tensor<Float> in\n",
        "        let ŷ = m.applied(to: x)\n",
        "        return meanSquaredError(predicted: ŷ, expected: y)\n",
        "    }\n",
        "    optimizer.update(&model.allDifferentiableVariables, along: 𝛁model)\n",
        "  \n",
        "    if epoch % 100 == 0 {\n",
        "        print(\"Epoch: \\(epoch) Cost: \\(cost)\")\n",
        "    }\n",
        "}"
      ],
      "execution_count": 324,
      "outputs": [
        {
          "output_type": "stream",
          "text": [
            "Epoch: 100 Cost: 0.0064752284\n",
            "Epoch: 200 Cost: 0.0029354945\n",
            "Epoch: 300 Cost: 0.0013309756\n",
            "Epoch: 400 Cost: 0.00060347834\n",
            "Epoch: 500 Cost: 0.00027362394\n",
            "Epoch: 600 Cost: 0.00012406404\n",
            "Epoch: 700 Cost: 5.6251225e-05\n",
            "Epoch: 800 Cost: 2.5505751e-05\n",
            "Epoch: 900 Cost: 1.1564745e-05\n",
            "Epoch: 1000 Cost: 5.2435425e-06\n",
            "Epoch: 1100 Cost: 2.377279e-06\n",
            "Epoch: 1200 Cost: 1.0780957e-06\n",
            "Epoch: 1300 Cost: 4.889355e-07\n",
            "Epoch: 1400 Cost: 2.2169684e-07\n",
            "Epoch: 1500 Cost: 1.00556115e-07\n",
            "Epoch: 1600 Cost: 4.5632994e-08\n",
            "Epoch: 1700 Cost: 2.072032e-08\n",
            "Epoch: 1800 Cost: 9.440499e-09\n",
            "Epoch: 1900 Cost: 4.3091233e-09\n",
            "Epoch: 2000 Cost: 1.9887525e-09\n"
          ],
          "name": "stdout"
        }
      ]
    },
    {
      "metadata": {
        "id": "LOmonwRSVqui",
        "colab_type": "code",
        "outputId": "639eae4e-0237-4b2f-b5d0-e82869c96a3a",
        "colab": {
          "base_uri": "https://localhost:8080/",
          "height": 34
        }
      },
      "cell_type": "code",
      "source": [
        "print(model.applied(to: [[0], [1], [2], [3], [4], [5], [6], [7], [8], [9]]))"
      ],
      "execution_count": 325,
      "outputs": [
        {
          "output_type": "stream",
          "text": [
            "[[1.5000793], [3.4999251], [5.499771], [7.499617], [9.499463], [11.499309], [13.499155], [15.4990015], [17.498848], [19.498693]]\r\n"
          ],
          "name": "stdout"
        }
      ]
    }
  ]
}