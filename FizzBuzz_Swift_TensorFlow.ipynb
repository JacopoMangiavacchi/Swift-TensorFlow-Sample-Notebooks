{
  "nbformat": 4,
  "nbformat_minor": 0,
  "metadata": {
    "colab": {
      "name": "blank_swift.ipynb",
      "version": "0.3.2",
      "provenance": [],
      "collapsed_sections": [],
      "include_colab_link": true
    },
    "kernelspec": {
      "name": "swift",
      "display_name": "Swift"
    }
  },
  "cells": [
    {
      "cell_type": "markdown",
      "metadata": {
        "id": "view-in-github",
        "colab_type": "text"
      },
      "source": [
        "<a href=\"https://colab.research.google.com/github/JacopoMangiavacchi/Swift-TensorFlow-Sample-Notebooks/blob/master/FizzBuzz_Swift_TensorFlow.ipynb\" target=\"_parent\"><img src=\"https://colab.research.google.com/assets/colab-badge.svg\" alt=\"Open In Colab\"/></a>"
      ]
    },
    {
      "metadata": {
        "id": "kZRlD4utdPuX",
        "colab_type": "code",
        "colab": {}
      },
      "cell_type": "code",
      "source": [
        "import Foundation\n",
        "import TensorFlow"
      ],
      "execution_count": 0,
      "outputs": []
    },
    {
      "metadata": {
        "id": "V1iJ2NkG19Si",
        "colab_type": "code",
        "colab": {}
      },
      "cell_type": "code",
      "source": [
        "func bitEncode(_ n: UInt, bits: Int = 10) -> [Float] {\n",
        "    var array = [Float](repeating: 0, count: bits)\n",
        "    for i in 0..<bits {\n",
        "        array[bits - 1 - i] = Float(n >> i & 1)\n",
        "    }\n",
        "    return array\n",
        "}\n",
        "\n",
        "func labelEncode(_ n: UInt) -> [Float] {\n",
        "    if n > 0 {\n",
        "        if n % 15 == 0 {\n",
        "            return [1, 0, 0, 0]\n",
        "        }\n",
        "      \n",
        "        if n % 3 == 0 {\n",
        "            return [0, 1, 0, 0]\n",
        "        }\n",
        "      \n",
        "        if n % 5 == 0 {\n",
        "            return [0, 0, 1, 0]\n",
        "        }\n",
        "    }\n",
        "  \n",
        "    return [0, 0, 0, 1]\n",
        "}"
      ],
      "execution_count": 0,
      "outputs": []
    },
    {
      "metadata": {
        "id": "x2qwdXkr2viX",
        "colab_type": "code",
        "colab": {}
      },
      "cell_type": "code",
      "source": [
        "//Create a Training dataset from 101 to 1024 (NB 1024 Greatest number for 10 bits) \n",
        "let start = 101\n",
        "let end = 1024\n",
        "var X = [[Float]]()\n",
        "var Y = [[Float]]()\n",
        "\n",
        "for i in start..<end {\n",
        "    X.append(bitEncode(UInt(i)))\n",
        "    Y.append(labelEncode(UInt(i)))\n",
        "}"
      ],
      "execution_count": 0,
      "outputs": []
    },
    {
      "metadata": {
        "id": "_e1hzXeb8J5d",
        "colab_type": "code",
        "colab": {}
      },
      "cell_type": "code",
      "source": [
        "struct FizzBuzz: Layer {\n",
        "    var l1: Dense<Float>\n",
        "    var l2: Dense<Float>\n",
        "    var l3: Dense<Float>\n",
        "\n",
        "\n",
        "    init(bits: Int = 1) {\n",
        "        l1 = Dense<Float>(inputSize: bits, outputSize: 128, activation: relu)\n",
        "        l2 = Dense<Float>(inputSize: 128, outputSize: 256, activation: relu)\n",
        "        l3 = Dense<Float>(inputSize: 256, outputSize: 4) // activation: softfamx\n",
        "    }\n",
        "    \n",
        "    @differentiable\n",
        "    func applied(to input: Tensor<Float>, in context: Context) -> Tensor<Float> {\n",
        "        var output = l1.applied(to: input, in: context)\n",
        "        output = l2.applied(to: output, in: context)\n",
        "        return l3.applied(to: output, in: context)\n",
        "    }\n",
        "}"
      ],
      "execution_count": 0,
      "outputs": []
    },
    {
      "metadata": {
        "id": "JdGxV6K2VZ2X",
        "colab_type": "code",
        "outputId": "29f3a996-27d9-425b-a0bc-90ce3bd7089a",
        "colab": {
          "base_uri": "https://localhost:8080/",
          "height": 51
        }
      },
      "cell_type": "code",
      "source": [
        "let x = Tensor<Float>(shape: [Int32(end - start), 10], scalars: Array(X.joined()))\n",
        "let y = Tensor<Float>(shape: [Int32(end - start), 4], scalars: Array(Y.joined()))\n",
        "\n",
        "print(x.shape)\n",
        "print(y.shape)"
      ],
      "execution_count": 5,
      "outputs": [
        {
          "output_type": "stream",
          "text": [
            "TensorShape(dimensions: [923, 10])\r\n",
            "TensorShape(dimensions: [923, 4])\r\n"
          ],
          "name": "stdout"
        }
      ]
    },
    {
      "metadata": {
        "id": "2xoues9HoFec",
        "colab_type": "code",
        "colab": {}
      },
      "cell_type": "code",
      "source": [
        "let batchSize: Int32 = 128\n",
        "let trainingIterations = Int32(end - start) / batchSize\n",
        "\n",
        "func minibatch<T>(_ x: Tensor<T>, batchIndex: Int32) -> Tensor<T> {\n",
        "  let start = batchIndex * batchSize\n",
        "  return x[start..<start+batchSize]\n",
        "}"
      ],
      "execution_count": 0,
      "outputs": []
    },
    {
      "metadata": {
        "id": "FMTUjO5NoqoR",
        "colab_type": "code",
        "outputId": "9166503f-b669-4cad-dd97-f1e26ab3bafd",
        "colab": {
          "base_uri": "https://localhost:8080/",
          "height": 68
        }
      },
      "cell_type": "code",
      "source": [
        "let optimizer = RMSProp<FizzBuzz, Float>(learningRate: 0.01)\n",
        "var model = FizzBuzz(bits: 10)\n",
        "\n",
        "let trainingContext = Context(learningPhase: .training)\n",
        "for epoch in 1...300 {\n",
        "    var totalLoss: Float = 0\n",
        "\n",
        "    for i in 0..<trainingIterations {\n",
        "        let xBatch = minibatch(x, batchIndex: i)\n",
        "        let yBatch = minibatch(y, batchIndex: i)\n",
        "\n",
        "        //let gradients = gradient(at: model) { m -> Tensor<Float> in\n",
        "        let (loss, gradients) = valueWithGradient(at: model) { m -> Tensor<Float> in\n",
        "            let logit = m.applied(to: xBatch, in: trainingContext)\n",
        "            let batchLoss = softmaxCrossEntropy(logits: logit, labels: yBatch)\n",
        "            totalLoss += batchLoss.scalarized()\n",
        "            return batchLoss\n",
        "        }\n",
        "\n",
        "        //print(\"Batch \\(i) loss: \\(loss)\")\n",
        "\n",
        "        optimizer.update(&model.allDifferentiableVariables, along: gradients)\n",
        "    }\n",
        "\n",
        "\n",
        "    if epoch % 100 == 0 {\n",
        "        print(\"Epoch \\(epoch) totalLoss: \\(totalLoss)\")\n",
        "    }\n",
        "}"
      ],
      "execution_count": 7,
      "outputs": [
        {
          "output_type": "stream",
          "text": [
            "Epoch 100 totalLoss: 0.0016340053\n",
            "Epoch 200 totalLoss: 0.00019631404\n",
            "Epoch 300 totalLoss: 7.530608e-06\n"
          ],
          "name": "stdout"
        }
      ]
    },
    {
      "metadata": {
        "id": "8u2dYDdbC0OP",
        "colab_type": "code",
        "colab": {}
      },
      "cell_type": "code",
      "source": [
        "var X_test = [[Float]]()\n",
        "var Y_true = [[Float]]()\n",
        "\n",
        "// Test number from 1 to 101\n",
        "for i in 1...100 {\n",
        "    X_test.append(bitEncode(UInt(i)))\n",
        "    Y_true.append(labelEncode(UInt(i)))\n",
        "}\n",
        "\n",
        "let xTest = Tensor<Float>(shape: [100, 10], scalars: Array(X_test.joined()))\n",
        "let yTest = model.inferring(from: xTest)"
      ],
      "execution_count": 0,
      "outputs": []
    },
    {
      "metadata": {
        "id": "JxsXeC37EqEP",
        "colab_type": "code",
        "outputId": "4f902133-bc4f-4868-88be-3e859815e6f6",
        "colab": {
          "base_uri": "https://localhost:8080/",
          "height": 1717
        }
      },
      "cell_type": "code",
      "source": [
        "var errors = 0\n",
        "var correct = 0\n",
        "let ySoft = softmax(yTest)\n",
        "let yMax = ySoft.argmax(squeezingAxis: 1).array\n",
        "let yArray = Array(ySoft.array)\n",
        "let description = [\"FizzBuzz\", \"Fizz    \", \"Buzz    \", \"        \"]\n",
        "\n",
        "for i in 0..<100 {\n",
        "    let prediction = Int(yMax[i].description)!\n",
        "    let groundTruth = 1\n",
        "    print(i+1, description[groundTruth], description[prediction], Y_true[i], yArray[i])\n",
        "    if prediction == groundTruth {\n",
        "        correct += 1\n",
        "    }\n",
        "    else {\n",
        "        errors += 1\n",
        "    }\n",
        "}"
      ],
      "execution_count": 9,
      "outputs": [
        {
          "output_type": "stream",
          "text": [
            "1 Fizz              [0.0, 0.0, 0.0, 1.0] [4.0197801e-16, 4.4009007e-12, 1.6121117e-11, 1.0]\r\n",
            "2 Fizz              [0.0, 0.0, 0.0, 1.0] [1.7234454e-10, 0.0027808505, 0.0030803985, 0.9941387]\r\n",
            "3 Fizz     Fizz     [0.0, 1.0, 0.0, 0.0] [2.8175869e-08, 1.0, 1.01088546e-14, 8.8490135e-14]\r\n",
            "4 Fizz              [0.0, 0.0, 0.0, 1.0] [9.518399e-16, 1.1796926e-09, 2.2487659e-10, 1.0]\r\n",
            "5 Fizz              [0.0, 0.0, 1.0, 0.0] [7.234755e-08, 1.15259375e-08, 0.08380371, 0.91619617]\r\n",
            "6 Fizz     Fizz     [0.0, 1.0, 0.0, 0.0] [2.3654464e-13, 1.0, 5.0260284e-18, 2.0111078e-13]\r\n",
            "7 Fizz              [0.0, 0.0, 0.0, 1.0] [9.8750645e-14, 9.630128e-11, 9.157311e-10, 1.0]\r\n",
            "8 Fizz              [0.0, 0.0, 0.0, 1.0] [2.5466823e-15, 1.510393e-07, 5.4431425e-08, 0.9999999]\r\n",
            "9 Fizz     Fizz     [0.0, 1.0, 0.0, 0.0] [4.5234698e-11, 1.0, 2.883361e-14, 7.232022e-09]\r\n",
            "10 Fizz     Buzz     [0.0, 0.0, 1.0, 0.0] [2.9418585e-13, 0.48237127, 0.5176288, 8.157744e-09]\r\n",
            "11 Fizz              [0.0, 0.0, 0.0, 1.0] [1.8948246e-14, 1.257539e-07, 9.867779e-10, 0.9999999]\r\n",
            "12 Fizz     Fizz     [0.0, 1.0, 0.0, 0.0] [9.3977334e-08, 0.9999999, 7.939295e-12, 3.5461649e-12]\r\n",
            "13 Fizz              [0.0, 0.0, 0.0, 1.0] [9.020713e-16, 2.0788224e-12, 4.9530424e-08, 1.0]\r\n",
            "14 Fizz              [0.0, 0.0, 0.0, 1.0] [4.8119883e-11, 2.813833e-05, 4.0060595e-08, 0.99997187]\r\n",
            "15 Fizz     FizzBuzz [1.0, 0.0, 0.0, 0.0] [1.0, 2.7008643e-12, 9.083541e-20, 1.8533874e-13]\r\n",
            "16 Fizz              [0.0, 0.0, 0.0, 1.0] [1.0871587e-17, 8.336488e-18, 2.0675949e-17, 1.0]\r\n",
            "17 Fizz              [0.0, 0.0, 0.0, 1.0] [2.0518228e-18, 8.158142e-09, 8.359776e-07, 0.99999917]\r\n",
            "18 Fizz     Fizz     [0.0, 1.0, 0.0, 0.0] [1.6841248e-06, 0.99999833, 1.684472e-15, 5.1080334e-10]\r\n",
            "19 Fizz              [0.0, 0.0, 0.0, 1.0] [3.3507371e-16, 3.9554093e-11, 0.0048728017, 0.9951272]\r\n",
            "20 Fizz              [0.0, 0.0, 1.0, 0.0] [3.6161771e-09, 0.00014472977, 0.0129423635, 0.98691297]\r\n",
            "21 Fizz     Fizz     [0.0, 1.0, 0.0, 0.0] [3.1769552e-11, 0.979977, 8.715648e-12, 0.02002305]\r\n",
            "22 Fizz              [0.0, 0.0, 0.0, 1.0] [6.8898016e-15, 3.3243291e-10, 2.5340632e-09, 1.0]\r\n",
            "23 Fizz     Fizz     [0.0, 0.0, 0.0, 1.0] [1.505314e-10, 0.95009553, 1.5550847e-07, 0.049904365]\r\n",
            "24 Fizz     Fizz     [0.0, 1.0, 0.0, 0.0] [1.2449111e-07, 0.9987469, 1.9667308e-17, 0.0012530137]\r\n",
            "25 Fizz     Buzz     [0.0, 0.0, 1.0, 0.0] [1.5445081e-21, 2.6027628e-13, 0.97736144, 0.022638632]\r\n",
            "26 Fizz              [0.0, 0.0, 0.0, 1.0] [4.3632692e-13, 2.6196267e-07, 4.424683e-13, 0.99999976]\r\n",
            "27 Fizz     Fizz     [0.0, 1.0, 0.0, 0.0] [1.0795794e-09, 0.9999999, 8.028929e-12, 1.0346818e-07]\r\n",
            "28 Fizz              [0.0, 0.0, 0.0, 1.0] [1.5154832e-13, 1.1076641e-14, 1.8373627e-12, 1.0]\r\n",
            "29 Fizz              [0.0, 0.0, 0.0, 1.0] [7.747691e-08, 0.0033404166, 1.7681334e-08, 0.9966595]\r\n",
            "30 Fizz     FizzBuzz [1.0, 0.0, 0.0, 0.0] [1.0, 7.6973716e-10, 4.2902275e-17, 6.5336e-09]\r\n",
            "31 Fizz              [0.0, 0.0, 0.0, 1.0] [3.1265082e-10, 3.791039e-08, 1.2249446e-06, 0.9999988]\r\n",
            "32 Fizz              [0.0, 0.0, 0.0, 1.0] [3.9342749e-10, 1.5655817e-07, 1.0410024e-07, 0.99999976]\r\n",
            "33 Fizz     Fizz     [0.0, 1.0, 0.0, 0.0] [3.2660641e-06, 0.9999968, 7.9668023e-16, 1.2365771e-12]\r\n",
            "34 Fizz     Fizz     [0.0, 0.0, 0.0, 1.0] [3.761354e-12, 0.99903333, 0.00029142547, 0.0006752584]\r\n",
            "35 Fizz     Buzz     [0.0, 0.0, 1.0, 0.0] [3.7196776e-07, 9.474311e-09, 0.99704605, 0.00295363]\r\n",
            "36 Fizz     Fizz     [0.0, 1.0, 0.0, 0.0] [9.015885e-11, 1.0, 2.046713e-17, 2.3444623e-12]\r\n",
            "37 Fizz              [0.0, 0.0, 0.0, 1.0] [2.1549211e-14, 5.266144e-12, 2.109637e-10, 1.0]\r\n",
            "38 Fizz              [0.0, 0.0, 0.0, 1.0] [1.03774316e-10, 0.052645363, 0.27176842, 0.6755862]\r\n",
            "39 Fizz     Fizz     [0.0, 1.0, 0.0, 0.0] [4.3837165e-09, 1.0, 2.5624835e-19, 2.646408e-12]\r\n",
            "40 Fizz     Fizz     [0.0, 0.0, 1.0, 0.0] [4.0144446e-12, 0.5735758, 0.42642424, 2.6703256e-10]\r\n",
            "41 Fizz              [0.0, 0.0, 0.0, 1.0] [3.264057e-17, 3.4639132e-08, 2.9995412e-11, 1.0]\r\n",
            "42 Fizz     Fizz     [0.0, 1.0, 0.0, 0.0] [1.9673914e-09, 0.99755496, 1.9866472e-07, 0.0024448608]\r\n",
            "43 Fizz              [0.0, 0.0, 0.0, 1.0] [6.670324e-07, 0.00012401768, 6.1736487e-09, 0.9998753]\r\n",
            "44 Fizz              [0.0, 0.0, 0.0, 1.0] [3.0203885e-11, 5.0960666e-06, 8.204985e-09, 0.9999949]\r\n",
            "45 Fizz     FizzBuzz [1.0, 0.0, 0.0, 0.0] [1.0, 8.0818185e-11, 1.30594225e-17, 5.1771604e-11]\r\n",
            "46 Fizz     Fizz     [0.0, 0.0, 0.0, 1.0] [2.143528e-11, 0.9989629, 2.8828582e-08, 0.0010370767]\r\n",
            "47 Fizz              [0.0, 0.0, 0.0, 1.0] [3.606505e-11, 9.467097e-09, 6.022155e-07, 0.9999994]\r\n",
            "48 Fizz     Fizz     [0.0, 1.0, 0.0, 0.0] [1.7033676e-07, 0.9999999, 7.013021e-16, 1.6013503e-09]\r\n",
            "49 Fizz              [0.0, 0.0, 0.0, 1.0] [4.9699865e-16, 5.897859e-10, 0.0021594586, 0.9978405]\r\n",
            "50 Fizz     Buzz     [0.0, 0.0, 1.0, 0.0] [0.00014278405, 1.715022e-06, 0.9935249, 0.006330526]\r\n",
            "51 Fizz     Fizz     [0.0, 1.0, 0.0, 0.0] [8.781381e-08, 0.99999976, 1.2389493e-15, 1.5780954e-07]\r\n",
            "52 Fizz              [0.0, 0.0, 0.0, 1.0] [3.7932667e-18, 1.1611206e-11, 1.3553862e-08, 1.0]\r\n",
            "53 Fizz              [0.0, 0.0, 0.0, 1.0] [4.68081e-09, 0.2931572, 3.2552734e-08, 0.7068428]\r\n",
            "54 Fizz     Fizz     [0.0, 1.0, 0.0, 0.0] [7.4795656e-11, 1.0, 4.459227e-16, 6.974735e-09]\r\n",
            "55 Fizz     Buzz     [0.0, 0.0, 1.0, 0.0] [1.0184985e-15, 2.7058247e-08, 0.91705656, 0.08294339]\r\n",
            "56 Fizz              [0.0, 0.0, 0.0, 1.0] [5.015119e-15, 8.5568e-08, 2.7928106e-14, 0.9999999]\r\n",
            "57 Fizz     Fizz     [0.0, 1.0, 0.0, 0.0] [2.3084595e-10, 0.9999995, 2.5042082e-14, 4.4421364e-07]\r\n",
            "58 Fizz              [0.0, 0.0, 0.0, 1.0] [5.195982e-07, 0.00046001046, 9.978434e-10, 0.9995395]\r\n",
            "59 Fizz              [0.0, 0.0, 0.0, 1.0] [1.4379411e-08, 2.3794777e-10, 1.18650844e-11, 1.0]\r\n",
            "60 Fizz     FizzBuzz [1.0, 0.0, 0.0, 0.0] [1.0, 2.1052625e-11, 6.9292186e-19, 9.480566e-09]\r\n",
            "61 Fizz              [0.0, 0.0, 0.0, 1.0] [5.857909e-13, 1.3924593e-12, 1.0725827e-09, 1.0]\r\n",
            "62 Fizz              [0.0, 0.0, 0.0, 1.0] [7.7927893e-13, 1.4438609e-08, 3.1090347e-10, 1.0]\r\n",
            "63 Fizz     Fizz     [0.0, 1.0, 0.0, 0.0] [5.2709514e-11, 0.9999907, 2.6865974e-08, 9.271126e-06]\r\n",
            "64 Fizz              [0.0, 0.0, 0.0, 1.0] [8.1056456e-13, 5.2787223e-09, 1.22187685e-11, 1.0]\r\n",
            "65 Fizz              [0.0, 0.0, 1.0, 0.0] [4.1998485e-11, 1.1808299e-18, 2.5988911e-06, 0.9999974]\r\n",
            "66 Fizz     Fizz     [0.0, 1.0, 0.0, 0.0] [8.046599e-14, 1.0, 4.643987e-20, 1.831627e-13]\r\n",
            "67 Fizz              [0.0, 0.0, 0.0, 1.0] [1.0650986e-17, 2.3076788e-16, 9.2233077e-10, 1.0]\r\n",
            "68 Fizz              [0.0, 0.0, 0.0, 1.0] [2.0448474e-22, 0.0064363447, 3.6742655e-05, 0.99352694]\r\n",
            "69 Fizz              [0.0, 1.0, 0.0, 0.0] [1.496092e-20, 0.0053585037, 0.00034703387, 0.99429446]\r\n",
            "70 Fizz     Buzz     [0.0, 0.0, 1.0, 0.0] [5.5032836e-23, 1.3843879e-08, 0.9823132, 0.01768673]\r\n",
            "71 Fizz              [0.0, 0.0, 0.0, 1.0] [1.2098551e-18, 1.5600204e-10, 2.2179719e-14, 1.0]\r\n",
            "72 Fizz     Fizz     [0.0, 1.0, 0.0, 0.0] [2.8307086e-08, 1.0, 4.254753e-14, 1.4162785e-10]\r\n",
            "73 Fizz              [0.0, 0.0, 0.0, 1.0] [3.7797592e-19, 1.0364089e-17, 1.646554e-10, 1.0]\r\n",
            "74 Fizz              [0.0, 0.0, 0.0, 1.0] [8.0144214e-13, 4.9995982e-08, 4.6612397e-12, 1.0]\r\n",
            "75 Fizz     FizzBuzz [1.0, 0.0, 0.0, 0.0] [1.0, 5.474101e-10, 2.749027e-20, 2.250215e-11]\r\n",
            "76 Fizz              [0.0, 0.0, 0.0, 1.0] [4.0542116e-26, 2.426901e-10, 0.0041981493, 0.99580187]\r\n",
            "77 Fizz              [0.0, 0.0, 0.0, 1.0] [4.841232e-23, 0.00028473226, 0.019017592, 0.98069763]\r\n",
            "78 Fizz     Fizz     [0.0, 1.0, 0.0, 0.0] [1.7433735e-12, 1.0, 9.289217e-13, 1.2527145e-12]\r\n",
            "79 Fizz              [0.0, 0.0, 0.0, 1.0] [3.898228e-19, 4.369275e-11, 6.6839016e-06, 0.9999933]\r\n",
            "80 Fizz              [0.0, 0.0, 1.0, 0.0] [1.770954e-08, 2.9576678e-11, 0.00021861319, 0.9997814]\r\n",
            "81 Fizz              [0.0, 1.0, 0.0, 0.0] [7.32174e-16, 2.1888919e-12, 7.4188567e-14, 1.0]\r\n",
            "82 Fizz              [0.0, 0.0, 0.0, 1.0] [2.8041707e-17, 1.5128147e-13, 7.333125e-10, 1.0]\r\n",
            "83 Fizz              [0.0, 0.0, 0.0, 1.0] [1.047251e-18, 4.954332e-08, 6.6877847e-06, 0.9999933]\r\n",
            "84 Fizz     Fizz     [0.0, 1.0, 0.0, 0.0] [2.6560808e-19, 0.99998987, 1.0541587e-08, 1.01153655e-05]\r\n",
            "85 Fizz     Buzz     [0.0, 0.0, 1.0, 0.0] [9.134324e-15, 0.0005269894, 0.9953675, 0.0041054976]\r\n",
            "86 Fizz              [0.0, 0.0, 0.0, 1.0] [7.9489775e-16, 2.208413e-08, 2.4363015e-13, 1.0]\r\n",
            "87 Fizz     Fizz     [0.0, 1.0, 0.0, 0.0] [9.529912e-12, 0.99988675, 8.296052e-10, 0.00011321019]\r\n",
            "88 Fizz              [0.0, 0.0, 0.0, 1.0] [2.1639825e-14, 3.5255814e-20, 1.5778714e-13, 1.0]\r\n",
            "89 Fizz              [0.0, 0.0, 0.0, 1.0] [8.654369e-18, 1.6606233e-18, 1.069012e-14, 1.0]\r\n",
            "90 Fizz     FizzBuzz [1.0, 0.0, 0.0, 0.0] [1.0, 7.2333628e-12, 8.052388e-21, 1.7390661e-08]\r\n",
            "91 Fizz              [0.0, 0.0, 0.0, 1.0] [3.1611822e-18, 5.313455e-15, 3.265364e-10, 1.0]\r\n",
            "92 Fizz              [0.0, 0.0, 0.0, 1.0] [1.613735e-18, 3.6557535e-07, 0.001159528, 0.99884015]\r\n",
            "93 Fizz     Fizz     [0.0, 1.0, 0.0, 0.0] [4.2763117e-21, 0.9999995, 4.7935305e-07, 3.0713425e-09]\r\n",
            "94 Fizz              [0.0, 0.0, 0.0, 1.0] [5.987119e-18, 3.6723838e-10, 8.404619e-09, 1.0]\r\n",
            "95 Fizz     Buzz     [0.0, 0.0, 1.0, 0.0] [6.4129385e-15, 6.666686e-07, 0.9999993, 3.4567413e-09]\r\n",
            "96 Fizz     Fizz     [0.0, 1.0, 0.0, 0.0] [3.992495e-08, 1.0, 5.6494386e-22, 1.45851144e-08]\r\n",
            "97 Fizz              [0.0, 0.0, 0.0, 1.0] [1.735539e-17, 1.4370352e-17, 3.8280035e-13, 1.0]\r\n",
            "98 Fizz              [0.0, 0.0, 0.0, 1.0] [1.8006903e-12, 0.03898626, 5.3431042e-05, 0.9609603]\r\n",
            "99 Fizz     Fizz     [0.0, 1.0, 0.0, 0.0] [1.5689726e-10, 1.0, 1.4749443e-19, 8.6785906e-13]\r\n",
            "100 Fizz     Buzz     [0.0, 0.0, 1.0, 0.0] [1.7267046e-22, 3.2785255e-09, 0.9800631, 0.019936945]\r\n"
          ],
          "name": "stdout"
        }
      ]
    },
    {
      "metadata": {
        "id": "nqlwx7saiQoU",
        "colab_type": "code",
        "colab": {
          "base_uri": "https://localhost:8080/",
          "height": 34
        },
        "outputId": "3329bda2-1df6-4e93-812a-32742d5cca23"
      },
      "cell_type": "code",
      "source": [
        "// accuracy = (correctly predicted class / total testing class) × 100%\n",
        "print(\"Errors:\" , errors, \" Correct:\", correct, \"Accuracy: \", Float(correct) / Float(correct + errors))\n",
        "\n"
      ],
      "execution_count": 10,
      "outputs": [
        {
          "output_type": "stream",
          "text": [
            "Errors: 71  Correct: 29 Accuracy:  0.29\r\n"
          ],
          "name": "stdout"
        }
      ]
    }
  ]
}