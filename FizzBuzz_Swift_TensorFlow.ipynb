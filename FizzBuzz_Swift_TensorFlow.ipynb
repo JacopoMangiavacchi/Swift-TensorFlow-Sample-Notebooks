{
  "nbformat": 4,
  "nbformat_minor": 0,
  "metadata": {
    "colab": {
      "name": "blank_swift.ipynb",
      "version": "0.3.2",
      "provenance": [],
      "collapsed_sections": [],
      "include_colab_link": true
    },
    "kernelspec": {
      "name": "swift",
      "display_name": "Swift"
    }
  },
  "cells": [
    {
      "cell_type": "markdown",
      "metadata": {
        "id": "view-in-github",
        "colab_type": "text"
      },
      "source": [
        "<a href=\"https://colab.research.google.com/github/JacopoMangiavacchi/Swift-TensorFlow-Sample-Notebooks/blob/master/FizzBuzz_Swift_TensorFlow.ipynb\" target=\"_parent\"><img src=\"https://colab.research.google.com/assets/colab-badge.svg\" alt=\"Open In Colab\"/></a>"
      ]
    },
    {
      "metadata": {
        "id": "kZRlD4utdPuX",
        "colab_type": "code",
        "colab": {}
      },
      "cell_type": "code",
      "source": [
        "import Foundation\n",
        "import TensorFlow"
      ],
      "execution_count": 0,
      "outputs": []
    },
    {
      "metadata": {
        "id": "V1iJ2NkG19Si",
        "colab_type": "code",
        "colab": {}
      },
      "cell_type": "code",
      "source": [
        "func bitEncode(_ n: UInt, bits: Int = 10) -> [Float] {\n",
        "    var array = [Float](repeating: 0, count: bits)\n",
        "    for i in 0..<bits {\n",
        "        array[bits - 1 - i] = Float(n >> i & 1)\n",
        "    }\n",
        "    return array\n",
        "}\n",
        "\n",
        "func labelEncode(_ n: UInt) -> [Float] {\n",
        "    if n > 0 {\n",
        "        if n % 15 == 0 {\n",
        "            return [1, 0, 0, 0]\n",
        "        }\n",
        "      \n",
        "        if n % 3 == 0 {\n",
        "            return [0, 1, 0, 0]\n",
        "        }\n",
        "      \n",
        "        if n % 5 == 0 {\n",
        "            return [0, 0, 1, 0]\n",
        "        }\n",
        "    }\n",
        "  \n",
        "    return [0, 0, 0, 1]\n",
        "}"
      ],
      "execution_count": 0,
      "outputs": []
    },
    {
      "metadata": {
        "id": "x2qwdXkr2viX",
        "colab_type": "code",
        "colab": {}
      },
      "cell_type": "code",
      "source": [
        "//Create a Training dataset from 101 to 1024 (NB 1024 Greatest number for 10 bits) \n",
        "let start = 101\n",
        "let end = 1024\n",
        "var X = [[Float]]()\n",
        "var Y = [[Float]]()\n",
        "\n",
        "for i in start..<end {\n",
        "    X.append(bitEncode(UInt(i)))\n",
        "    Y.append(labelEncode(UInt(i)))\n",
        "}"
      ],
      "execution_count": 0,
      "outputs": []
    },
    {
      "metadata": {
        "id": "_e1hzXeb8J5d",
        "colab_type": "code",
        "colab": {}
      },
      "cell_type": "code",
      "source": [
        "struct FizzBuzz: Layer {\n",
        "    var l1: Dense<Float>\n",
        "    var l2: Dense<Float>\n",
        "    var l3: Dense<Float>\n",
        "\n",
        "\n",
        "    init(bits: Int = 1) {\n",
        "        l1 = Dense<Float>(inputSize: bits, outputSize: 128, activation: relu)\n",
        "        l2 = Dense<Float>(inputSize: 128, outputSize: 256, activation: relu)\n",
        "        l3 = Dense<Float>(inputSize: 256, outputSize: 4) // activation: softfamx\n",
        "    }\n",
        "    \n",
        "    @differentiable\n",
        "    func applied(to input: Tensor<Float>, in context: Context) -> Tensor<Float> {\n",
        "        var output = l1.applied(to: input, in: context)\n",
        "        output = l2.applied(to: output, in: context)\n",
        "        return l3.applied(to: output, in: context)\n",
        "    }\n",
        "}"
      ],
      "execution_count": 0,
      "outputs": []
    },
    {
      "metadata": {
        "id": "JdGxV6K2VZ2X",
        "colab_type": "code",
        "outputId": "018f80d5-4e06-44e3-8a86-7477d63fb7bf",
        "colab": {
          "base_uri": "https://localhost:8080/",
          "height": 51
        }
      },
      "cell_type": "code",
      "source": [
        "let x = Tensor<Float>(shape: [Int32(end - start), 10], scalars: Array(X.joined()))\n",
        "let y = Tensor<Float>(shape: [Int32(end - start), 4], scalars: Array(Y.joined()))\n",
        "\n",
        "print(x.shape)\n",
        "print(y.shape)"
      ],
      "execution_count": 5,
      "outputs": [
        {
          "output_type": "stream",
          "text": [
            "TensorShape(dimensions: [923, 10])\r\n",
            "TensorShape(dimensions: [923, 4])\r\n"
          ],
          "name": "stdout"
        }
      ]
    },
    {
      "metadata": {
        "id": "2xoues9HoFec",
        "colab_type": "code",
        "colab": {}
      },
      "cell_type": "code",
      "source": [
        "let batchSize: Int32 = 128\n",
        "let trainingIterations = Int32(end - start) / batchSize\n",
        "\n",
        "func minibatch<T>(_ x: Tensor<T>, batchIndex: Int32) -> Tensor<T> {\n",
        "  let start = batchIndex * batchSize\n",
        "  return x[start..<start+batchSize]\n",
        "}"
      ],
      "execution_count": 0,
      "outputs": []
    },
    {
      "metadata": {
        "id": "FMTUjO5NoqoR",
        "colab_type": "code",
        "outputId": "5c6d9b78-4ba8-4fc8-cc41-6444fdb9a6cc",
        "colab": {
          "base_uri": "https://localhost:8080/",
          "height": 51
        }
      },
      "cell_type": "code",
      "source": [
        "let optimizer = RMSProp<FizzBuzz, Float>(learningRate: 0.01)\n",
        "var model = FizzBuzz(bits: 10)\n",
        "\n",
        "let trainingContext = Context(learningPhase: .training)\n",
        "for epoch in 1...200 {\n",
        "    var totalLoss: Float = 0\n",
        "\n",
        "    for i in 0..<trainingIterations {\n",
        "        let xBatch = minibatch(x, batchIndex: i)\n",
        "        let yBatch = minibatch(y, batchIndex: i)\n",
        "\n",
        "        //let gradients = gradient(at: model) { m -> Tensor<Float> in\n",
        "        let (loss, gradients) = valueWithGradient(at: model) { m -> Tensor<Float> in\n",
        "            let logit = m.applied(to: xBatch, in: trainingContext)\n",
        "            let batchLoss = softmaxCrossEntropy(logits: logit, labels: yBatch)\n",
        "            totalLoss += batchLoss.scalarized()\n",
        "            return batchLoss\n",
        "        }\n",
        "\n",
        "        //print(\"Batch \\(i) loss: \\(loss)\")\n",
        "\n",
        "        optimizer.update(&model.allDifferentiableVariables, along: gradients)\n",
        "    }\n",
        "\n",
        "\n",
        "    if epoch % 100 == 0 {\n",
        "        print(\"Epoch \\(epoch) totalLoss: \\(totalLoss)\")\n",
        "    }\n",
        "}"
      ],
      "execution_count": 7,
      "outputs": [
        {
          "output_type": "stream",
          "text": [
            "Epoch 100 totalLoss: 0.0073113805\n",
            "Epoch 200 totalLoss: 0.0008063916\n"
          ],
          "name": "stdout"
        }
      ]
    },
    {
      "metadata": {
        "id": "8u2dYDdbC0OP",
        "colab_type": "code",
        "colab": {}
      },
      "cell_type": "code",
      "source": [
        "var X_test = [[Float]]()\n",
        "var Y_true = [[Float]]()\n",
        "\n",
        "// Test number from 1 to 101\n",
        "for i in 1...100 {\n",
        "    X_test.append(bitEncode(UInt(i)))\n",
        "    Y_true.append(labelEncode(UInt(i)))\n",
        "}\n",
        "\n",
        "let xTest = Tensor<Float>(shape: [100, 10], scalars: Array(X_test.joined()))\n",
        "let yTest = model.inferring(from: xTest)"
      ],
      "execution_count": 0,
      "outputs": []
    },
    {
      "metadata": {
        "id": "JxsXeC37EqEP",
        "colab_type": "code",
        "outputId": "05126f53-c042-487a-aebb-da1745db9d48",
        "colab": {
          "base_uri": "https://localhost:8080/",
          "height": 1717
        }
      },
      "cell_type": "code",
      "source": [
        "var errors = 0\n",
        "var correct = 0\n",
        "let ySoft = softmax(yTest)\n",
        "let yMax = ySoft.argmax(squeezingAxis: 1).array\n",
        "let yArray = Array(ySoft.array)\n",
        "let description = [\"FizzBuzz\", \"Fizz    \", \"Buzz    \", \"        \"]\n",
        "\n",
        "for i in 0..<100 {\n",
        "    let prediction = Int(yMax[i].description)!\n",
        "    let groundTruth = Y_true[i].firstIndex(of: 1.0)!\n",
        "    print(i+1, description[groundTruth], description[prediction], Y_true[i], yArray[i])\n",
        "    if prediction == groundTruth {\n",
        "        correct += 1\n",
        "    }\n",
        "    else {\n",
        "        errors += 1\n",
        "    }\n",
        "}"
      ],
      "execution_count": 9,
      "outputs": [
        {
          "output_type": "stream",
          "text": [
            "1                   [0.0, 0.0, 0.0, 1.0] [1.2623381e-18, 2.1609827e-11, 2.429978e-07, 0.99999976]\r\n",
            "2                   [0.0, 0.0, 0.0, 1.0] [4.7959694e-22, 1.0356868e-07, 2.0858555e-09, 0.9999999]\r\n",
            "3 Fizz     Fizz     [0.0, 1.0, 0.0, 0.0] [3.4448574e-18, 0.9995146, 0.00048534336, 7.883036e-08]\r\n",
            "4                   [0.0, 0.0, 0.0, 1.0] [8.18925e-19, 1.60493e-05, 1.120561e-08, 0.9999839]\r\n",
            "5 Buzz              [0.0, 0.0, 1.0, 0.0] [4.0101704e-18, 3.6209986e-08, 0.09016733, 0.90983266]\r\n",
            "6 Fizz     Fizz     [0.0, 1.0, 0.0, 0.0] [5.9540815e-16, 0.9996613, 7.1387624e-10, 0.00033869097]\r\n",
            "7                   [0.0, 0.0, 0.0, 1.0] [3.7447588e-20, 2.3268811e-09, 2.5262638e-05, 0.9999747]\r\n",
            "8                   [0.0, 0.0, 0.0, 1.0] [3.0719483e-14, 9.898624e-07, 1.0015415e-07, 0.9999989]\r\n",
            "9 Fizz     Fizz     [0.0, 1.0, 0.0, 0.0] [2.975625e-10, 0.9999536, 2.3429167e-10, 4.6341716e-05]\r\n",
            "10 Buzz     Buzz     [0.0, 0.0, 1.0, 0.0] [1.1571705e-19, 0.04609151, 0.95388186, 2.6648802e-05]\r\n",
            "11                   [0.0, 0.0, 0.0, 1.0] [1.3060249e-20, 2.2679265e-09, 2.4240782e-13, 1.0]\r\n",
            "12 Fizz     Fizz     [0.0, 1.0, 0.0, 0.0] [2.4628147e-05, 0.99912816, 0.00018856919, 0.0006586794]\r\n",
            "13                   [0.0, 0.0, 0.0, 1.0] [6.311504e-09, 1.5236588e-10, 3.9101216e-09, 1.0]\r\n",
            "14                   [0.0, 0.0, 0.0, 1.0] [1.326327e-15, 3.714955e-11, 5.8218486e-11, 1.0]\r\n",
            "15 FizzBuzz FizzBuzz [1.0, 0.0, 0.0, 0.0] [0.999997, 8.643e-09, 4.7036255e-14, 2.935745e-06]\r\n",
            "16                   [0.0, 0.0, 0.0, 1.0] [4.1560785e-15, 2.1502058e-12, 1.9654878e-09, 1.0]\r\n",
            "17                   [0.0, 0.0, 0.0, 1.0] [2.3244116e-14, 1.6312559e-07, 3.0889519e-06, 0.9999968]\r\n",
            "18 Fizz     Fizz     [0.0, 1.0, 0.0, 0.0] [1.411765e-13, 0.9999987, 1.26355e-06, 5.08914e-10]\r\n",
            "19                   [0.0, 0.0, 0.0, 1.0] [1.8346937e-20, 7.047904e-07, 0.1006767, 0.8993225]\r\n",
            "20 Buzz     Buzz     [0.0, 0.0, 1.0, 0.0] [1.9350493e-12, 1.208902e-07, 0.7588497, 0.2411502]\r\n",
            "21 Fizz              [0.0, 1.0, 0.0, 0.0] [1.7694825e-11, 0.0012112262, 0.05284116, 0.94594765]\r\n",
            "22                   [0.0, 0.0, 0.0, 1.0] [5.1888096e-20, 5.4887703e-09, 3.4689785e-07, 0.99999964]\r\n",
            "23                   [0.0, 0.0, 0.0, 1.0] [4.4396885e-17, 0.0063848523, 0.41098973, 0.5826254]\r\n",
            "24 Fizz     Fizz     [0.0, 1.0, 0.0, 0.0] [8.9720603e-10, 1.0, 2.2089648e-12, 3.658831e-08]\r\n",
            "25 Buzz     Buzz     [0.0, 0.0, 1.0, 0.0] [8.7499675e-17, 7.564457e-09, 0.99943835, 0.00056161766]\r\n",
            "26                   [0.0, 0.0, 0.0, 1.0] [5.9279285e-22, 1.1602894e-09, 1.3428098e-10, 1.0]\r\n",
            "27 Fizz     Fizz     [0.0, 1.0, 0.0, 0.0] [4.055644e-12, 0.9999995, 5.5274677e-11, 5.019908e-07]\r\n",
            "28                   [0.0, 0.0, 0.0, 1.0] [6.417798e-10, 4.8729003e-08, 1.2570918e-05, 0.9999875]\r\n",
            "29                   [0.0, 0.0, 0.0, 1.0] [2.1505837e-06, 9.41693e-07, 6.0796563e-05, 0.9999361]\r\n",
            "30 FizzBuzz FizzBuzz [1.0, 0.0, 0.0, 0.0] [0.9998241, 7.274929e-05, 1.5641344e-10, 0.00010321768]\r\n",
            "31                   [0.0, 0.0, 0.0, 1.0] [1.308256e-08, 6.158501e-07, 0.001214329, 0.9987851]\r\n",
            "32                   [0.0, 0.0, 0.0, 1.0] [1.1220149e-18, 1.5825384e-15, 2.7618758e-17, 1.0]\r\n",
            "33 Fizz     Fizz     [0.0, 1.0, 0.0, 0.0] [2.3310854e-13, 0.997973, 0.0013272327, 0.0006997845]\r\n",
            "34          Fizz     [0.0, 0.0, 0.0, 1.0] [3.7315444e-14, 0.9998528, 9.620065e-05, 5.102809e-05]\r\n",
            "35 Buzz     Buzz     [0.0, 0.0, 1.0, 0.0] [3.441066e-25, 7.4334616e-10, 1.0, 8.207296e-09]\r\n",
            "36 Fizz     Fizz     [0.0, 1.0, 0.0, 0.0] [4.016755e-15, 0.994319, 3.94259e-11, 0.005680981]\r\n",
            "37                   [0.0, 0.0, 0.0, 1.0] [2.1712535e-20, 1.6192644e-08, 3.3250699e-06, 0.99999666]\r\n",
            "38          Buzz     [0.0, 0.0, 0.0, 1.0] [1.4855541e-22, 0.00036467583, 0.99043053, 0.009204781]\r\n",
            "39 Fizz     Fizz     [0.0, 1.0, 0.0, 0.0] [9.727916e-16, 0.9999987, 1.3297713e-06, 4.7269137e-12]\r\n",
            "40 Buzz     Buzz     [0.0, 0.0, 1.0, 0.0] [1.945519e-12, 1.25587085e-05, 0.9978089, 0.0021785898]\r\n",
            "41                   [0.0, 0.0, 0.0, 1.0] [1.1862798e-15, 3.8768208e-10, 4.5524483e-11, 1.0]\r\n",
            "42 Fizz     Fizz     [0.0, 1.0, 0.0, 0.0] [3.0462009e-15, 0.99999976, 3.5695682e-09, 2.432547e-07]\r\n",
            "43                   [0.0, 0.0, 0.0, 1.0] [1.6170471e-11, 0.0013483944, 1.6395181e-09, 0.9986517]\r\n",
            "44                   [0.0, 0.0, 0.0, 1.0] [8.7106725e-11, 5.334227e-09, 3.4843273e-09, 1.0]\r\n",
            "45 FizzBuzz FizzBuzz [1.0, 0.0, 0.0, 0.0] [0.9889514, 6.895422e-06, 8.6773644e-10, 0.011041686]\r\n",
            "46          Fizz     [0.0, 0.0, 0.0, 1.0] [2.0338531e-10, 0.85664743, 8.899558e-06, 0.14334366]\r\n",
            "47                   [0.0, 0.0, 0.0, 1.0] [1.6611478e-13, 1.98151e-06, 2.615233e-05, 0.99997187]\r\n",
            "48 Fizz     Fizz     [0.0, 1.0, 0.0, 0.0] [1.9906239e-09, 0.99998367, 1.28871325e-05, 3.4668114e-06]\r\n",
            "49          Buzz     [0.0, 0.0, 0.0, 1.0] [6.811049e-21, 2.7551016e-07, 0.8675604, 0.13243933]\r\n",
            "50 Buzz     Buzz     [0.0, 0.0, 1.0, 0.0] [1.9437957e-22, 8.755363e-11, 1.0, 1.9386952e-09]\r\n",
            "51 Fizz     Fizz     [0.0, 1.0, 0.0, 0.0] [1.83575e-19, 0.9999379, 6.212303e-05, 9.158947e-09]\r\n",
            "52                   [0.0, 0.0, 0.0, 1.0] [2.606616e-19, 6.46607e-08, 2.4990645e-06, 0.9999974]\r\n",
            "53          Buzz     [0.0, 0.0, 0.0, 1.0] [6.711423e-16, 0.00459925, 0.82781804, 0.16758272]\r\n",
            "54 Fizz     Fizz     [0.0, 1.0, 0.0, 0.0] [1.0738348e-14, 1.0, 3.3353135e-08, 8.45311e-12]\r\n",
            "55 Buzz     Buzz     [0.0, 0.0, 1.0, 0.0] [1.060869e-25, 3.0853992e-10, 1.0, 4.5219304e-09]\r\n",
            "56                   [0.0, 0.0, 0.0, 1.0] [1.3611785e-20, 8.697001e-13, 1.2922083e-09, 1.0]\r\n",
            "57 Fizz     Fizz     [0.0, 1.0, 0.0, 0.0] [9.051909e-13, 0.99994504, 4.5760953e-05, 9.170197e-06]\r\n",
            "58                   [0.0, 0.0, 0.0, 1.0] [2.193914e-14, 1.3243609e-05, 4.7854144e-08, 0.99998677]\r\n",
            "59                   [0.0, 0.0, 0.0, 1.0] [7.538144e-17, 2.7251009e-08, 5.7051693e-07, 0.9999994]\r\n",
            "60 FizzBuzz FizzBuzz [1.0, 0.0, 0.0, 0.0] [0.9982407, 0.0007678198, 9.838736e-07, 0.0009904935]\r\n",
            "61                   [0.0, 0.0, 0.0, 1.0] [7.318286e-10, 5.859204e-06, 0.30222118, 0.69777304]\r\n",
            "62                   [0.0, 0.0, 0.0, 1.0] [4.568156e-15, 2.9566233e-06, 0.000285152, 0.9997118]\r\n",
            "63 Fizz     Fizz     [0.0, 1.0, 0.0, 0.0] [1.06977665e-11, 0.9986659, 0.0013338574, 1.8596361e-07]\r\n",
            "64                   [0.0, 0.0, 0.0, 1.0] [2.4881919e-15, 3.5633036e-13, 3.3809498e-19, 1.0]\r\n",
            "65 Buzz              [0.0, 0.0, 1.0, 0.0] [3.9301375e-09, 4.291626e-10, 1.9371242e-09, 1.0]\r\n",
            "66 Fizz     Fizz     [0.0, 1.0, 0.0, 0.0] [2.1842502e-15, 0.9999502, 5.3875323e-19, 4.9786504e-05]\r\n",
            "67                   [0.0, 0.0, 0.0, 1.0] [2.142597e-18, 3.9839787e-10, 1.6406062e-11, 1.0]\r\n",
            "68          Fizz     [0.0, 0.0, 0.0, 1.0] [1.8532424e-26, 0.5409365, 4.0920673e-05, 0.4590225]\r\n",
            "69 Fizz              [0.0, 1.0, 0.0, 0.0] [4.79791e-19, 0.03141815, 4.16988e-06, 0.9685777]\r\n",
            "70 Buzz     Buzz     [0.0, 0.0, 1.0, 0.0] [2.7987525e-27, 2.327042e-06, 0.99998605, 1.1573978e-05]\r\n",
            "71                   [0.0, 0.0, 0.0, 1.0] [2.8109376e-18, 1.4708081e-07, 2.0290722e-11, 0.9999999]\r\n",
            "72 Fizz     Fizz     [0.0, 1.0, 0.0, 0.0] [0.025847599, 0.9739189, 2.500562e-13, 0.00023350824]\r\n",
            "73                   [0.0, 0.0, 0.0, 1.0] [2.133355e-08, 2.0646749e-13, 7.527717e-17, 1.0]\r\n",
            "74                   [0.0, 0.0, 0.0, 1.0] [7.1375507e-16, 1.2822683e-11, 1.4003868e-18, 1.0]\r\n",
            "75 FizzBuzz FizzBuzz [1.0, 0.0, 0.0, 0.0] [0.9999169, 1.142529e-06, 1.1686878e-21, 8.196916e-05]\r\n",
            "76                   [0.0, 0.0, 0.0, 1.0] [3.3047344e-15, 6.111972e-05, 0.011923105, 0.98801583]\r\n",
            "77                   [0.0, 0.0, 0.0, 1.0] [5.1736467e-12, 2.0978287e-05, 0.00021293788, 0.99976605]\r\n",
            "78 Fizz     Fizz     [0.0, 1.0, 0.0, 0.0] [2.3529764e-10, 1.0, 4.195192e-11, 2.1805995e-08]\r\n",
            "79                   [0.0, 0.0, 0.0, 1.0] [4.3303468e-13, 1.618267e-07, 1.8562009e-08, 0.9999999]\r\n",
            "80 Buzz              [0.0, 0.0, 1.0, 0.0] [1.8826431e-12, 4.4231315e-13, 3.100185e-08, 1.0]\r\n",
            "81 Fizz              [0.0, 1.0, 0.0, 0.0] [7.603683e-12, 3.8017567e-10, 6.449372e-12, 1.0]\r\n",
            "82                   [0.0, 0.0, 0.0, 1.0] [6.909901e-14, 4.0856854e-08, 3.010591e-08, 1.0]\r\n",
            "83                   [0.0, 0.0, 0.0, 1.0] [3.742234e-18, 4.312055e-06, 0.00010119452, 0.9998945]\r\n",
            "84 Fizz              [0.0, 1.0, 0.0, 0.0] [2.8080411e-19, 0.101933666, 2.6361968e-05, 0.89804]\r\n",
            "85 Buzz     Buzz     [0.0, 0.0, 1.0, 0.0] [1.5821787e-18, 7.3852124e-09, 0.9993967, 0.00060331105]\r\n",
            "86                   [0.0, 0.0, 0.0, 1.0] [8.3222454e-20, 3.1706122e-08, 3.674156e-14, 1.0]\r\n",
            "87 Fizz     Fizz     [0.0, 1.0, 0.0, 0.0] [1.6048724e-15, 0.9945891, 0.003369455, 0.0020414891]\r\n",
            "88                   [0.0, 0.0, 0.0, 1.0] [2.7618028e-09, 1.644673e-11, 9.7481065e-11, 1.0]\r\n",
            "89                   [0.0, 0.0, 0.0, 1.0] [2.4298339e-05, 1.0339441e-08, 7.3904316e-10, 0.9999757]\r\n",
            "90 FizzBuzz FizzBuzz [1.0, 0.0, 0.0, 0.0] [0.9999893, 2.8351133e-07, 5.2779607e-24, 1.0426796e-05]\r\n",
            "91                   [0.0, 0.0, 0.0, 1.0] [2.1020345e-13, 5.245228e-10, 2.7367214e-13, 1.0]\r\n",
            "92                   [0.0, 0.0, 0.0, 1.0] [1.642433e-12, 2.8222314e-05, 0.00038610277, 0.9995857]\r\n",
            "93 Fizz     Fizz     [0.0, 1.0, 0.0, 0.0] [2.3647291e-07, 0.7049727, 0.0982663, 0.1967608]\r\n",
            "94                   [0.0, 0.0, 0.0, 1.0] [1.9703145e-13, 4.52547e-08, 1.6885041e-09, 1.0]\r\n",
            "95 Buzz     Buzz     [0.0, 0.0, 1.0, 0.0] [4.855066e-13, 2.9531968e-06, 0.999997, 4.961064e-08]\r\n",
            "96 Fizz              [0.0, 1.0, 0.0, 0.0] [6.531089e-11, 9.2522265e-09, 1.7751001e-29, 1.0]\r\n",
            "97                   [0.0, 0.0, 0.0, 1.0] [1.3059578e-16, 8.16569e-15, 1.7976814e-16, 1.0]\r\n",
            "98                   [0.0, 0.0, 0.0, 1.0] [1.3396199e-19, 4.775635e-06, 9.901442e-10, 0.99999523]\r\n",
            "99 Fizz     Fizz     [0.0, 1.0, 0.0, 0.0] [1.1937127e-12, 1.0, 1.0433068e-10, 1.8440801e-11]\r\n",
            "100 Buzz              [0.0, 0.0, 1.0, 0.0] [5.6023945e-21, 0.31528628, 0.09672783, 0.5879859]\r\n"
          ],
          "name": "stdout"
        }
      ]
    },
    {
      "metadata": {
        "id": "nqlwx7saiQoU",
        "colab_type": "code",
        "colab": {
          "base_uri": "https://localhost:8080/",
          "height": 34
        },
        "outputId": "a91f9155-ba7d-481d-c55f-0810d433d7b8"
      },
      "cell_type": "code",
      "source": [
        "// accuracy = (correctly predicted class / total testing class) × 100%\n",
        "print(\"Errors:\" , errors, \" Correct:\", correct, \"Accuracy: \", Float(correct) / Float(correct + errors))\n",
        "\n"
      ],
      "execution_count": 10,
      "outputs": [
        {
          "output_type": "stream",
          "text": [
            "Errors: 15  Correct: 85 Accuracy:  0.85\r\n"
          ],
          "name": "stdout"
        }
      ]
    }
  ]
}