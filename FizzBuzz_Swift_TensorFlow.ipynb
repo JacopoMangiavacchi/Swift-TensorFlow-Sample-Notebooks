{
  "nbformat": 4,
  "nbformat_minor": 0,
  "metadata": {
    "colab": {
      "name": "blank_swift.ipynb",
      "version": "0.3.2",
      "provenance": [],
      "collapsed_sections": [],
      "include_colab_link": true
    },
    "kernelspec": {
      "name": "swift",
      "display_name": "Swift"
    }
  },
  "cells": [
    {
      "cell_type": "markdown",
      "metadata": {
        "id": "view-in-github",
        "colab_type": "text"
      },
      "source": [
        "<a href=\"https://colab.research.google.com/github/JacopoMangiavacchi/Swift-TensorFlow-Sample-Notebooks/blob/master/FizzBuzz_Swift_TensorFlow.ipynb\" target=\"_parent\"><img src=\"https://colab.research.google.com/assets/colab-badge.svg\" alt=\"Open In Colab\"/></a>"
      ]
    },
    {
      "metadata": {
        "id": "kZRlD4utdPuX",
        "colab_type": "code",
        "colab": {}
      },
      "cell_type": "code",
      "source": [
        "import Foundation\n",
        "import TensorFlow"
      ],
      "execution_count": 0,
      "outputs": []
    },
    {
      "metadata": {
        "id": "V1iJ2NkG19Si",
        "colab_type": "code",
        "colab": {}
      },
      "cell_type": "code",
      "source": [
        "func bitEncode(_ n: UInt, bits: Int = 10) -> [Float] {\n",
        "    var array = [Float](repeating: 0, count: bits)\n",
        "    for i in 0..<bits {\n",
        "        array[bits - 1 - i] = Float(n >> i & 1)\n",
        "    }\n",
        "    return array\n",
        "}\n",
        "\n",
        "func labelEncode(_ n: UInt) -> [Float] {\n",
        "    if n > 0 {\n",
        "        if n % 15 == 0 {\n",
        "            return [1, 0, 0, 0]\n",
        "        }\n",
        "      \n",
        "        if n % 3 == 0 {\n",
        "            return [0, 1, 0, 0]\n",
        "        }\n",
        "      \n",
        "        if n % 5 == 0 {\n",
        "            return [0, 0, 1, 0]\n",
        "        }\n",
        "    }\n",
        "  \n",
        "    return [0, 0, 0, 1]\n",
        "}"
      ],
      "execution_count": 0,
      "outputs": []
    },
    {
      "metadata": {
        "id": "x2qwdXkr2viX",
        "colab_type": "code",
        "colab": {}
      },
      "cell_type": "code",
      "source": [
        "//Create a Training dataset from 101 to 1024 (NB 1024 Greatest number for 10 bits) \n",
        "let start = 101\n",
        "let end = 1024\n",
        "var X = [[Float]]()\n",
        "var Y = [[Float]]()\n",
        "\n",
        "for i in start..<end {\n",
        "    X.append(bitEncode(UInt(i)))\n",
        "    Y.append(labelEncode(UInt(i)))\n",
        "}"
      ],
      "execution_count": 0,
      "outputs": []
    },
    {
      "metadata": {
        "id": "_e1hzXeb8J5d",
        "colab_type": "code",
        "colab": {}
      },
      "cell_type": "code",
      "source": [
        "struct FizzBuzz: Layer {\n",
        "    var l1: Dense<Float>\n",
        "    var l2: Dense<Float>\n",
        "    var l3: Dense<Float>\n",
        "\n",
        "\n",
        "    init(bits: Int = 1) {\n",
        "        l1 = Dense<Float>(inputSize: bits, outputSize: 128, activation: relu)\n",
        "        l2 = Dense<Float>(inputSize: 128, outputSize: 256, activation: relu)\n",
        "        l3 = Dense<Float>(inputSize: 256, outputSize: 4) // activation: softfamx\n",
        "    }\n",
        "    \n",
        "    @differentiable\n",
        "    func applied(to input: Tensor<Float>, in context: Context) -> Tensor<Float> {\n",
        "        var output = l1.applied(to: input, in: context)\n",
        "        output = l2.applied(to: output, in: context)\n",
        "        return l3.applied(to: output, in: context)\n",
        "    }\n",
        "}"
      ],
      "execution_count": 0,
      "outputs": []
    },
    {
      "metadata": {
        "id": "JdGxV6K2VZ2X",
        "colab_type": "code",
        "outputId": "d95ed066-49dc-4be9-89ce-2d2f22c576a6",
        "colab": {
          "base_uri": "https://localhost:8080/",
          "height": 51
        }
      },
      "cell_type": "code",
      "source": [
        "let x = Tensor<Float>(shape: [Int32(end - start), 10], scalars: Array(X.joined()))\n",
        "let y = Tensor<Float>(shape: [Int32(end - start), 4], scalars: Array(Y.joined()))\n",
        "\n",
        "print(x.shape)\n",
        "print(y.shape)"
      ],
      "execution_count": 5,
      "outputs": [
        {
          "output_type": "stream",
          "text": [
            "TensorShape(dimensions: [923, 10])\r\n",
            "TensorShape(dimensions: [923, 4])\r\n"
          ],
          "name": "stdout"
        }
      ]
    },
    {
      "metadata": {
        "id": "2xoues9HoFec",
        "colab_type": "code",
        "colab": {}
      },
      "cell_type": "code",
      "source": [
        "let batchSize: Int32 = 128\n",
        "let trainingIterations = Int32(end - start) / batchSize\n",
        "\n",
        "func minibatch<T>(_ x: Tensor<T>, batchIndex: Int32) -> Tensor<T> {\n",
        "  let start = batchIndex * batchSize\n",
        "  return x[start..<start+batchSize]\n",
        "}"
      ],
      "execution_count": 0,
      "outputs": []
    },
    {
      "metadata": {
        "id": "FMTUjO5NoqoR",
        "colab_type": "code",
        "outputId": "d2372421-b68c-4c5a-fab0-62e826a7960f",
        "colab": {
          "base_uri": "https://localhost:8080/",
          "height": 51
        }
      },
      "cell_type": "code",
      "source": [
        "let optimizer = RMSProp<FizzBuzz, Float>(learningRate: 0.01)\n",
        "var model = FizzBuzz(bits: 10)\n",
        "\n",
        "let trainingContext = Context(learningPhase: .training)\n",
        "for epoch in 1...200 {\n",
        "    var totalLoss: Float = 0\n",
        "\n",
        "    for i in 0..<trainingIterations {\n",
        "        let xBatch = minibatch(x, batchIndex: i)\n",
        "        let yBatch = minibatch(y, batchIndex: i)\n",
        "\n",
        "        //let gradients = gradient(at: model) { m -> Tensor<Float> in\n",
        "        let (loss, gradients) = valueWithGradient(at: model) { m -> Tensor<Float> in\n",
        "            let logit = m.applied(to: xBatch, in: trainingContext)\n",
        "            let batchLoss = softmaxCrossEntropy(logits: logit, labels: yBatch)\n",
        "            totalLoss += batchLoss.scalarized()\n",
        "            return batchLoss\n",
        "        }\n",
        "\n",
        "        //print(\"Batch \\(i) loss: \\(loss)\")\n",
        "\n",
        "        optimizer.update(&model.allDifferentiableVariables, along: gradients)\n",
        "    }\n",
        "\n",
        "\n",
        "    if epoch % 100 == 0 {\n",
        "        print(\"Epoch \\(epoch) totalLoss: \\(totalLoss)\")\n",
        "    }\n",
        "}"
      ],
      "execution_count": 7,
      "outputs": [
        {
          "output_type": "stream",
          "text": [
            "Epoch 100 totalLoss: 0.010002149\n",
            "Epoch 200 totalLoss: 0.00015607956\n"
          ],
          "name": "stdout"
        }
      ]
    },
    {
      "metadata": {
        "id": "8u2dYDdbC0OP",
        "colab_type": "code",
        "colab": {}
      },
      "cell_type": "code",
      "source": [
        "var X_test = [[Float]]()\n",
        "var Y_true = [[Float]]()\n",
        "\n",
        "// Test number from 1 to 101\n",
        "for i in 1...100 {\n",
        "    X_test.append(bitEncode(UInt(i)))\n",
        "    Y_true.append(labelEncode(UInt(i)))\n",
        "}\n",
        "\n",
        "let xTest = Tensor<Float>(shape: [100, 10], scalars: Array(X_test.joined()))\n",
        "let yTest = model.inferring(from: xTest)"
      ],
      "execution_count": 0,
      "outputs": []
    },
    {
      "metadata": {
        "id": "JxsXeC37EqEP",
        "colab_type": "code",
        "outputId": "b8c7ed7c-803d-4868-87fc-9ade0dd2bbba",
        "colab": {
          "base_uri": "https://localhost:8080/",
          "height": 1717
        }
      },
      "cell_type": "code",
      "source": [
        "var errors = 0\n",
        "var correct = 0\n",
        "let ySoft = softmax(yTest)\n",
        "let yMax = ySoft.argmax(squeezingAxis: 1).array\n",
        "let yArray = Array(ySoft.array)\n",
        "let description = [\"FizzBuzz\", \"Fizz    \", \"Buzz    \", \"        \"]\n",
        "\n",
        "for i in 0..<100 {\n",
        "    let prediction = Int(yMax[i].description)!\n",
        "    let groundTruth = Y_true[i].firstIndex(of: 1.0)!\n",
        "    print(i+1, description[groundTruth], description[prediction], Y_true[i], yArray[i])\n",
        "    if prediction == groundTruth {\n",
        "        correct += 1\n",
        "    }\n",
        "    else {\n",
        "        errors += 1\n",
        "    }\n",
        "}"
      ],
      "execution_count": 9,
      "outputs": [
        {
          "output_type": "stream",
          "text": [
            "1                   [0.0, 0.0, 0.0, 1.0] [1.9811426e-13, 0.00018163155, 2.5936185e-06, 0.99981576]\r\n",
            "2                   [0.0, 0.0, 0.0, 1.0] [2.2040472e-10, 0.00016341724, 3.488025e-05, 0.9998017]\r\n",
            "3 Fizz     Fizz     [0.0, 1.0, 0.0, 0.0] [3.6260284e-09, 0.9999994, 2.9450404e-09, 6.0086904e-07]\r\n",
            "4                   [0.0, 0.0, 0.0, 1.0] [1.7920952e-08, 3.560396e-06, 7.353173e-09, 0.9999964]\r\n",
            "5 Buzz     Buzz     [0.0, 0.0, 1.0, 0.0] [8.107488e-12, 1.6272024e-07, 0.9999082, 9.156808e-05]\r\n",
            "6 Fizz     Fizz     [0.0, 1.0, 0.0, 0.0] [2.4966236e-09, 0.9999925, 3.4223417e-09, 7.546182e-06]\r\n",
            "7                   [0.0, 0.0, 0.0, 1.0] [1.9640776e-09, 0.00014889237, 1.36646495e-05, 0.9998374]\r\n",
            "8                   [0.0, 0.0, 0.0, 1.0] [1.1962574e-10, 1.0894074e-08, 9.653646e-06, 0.99999034]\r\n",
            "9 Fizz     Fizz     [0.0, 1.0, 0.0, 0.0] [1.2288913e-14, 1.0, 5.2801843e-12, 1.0668149e-09]\r\n",
            "10 Buzz     Buzz     [0.0, 0.0, 1.0, 0.0] [4.3270905e-14, 5.908113e-08, 0.99999774, 2.2617796e-06]\r\n",
            "11                   [0.0, 0.0, 0.0, 1.0] [7.022906e-13, 5.0171813e-08, 6.797863e-07, 0.9999993]\r\n",
            "12 Fizz     Fizz     [0.0, 1.0, 0.0, 0.0] [0.05372304, 0.9371256, 1.2996461e-08, 0.009151277]\r\n",
            "13                   [0.0, 0.0, 0.0, 1.0] [1.299082e-07, 3.0312815e-08, 2.4965574e-08, 0.9999999]\r\n",
            "14                   [0.0, 0.0, 0.0, 1.0] [4.8409658e-11, 7.5016576e-10, 9.1867886e-10, 1.0]\r\n",
            "15 FizzBuzz FizzBuzz [1.0, 0.0, 0.0, 0.0] [0.9999869, 1.2036924e-05, 7.4218485e-13, 1.0616538e-06]\r\n",
            "16                   [0.0, 0.0, 0.0, 1.0] [7.9097675e-12, 0.00011823872, 2.217106e-05, 0.9998596]\r\n",
            "17                   [0.0, 0.0, 0.0, 1.0] [4.3942867e-14, 0.2974675, 0.2616267, 0.4409058]\r\n",
            "18 Fizz     Fizz     [0.0, 1.0, 0.0, 0.0] [1.7103335e-10, 0.9999999, 1.4372061e-08, 8.26388e-08]\r\n",
            "19          Buzz     [0.0, 0.0, 0.0, 1.0] [2.367396e-13, 5.7214475e-05, 0.60628074, 0.393662]\r\n",
            "20 Buzz     Buzz     [0.0, 0.0, 1.0, 0.0] [9.4885766e-11, 2.6413022e-06, 0.9999263, 7.0984745e-05]\r\n",
            "21 Fizz     Fizz     [0.0, 1.0, 0.0, 0.0] [7.378927e-17, 0.9945093, 0.00012000464, 0.005370744]\r\n",
            "22                   [0.0, 0.0, 0.0, 1.0] [3.302815e-09, 0.042861626, 4.975475e-06, 0.9571334]\r\n",
            "23                   [0.0, 0.0, 0.0, 1.0] [7.0128646e-11, 0.005886951, 0.011087821, 0.9830252]\r\n",
            "24 Fizz     Fizz     [0.0, 1.0, 0.0, 0.0] [2.561606e-12, 0.99999917, 8.7610563e-10, 7.853042e-07]\r\n",
            "25 Buzz     Buzz     [0.0, 0.0, 1.0, 0.0] [1.1617831e-16, 1.4297481e-07, 0.9999856, 1.4225534e-05]\r\n",
            "26                   [0.0, 0.0, 0.0, 1.0] [1.9533913e-14, 2.9881448e-09, 6.077838e-07, 0.9999994]\r\n",
            "27 Fizz     Fizz     [0.0, 1.0, 0.0, 0.0] [2.9984085e-11, 0.9999999, 1.3865129e-07, 3.313823e-08]\r\n",
            "28                   [0.0, 0.0, 0.0, 1.0] [3.6599545e-07, 1.7027203e-09, 2.3242751e-07, 0.9999994]\r\n",
            "29                   [0.0, 0.0, 0.0, 1.0] [2.7178153e-09, 0.00010264698, 0.00022087606, 0.9996766]\r\n",
            "30 FizzBuzz FizzBuzz [1.0, 0.0, 0.0, 0.0] [0.9997024, 0.000285158, 1.7698028e-10, 1.23945565e-05]\r\n",
            "31                   [0.0, 0.0, 0.0, 1.0] [1.0429272e-09, 2.046531e-06, 9.147155e-09, 0.999998]\r\n",
            "32                   [0.0, 0.0, 0.0, 1.0] [4.1225409e-16, 0.00014604027, 0.0006235304, 0.9992304]\r\n",
            "33 Fizz     Fizz     [0.0, 1.0, 0.0, 0.0] [6.069493e-17, 1.0, 3.696305e-10, 8.2947565e-11]\r\n",
            "34                   [0.0, 0.0, 0.0, 1.0] [1.9457074e-14, 0.0019301474, 0.3461982, 0.6518717]\r\n",
            "35 Buzz     Buzz     [0.0, 0.0, 1.0, 0.0] [5.1807252e-18, 2.9184433e-11, 0.9999995, 4.224954e-07]\r\n",
            "36 Fizz     Fizz     [0.0, 1.0, 0.0, 0.0] [2.931135e-10, 0.999944, 4.7359233e-08, 5.6054174e-05]\r\n",
            "37                   [0.0, 0.0, 0.0, 1.0] [1.5422067e-09, 0.024274131, 0.03465847, 0.9410674]\r\n",
            "38          Buzz     [0.0, 0.0, 0.0, 1.0] [4.450427e-15, 2.5304196e-05, 0.9224916, 0.07748314]\r\n",
            "39 Fizz     Fizz     [0.0, 1.0, 0.0, 0.0] [3.1622673e-09, 0.99999917, 3.9261806e-08, 8.723327e-07]\r\n",
            "40 Buzz     Buzz     [0.0, 0.0, 1.0, 0.0] [2.5440713e-12, 6.8265287e-09, 0.9993962, 0.00060382567]\r\n",
            "41                   [0.0, 0.0, 0.0, 1.0] [3.810032e-14, 1.8410872e-06, 5.1978652e-09, 0.9999982]\r\n",
            "42 Fizz              [0.0, 1.0, 0.0, 0.0] [1.5742309e-12, 3.7007333e-06, 0.0006642076, 0.999332]\r\n",
            "43                   [0.0, 0.0, 0.0, 1.0] [6.193372e-13, 1.6496273e-11, 1.8181986e-09, 1.0]\r\n",
            "44                   [0.0, 0.0, 0.0, 1.0] [7.188666e-11, 8.773459e-09, 2.1603619e-10, 1.0]\r\n",
            "45 FizzBuzz FizzBuzz [1.0, 0.0, 0.0, 0.0] [0.9999932, 3.7188777e-06, 3.1306603e-11, 3.112565e-06]\r\n",
            "46                   [0.0, 0.0, 0.0, 1.0] [3.3181063e-15, 8.344954e-10, 2.5067832e-08, 1.0]\r\n",
            "47                   [0.0, 0.0, 0.0, 1.0] [3.871887e-12, 2.9726922e-07, 3.7114614e-08, 0.99999976]\r\n",
            "48 Fizz     Fizz     [0.0, 1.0, 0.0, 0.0] [2.947403e-16, 1.0, 2.7151877e-08, 1.0245222e-09]\r\n",
            "49                   [0.0, 0.0, 0.0, 1.0] [2.0068296e-13, 0.052697804, 0.053730566, 0.8935716]\r\n",
            "50 Buzz     Buzz     [0.0, 0.0, 1.0, 0.0] [1.7322238e-15, 1.9890878e-10, 0.9999943, 5.6944345e-06]\r\n",
            "51 Fizz     Fizz     [0.0, 1.0, 0.0, 0.0] [3.683095e-14, 1.0, 5.667867e-09, 1.9005856e-08]\r\n",
            "52                   [0.0, 0.0, 0.0, 1.0] [1.1804777e-08, 0.039741684, 0.00032232743, 0.95993596]\r\n",
            "53          Fizz     [0.0, 0.0, 0.0, 1.0] [2.6184095e-13, 0.6154454, 0.11605249, 0.2685021]\r\n",
            "54 Fizz     Fizz     [0.0, 1.0, 0.0, 0.0] [6.0948513e-09, 0.99999964, 2.2522411e-07, 1.0032094e-07]\r\n",
            "55 Buzz     Buzz     [0.0, 0.0, 1.0, 0.0] [8.2814764e-14, 7.673365e-08, 0.9999995, 3.7151594e-07]\r\n",
            "56                   [0.0, 0.0, 0.0, 1.0] [3.6305035e-15, 1.3065367e-07, 1.5972413e-09, 0.9999999]\r\n",
            "57 Fizz     Fizz     [0.0, 1.0, 0.0, 0.0] [5.6814474e-14, 1.0, 4.390595e-09, 5.6287526e-08]\r\n",
            "58                   [0.0, 0.0, 0.0, 1.0] [4.975224e-13, 7.078216e-11, 5.752955e-08, 1.0]\r\n",
            "59                   [0.0, 0.0, 0.0, 1.0] [1.2186702e-12, 6.7694195e-08, 6.6670475e-07, 0.99999917]\r\n",
            "60 FizzBuzz FizzBuzz [1.0, 0.0, 0.0, 0.0] [0.9999571, 3.2614476e-05, 5.2837283e-11, 1.0288315e-05]\r\n",
            "61                   [0.0, 0.0, 0.0, 1.0] [1.6092506e-11, 0.19676651, 3.8914436e-06, 0.8032295]\r\n",
            "62                   [0.0, 0.0, 0.0, 1.0] [1.1950011e-12, 5.7887706e-07, 1.0911936e-07, 0.9999993]\r\n",
            "63 Fizz     Fizz     [0.0, 1.0, 0.0, 0.0] [2.0930271e-10, 0.9999995, 1.5574615e-08, 5.2417636e-07]\r\n",
            "64                   [0.0, 0.0, 0.0, 1.0] [9.089292e-06, 3.8747055e-07, 4.292402e-11, 0.9999906]\r\n",
            "65 Buzz              [0.0, 0.0, 1.0, 0.0] [1.4194947e-06, 4.1276353e-06, 0.001722628, 0.9982718]\r\n",
            "66 Fizz     Fizz     [0.0, 1.0, 0.0, 0.0] [5.9487326e-10, 0.9999993, 5.2458892e-12, 6.875548e-07]\r\n",
            "67                   [0.0, 0.0, 0.0, 1.0] [5.5614238e-09, 0.00013079442, 2.5276427e-06, 0.9998667]\r\n",
            "68                   [0.0, 0.0, 0.0, 1.0] [1.433939e-17, 1.6141744e-06, 6.281484e-08, 0.9999982]\r\n",
            "69 Fizz              [0.0, 1.0, 0.0, 0.0] [5.1484396e-17, 0.032936174, 0.0002862962, 0.96677756]\r\n",
            "70 Buzz              [0.0, 0.0, 1.0, 0.0] [2.1053252e-09, 0.006827757, 0.23510206, 0.75807023]\r\n",
            "71                   [0.0, 0.0, 0.0, 1.0] [2.3427547e-12, 2.4544546e-05, 2.9861891e-07, 0.9999751]\r\n",
            "72 Fizz     FizzBuzz [0.0, 1.0, 0.0, 0.0] [0.9970638, 0.0019684448, 1.1177487e-09, 0.0009677103]\r\n",
            "73                   [0.0, 0.0, 0.0, 1.0] [1.6471874e-06, 4.2561975e-11, 1.3132008e-10, 0.99999833]\r\n",
            "74                   [0.0, 0.0, 0.0, 1.0] [4.6839685e-11, 1.0911777e-11, 1.7554024e-08, 1.0]\r\n",
            "75 FizzBuzz FizzBuzz [1.0, 0.0, 0.0, 0.0] [0.99996924, 2.9500427e-05, 2.2482495e-11, 1.2654798e-06]\r\n",
            "76                   [0.0, 0.0, 0.0, 1.0] [4.743744e-13, 5.6619168e-08, 1.7660618e-08, 1.0]\r\n",
            "77                   [0.0, 0.0, 0.0, 1.0] [1.1754477e-12, 3.3090544e-08, 2.8847296e-07, 0.99999976]\r\n",
            "78 Fizz     Fizz     [0.0, 1.0, 0.0, 0.0] [6.0338526e-11, 0.9999975, 8.304671e-09, 2.4870062e-06]\r\n",
            "79                   [0.0, 0.0, 0.0, 1.0] [4.900784e-10, 0.00032859886, 3.8519986e-05, 0.99963295]\r\n",
            "80 Buzz              [0.0, 0.0, 1.0, 0.0] [3.3064603e-05, 2.0103428e-07, 0.033981774, 0.9659849]\r\n",
            "81 Fizz              [0.0, 1.0, 0.0, 0.0] [1.3177201e-13, 0.004149208, 1.5544822e-09, 0.9958508]\r\n",
            "82                   [0.0, 0.0, 0.0, 1.0] [1.7429082e-08, 5.3152762e-05, 2.6916092e-07, 0.9999466]\r\n",
            "83                   [0.0, 0.0, 0.0, 1.0] [5.585498e-11, 0.0007563103, 0.0019269137, 0.9973168]\r\n",
            "84 Fizz              [0.0, 1.0, 0.0, 0.0] [6.8708375e-17, 0.0082070865, 0.0013911728, 0.9904018]\r\n",
            "85 Buzz     Buzz     [0.0, 0.0, 1.0, 0.0] [6.077795e-20, 4.6206256e-07, 0.99987304, 0.00012643292]\r\n",
            "86                   [0.0, 0.0, 0.0, 1.0] [8.787266e-13, 3.386776e-05, 1.4046635e-06, 0.9999647]\r\n",
            "87 Fizz     Fizz     [0.0, 1.0, 0.0, 0.0] [1.0207895e-12, 0.93785566, 0.032832563, 0.029311763]\r\n",
            "88                   [0.0, 0.0, 0.0, 1.0] [1.31922225e-05, 1.045963e-09, 5.236328e-07, 0.9999863]\r\n",
            "89                   [0.0, 0.0, 0.0, 1.0] [2.8022145e-09, 5.1374327e-10, 2.3734503e-09, 1.0]\r\n",
            "90 FizzBuzz FizzBuzz [1.0, 0.0, 0.0, 0.0] [0.99998236, 1.2910709e-05, 1.1003785e-09, 4.6933415e-06]\r\n",
            "91                   [0.0, 0.0, 0.0, 1.0] [7.613649e-10, 1.5249243e-06, 3.8764266e-08, 0.99999845]\r\n",
            "92                   [0.0, 0.0, 0.0, 1.0] [3.2581496e-12, 1.8707724e-09, 1.141313e-07, 0.9999999]\r\n",
            "93 Fizz              [0.0, 1.0, 0.0, 0.0] [1.3245438e-11, 0.2599038, 0.15280648, 0.58728975]\r\n",
            "94                   [0.0, 0.0, 0.0, 1.0] [1.1920011e-11, 2.1886417e-06, 2.6384807e-06, 0.99999523]\r\n",
            "95 Buzz     Buzz     [0.0, 0.0, 1.0, 0.0] [8.772039e-12, 1.6184051e-06, 0.9998721, 0.00012628759]\r\n",
            "96 Fizz     Fizz     [0.0, 1.0, 0.0, 0.0] [1.7118037e-08, 0.9999311, 2.5859198e-10, 6.892089e-05]\r\n",
            "97                   [0.0, 0.0, 0.0, 1.0] [2.7842242e-07, 0.0003529719, 5.916462e-06, 0.9996408]\r\n",
            "98                   [0.0, 0.0, 0.0, 1.0] [4.390671e-16, 0.00014854778, 0.14431529, 0.85553616]\r\n",
            "99 Fizz     Fizz     [0.0, 1.0, 0.0, 0.0] [2.331111e-13, 1.0, 4.867362e-11, 1.1933428e-10]\r\n",
            "100 Buzz              [0.0, 0.0, 1.0, 0.0] [2.2838957e-08, 0.0040369947, 0.09559078, 0.90037215]\r\n"
          ],
          "name": "stdout"
        }
      ]
    },
    {
      "metadata": {
        "id": "nqlwx7saiQoU",
        "colab_type": "code",
        "colab": {
          "base_uri": "https://localhost:8080/",
          "height": 34
        },
        "outputId": "325b2c29-acae-4bd4-8940-455e734d03dc"
      },
      "cell_type": "code",
      "source": [
        "// accuracy = (correctly predicted class / total testing class) × 100%\n",
        "print(\"Errors:\" , errors, \" Correct:\", correct, \"Accuracy: \", Float(correct) / Float(correct + errors))\n",
        "\n"
      ],
      "execution_count": 10,
      "outputs": [
        {
          "output_type": "stream",
          "text": [
            "Errors: 13  Correct: 87 Accuracy:  0.87\r\n"
          ],
          "name": "stdout"
        }
      ]
    }
  ]
}