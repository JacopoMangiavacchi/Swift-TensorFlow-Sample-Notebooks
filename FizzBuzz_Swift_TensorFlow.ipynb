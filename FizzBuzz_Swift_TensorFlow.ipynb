{
  "nbformat": 4,
  "nbformat_minor": 0,
  "metadata": {
    "colab": {
      "name": "blank_swift.ipynb",
      "version": "0.3.2",
      "provenance": [],
      "collapsed_sections": [],
      "include_colab_link": true
    },
    "kernelspec": {
      "name": "swift",
      "display_name": "Swift"
    }
  },
  "cells": [
    {
      "cell_type": "markdown",
      "metadata": {
        "id": "view-in-github",
        "colab_type": "text"
      },
      "source": [
        "<a href=\"https://colab.research.google.com/github/JacopoMangiavacchi/Swift-TensorFlow-Sample-Notebooks/blob/master/FizzBuzz_Swift_TensorFlow.ipynb\" target=\"_parent\"><img src=\"https://colab.research.google.com/assets/colab-badge.svg\" alt=\"Open In Colab\"/></a>"
      ]
    },
    {
      "metadata": {
        "id": "kZRlD4utdPuX",
        "colab_type": "code",
        "colab": {}
      },
      "cell_type": "code",
      "source": [
        "import Foundation\n",
        "import TensorFlow"
      ],
      "execution_count": 0,
      "outputs": []
    },
    {
      "metadata": {
        "id": "V1iJ2NkG19Si",
        "colab_type": "code",
        "colab": {}
      },
      "cell_type": "code",
      "source": [
        "func bitEncode(_ n: UInt, bits: Int = 10) -> [Int32] {\n",
        "    var array = [Int32](repeating: 0, count: bits)\n",
        "    for i in 0..<bits {\n",
        "        array[bits - 1 - i] = Int32(n >> i & 1)\n",
        "    }\n",
        "    return array\n",
        "}\n",
        "\n",
        "func labelEncode(_ n: UInt) -> [Int32] {\n",
        "    var array: [Int32] = [0, 0, 0, 0]\n",
        "    guard n > 0 else { return array }\n",
        "\n",
        "    if n % 15 == 0 {\n",
        "        array[0] = 1\n",
        "    }\n",
        "    else if n % 3 == 0 {\n",
        "        array[1] = 1\n",
        "    }\n",
        "    else if n % 5 == 0 {\n",
        "        array[2] = 1\n",
        "    }\n",
        "    else {\n",
        "        array[3] = 1\n",
        "    }\n",
        "\n",
        "    return array\n",
        "}"
      ],
      "execution_count": 0,
      "outputs": []
    },
    {
      "metadata": {
        "id": "x2qwdXkr2viX",
        "colab_type": "code",
        "colab": {}
      },
      "cell_type": "code",
      "source": [
        "let start = 101\n",
        "let end = 1024\n",
        "var X = [[Int32]]()\n",
        "var Y = [[Int32]]()\n",
        "\n",
        "for i in start..<end {\n",
        "    X.append(bitEncode(UInt(i)))\n",
        "    Y.append(labelEncode(UInt(i)))\n",
        "}"
      ],
      "execution_count": 0,
      "outputs": []
    },
    {
      "metadata": {
        "id": "_e1hzXeb8J5d",
        "colab_type": "code",
        "colab": {}
      },
      "cell_type": "code",
      "source": [
        "struct FizzBuzz: Layer {\n",
        "    var l1: Dense<Float>\n",
        "    var l2: Dense<Float>\n",
        "\n",
        "    init(variables: Int = 1) {\n",
        "        l1 = Dense<Float>(inputSize: variables, outputSize: 50, activation: relu)\n",
        "        l2 = Dense<Float>(inputSize: 50, outputSize: 4, activation: softmax)\n",
        "    }\n",
        "    \n",
        "    @differentiable(wrt: (self, input))\n",
        "    func applied(to input: Tensor<Float>) -> Tensor<Float> {\n",
        "        let output = l1.applied(to: input)\n",
        "        return l2.applied(to: output)\n",
        "\n",
        "    }\n",
        "}"
      ],
      "execution_count": 0,
      "outputs": []
    },
    {
      "metadata": {
        "id": "JdGxV6K2VZ2X",
        "colab_type": "code",
        "outputId": "26f78565-49f3-4f02-f827-3d1506767baf",
        "colab": {
          "base_uri": "https://localhost:8080/",
          "height": 51
        }
      },
      "cell_type": "code",
      "source": [
        "let x = Tensor<Int32>(shape: [Int32(end - start), 10], scalars: Array(X.joined()))\n",
        "let y = Tensor<Int32>(shape: [Int32(end - start), 4], scalars: Array(Y.joined()))\n",
        "\n",
        "print(x.shape)\n",
        "print(y.shape)"
      ],
      "execution_count": 24,
      "outputs": [
        {
          "output_type": "stream",
          "text": [
            "TensorShape(dimensions: [923, 10])\r\n",
            "TensorShape(dimensions: [923, 4])\r\n"
          ],
          "name": "stdout"
        }
      ]
    },
    {
      "metadata": {
        "id": "OkEgM40GQGKG",
        "colab_type": "code",
        "outputId": "a26d6b43-70f3-4a28-8461-92069e009b37",
        "colab": {
          "base_uri": "https://localhost:8080/",
          "height": 68
        }
      },
      "cell_type": "code",
      "source": [
        "let optimizer = SGD<LinearRegression, Float>(learningRate: 0.03)\n",
        "var model = LinearRegression(variables: 3)\n",
        "\n",
        "\n",
        "for epoch in 1...3000 {\n",
        "    let (cost, 𝛁model) = model.valueWithGradient { m -> Tensor<Float> in\n",
        "        let ŷ = m.applied(to: x)\n",
        "        return meanSquaredError(predicted: ŷ, expected: y)\n",
        "    }\n",
        "    optimizer.update(&model.allDifferentiableVariables, along: 𝛁model)\n",
        "  \n",
        "    if epoch % 1000 == 0 {\n",
        "        print(\"Epoch: \\(epoch) Cost: \\(cost)\")\n",
        "    }\n",
        "}"
      ],
      "execution_count": 0,
      "outputs": [
        {
          "output_type": "stream",
          "text": [
            "Epoch: 1000 Cost: 0.004677016\n",
            "Epoch: 2000 Cost: 0.003017218\n",
            "Epoch: 3000 Cost: 0.002556147\n"
          ],
          "name": "stdout"
        }
      ]
    },
    {
      "metadata": {
        "id": "LOmonwRSVqui",
        "colab_type": "code",
        "outputId": "82a6f9f7-c42a-4122-fa12-5220c692655f",
        "colab": {
          "base_uri": "https://localhost:8080/",
          "height": 34
        }
      },
      "cell_type": "code",
      "source": [
        "let height = heightNormalizer.normalize(Float(76.8))\n",
        "let heightTensor = TensorElementLiteral<Float>(floatLiteral: height)\n",
        "\n",
        "let normPredictedWeight = model.applied(to: [[heightTensor, 0, 1]])  //Height, Female, Male\n",
        "let predictedWeight = weightNormalizer.denormalize(Float(normPredictedWeight[0][0])!)\n",
        "\n",
        "print(predictedWeight)"
      ],
      "execution_count": 0,
      "outputs": [
        {
          "output_type": "stream",
          "text": [
            "225.99329\r\n"
          ],
          "name": "stdout"
        }
      ]
    }
  ]
}