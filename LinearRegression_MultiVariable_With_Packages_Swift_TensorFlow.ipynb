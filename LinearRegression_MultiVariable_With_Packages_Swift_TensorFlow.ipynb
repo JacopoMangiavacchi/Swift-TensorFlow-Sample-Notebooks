{
  "nbformat": 4,
  "nbformat_minor": 0,
  "metadata": {
    "colab": {
      "name": "blank_swift.ipynb",
      "version": "0.3.2",
      "provenance": [],
      "collapsed_sections": [],
      "include_colab_link": true
    },
    "kernelspec": {
      "name": "swift",
      "display_name": "Swift"
    }
  },
  "cells": [
    {
      "cell_type": "markdown",
      "metadata": {
        "id": "view-in-github",
        "colab_type": "text"
      },
      "source": [
        "<a href=\"https://colab.research.google.com/github/JacopoMangiavacchi/Swift-TensorFlow-Sample-Notebooks/blob/master/LinearRegression_MultiVariable_With_Packages_Swift_TensorFlow.ipynb\" target=\"_parent\"><img src=\"https://colab.research.google.com/assets/colab-badge.svg\" alt=\"Open In Colab\"/></a>"
      ]
    },
    {
      "metadata": {
        "id": "V72-0qY7wO5S",
        "colab_type": "text"
      },
      "cell_type": "markdown",
      "source": [
        "**Swift/Python/Pandas** code to download the training/test datasat as Swift arrays"
      ]
    },
    {
      "metadata": {
        "id": "TgiX5mzQ5vTd",
        "colab_type": "code",
        "colab": {}
      },
      "cell_type": "code",
      "source": [
        "import Python\n",
        "\n",
        "func getArrayDataset() -> ([[Float]], [Float]) {\n",
        "    let np = Python.import(\"numpy\")\n",
        "    let pd = Python.import(\"pandas\")\n",
        "    let io = Python.import(\"io\")\n",
        "    let requests = Python.import(\"requests\")\n",
        "\n",
        "    let url=\"https://raw.githubusercontent.com/Dataweekends/zero_to_deep_learning_video/master/data/weight-height.csv\"\n",
        "    let s = requests.get(url).content\n",
        "    let df = pd.read_csv(io.StringIO(s.decode(\"utf-8\")))\n",
        "\n",
        "    let dummies = pd.get_dummies(df[[\"Gender\"]])\n",
        "    let trasnformed = pd.concat([df[[\"Height\", \"Weight\"]], dummies], 1)\n",
        "    // print(trasnformed)\n",
        "\n",
        "    let X1 = trasnformed[[\"Height\"]].values\n",
        "    let X2 = trasnformed[[\"Gender_Female\"]].values\n",
        "    let X3 = trasnformed[[\"Gender_Male\"]].values\n",
        "    let Y = trasnformed[[\"Weight\"]].values\n",
        "  \n",
        "    let x1Array = X1.tolist().flatMap{ $0.map{ Float($0)! }}\n",
        "    let x2Array = X2.tolist().flatMap{ $0.map{ Float($0)! }}\n",
        "    let x3Array = X3.tolist().flatMap{ $0.map{ Float($0)! }}\n",
        "    let yArray = Y.tolist().flatMap{ $0.map{ Float($0)! }}\n",
        "  \n",
        "    return ([x1Array, x2Array, x3Array], yArray)\n",
        "}"
      ],
      "execution_count": 0,
      "outputs": []
    },
    {
      "metadata": {
        "id": "VP8_Pg1Kwbtz",
        "colab_type": "text"
      },
      "cell_type": "markdown",
      "source": [
        "**Swift** function for shell execute"
      ]
    },
    {
      "metadata": {
        "id": "Hc4axIgr9Bjm",
        "colab_type": "code",
        "colab": {}
      },
      "cell_type": "code",
      "source": [
        "import Foundation\n",
        "\n",
        "@discardableResult\n",
        "func shell(_ args: String...) -> Int32 {\n",
        "    let task = Process()\n",
        "    task.launchPath = \"/usr/bin/env\"\n",
        "    task.arguments = args\n",
        "    task.launch()\n",
        "    task.waitUntilExit()\n",
        "    return task.terminationStatus\n",
        "}"
      ],
      "execution_count": 0,
      "outputs": []
    },
    {
      "metadata": {
        "id": "riuwr4xDxRT6",
        "colab_type": "text"
      },
      "cell_type": "markdown",
      "source": [
        "**Swift** code for importing the Swift Package source code"
      ]
    },
    {
      "metadata": {
        "id": "tsDGR83oBihm",
        "colab_type": "code",
        "outputId": "a43d8022-973f-4026-d3f3-649d6b8543ae",
        "colab": {
          "base_uri": "https://localhost:8080/",
          "height": 153
        }
      },
      "cell_type": "code",
      "source": [
        "shell(\"rm\", \"-rf\", \"SwiftNormalization\")\n",
        "shell(\"git\", \"clone\", \"https://github.com/JacopoMangiavacchi/SwiftNormalization.git\")"
      ],
      "execution_count": 3,
      "outputs": [
        {
          "output_type": "stream",
          "text": [
            "Cloning into 'SwiftNormalization'...\n",
            "remote: Enumerating objects: 176, done.        \n",
            "remote: Counting objects: 100% (176/176), done.        \n",
            "remote: Compressing objects: 100% (91/91), done.        \n",
            "remote: Total 176 (delta 96), reused 140 (delta 66), pack-reused 0        \n",
            "Receiving objects: 100% (176/176), 23.77 KiB | 7.92 MiB/s, done.\n",
            "Resolving deltas: 100% (96/96), done.\n"
          ],
          "name": "stdout"
        },
        {
          "output_type": "execute_result",
          "data": {
            "text/plain": [
              "0\n"
            ]
          },
          "metadata": {
            "tags": []
          },
          "execution_count": 3
        }
      ]
    },
    {
      "metadata": {
        "id": "dCcfT3qcCdls",
        "colab_type": "code",
        "colab": {}
      },
      "cell_type": "code",
      "source": [
        "%include \"SwiftNormalization/Sources/SwiftNormalization/Helpers.swift\"\n",
        "%include \"SwiftNormalization/Sources/SwiftNormalization/Normalizer.swift\"\n",
        "%include \"SwiftNormalization/Sources/SwiftNormalization/MinMaxNormalizer.swift\""
      ],
      "execution_count": 0,
      "outputs": []
    },
    {
      "metadata": {
        "id": "kQKOlb46wnKl",
        "colab_type": "text"
      },
      "cell_type": "markdown",
      "source": [
        "**Swift** code to use the normalization package"
      ]
    },
    {
      "metadata": {
        "id": "Zy51LSDiEKix",
        "colab_type": "code",
        "colab": {}
      },
      "cell_type": "code",
      "source": [
        "func flattenMatrix<T: BinaryFloatingPoint>(_ matrix : [[T]]) -> [T] {\n",
        "    let size = matrix.count\n",
        "    guard size > 0 else { return [] }\n",
        "\n",
        "    let count = matrix[0].count\n",
        "    var allEqualCount = true\n",
        "    for m in 0..<size {\n",
        "        if matrix[m].count != count {\n",
        "          allEqualCount = false\n",
        "          break\n",
        "        }\n",
        "    }\n",
        "  \n",
        "    guard allEqualCount else { return [] }\n",
        "  \n",
        "    let total = count * size\n",
        "    var vector = [T](repeating: 0, count: total)\n",
        "    for i in stride(from: 0, to: total, by: size) {\n",
        "        for m in 0..<size {\n",
        "            vector[i+m] = matrix[m][i/3]\n",
        "        }\n",
        "    }\n",
        "\n",
        "    return vector\n",
        "}"
      ],
      "execution_count": 0,
      "outputs": []
    },
    {
      "metadata": {
        "id": "gPWmhInLNAXa",
        "colab_type": "code",
        "colab": {}
      },
      "cell_type": "code",
      "source": [
        "var heightNormalizer = MinMaxNormalizer<Float>()\n",
        "var weightNormalizer = MinMaxNormalizer<Float>()\n",
        "\n",
        "let (xArray, yVector) = getArrayDataset()\n",
        "\n",
        "let xNormalizedVector = flattenMatrix([heightNormalizer.normalized(xArray[0]), \n",
        "                                       xArray[1], \n",
        "                                       xArray[2]])\n",
        "let yNormalizedVector = weightNormalizer.normalized(yVector)"
      ],
      "execution_count": 0,
      "outputs": []
    },
    {
      "metadata": {
        "id": "-eG1Wi2jwuLf",
        "colab_type": "text"
      },
      "cell_type": "markdown",
      "source": [
        "**Swift TensorFlow** code for Model creation and Training"
      ]
    },
    {
      "metadata": {
        "id": "_e1hzXeb8J5d",
        "colab_type": "code",
        "colab": {}
      },
      "cell_type": "code",
      "source": [
        "import TensorFlow\n",
        "\n",
        "// Not really needed - Just for test custom activation\n",
        "@differentiable()\n",
        "func linear(input: Tensor<Float>) -> Tensor<Float> {\n",
        "    return input\n",
        "}\n",
        "\n",
        "struct LinearRegression: Layer {\n",
        "    var l1: Dense<Float>\n",
        "    init(variables: Int = 1) {\n",
        "        l1 = Dense<Float>(inputSize: variables, outputSize: 1, activation: linear) // linear Not really needed\n",
        "        // l1 = Dense<Float>(inputSize: variables, outputSize: 1)\n",
        "    }\n",
        "    \n",
        "    @differentiable(wrt: (self, input))\n",
        "    func applied(to input: Tensor<Float>, in context: Context) -> Tensor<Float> {\n",
        "        return l1.applied(to: input, in: context)\n",
        "    }\n",
        "}"
      ],
      "execution_count": 0,
      "outputs": []
    },
    {
      "metadata": {
        "id": "JdGxV6K2VZ2X",
        "colab_type": "code",
        "outputId": "bc7f07f9-f16a-402a-d212-f2986962e103",
        "colab": {
          "base_uri": "https://localhost:8080/",
          "height": 51
        }
      },
      "cell_type": "code",
      "source": [
        "let x = Tensor<Float>(shape: [Int32(10000), 3], scalars: xNormalizedVector)\n",
        "let y = Tensor<Float>(shape: [Int32(10000), 1], scalars: yNormalizedVector)\n",
        "\n",
        "print(x.shape)\n",
        "print(y.shape)"
      ],
      "execution_count": 8,
      "outputs": [
        {
          "output_type": "stream",
          "text": [
            "TensorShape(dimensions: [10000, 3])\r\n",
            "TensorShape(dimensions: [10000, 1])\r\n"
          ],
          "name": "stdout"
        }
      ]
    },
    {
      "metadata": {
        "id": "OkEgM40GQGKG",
        "colab_type": "code",
        "outputId": "28cc2ab1-c7b9-457a-9ff2-105464b70320",
        "colab": {
          "base_uri": "https://localhost:8080/",
          "height": 68
        }
      },
      "cell_type": "code",
      "source": [
        "let optimizer = SGD<LinearRegression, Float>(learningRate: 0.03)\n",
        "var model = LinearRegression(variables: 3)\n",
        "\n",
        "let trainingContext = Context(learningPhase: .training)\n",
        "for epoch in 1...3000 {\n",
        "    let (cost, 𝛁model) = model.valueWithGradient { m -> Tensor<Float> in\n",
        "        let ŷ = m.applied(to: x, in: trainingContext)\n",
        "        return meanSquaredError(predicted: ŷ, expected: y)\n",
        "    }\n",
        "    optimizer.update(&model.allDifferentiableVariables, along: 𝛁model)\n",
        "  \n",
        "    if epoch % 1000 == 0 {\n",
        "        print(\"Epoch: \\(epoch) Cost: \\(cost)\")\n",
        "    }\n",
        "}"
      ],
      "execution_count": 9,
      "outputs": [
        {
          "output_type": "stream",
          "text": [
            "Epoch: 1000 Cost: 0.0031217323\n",
            "Epoch: 2000 Cost: 0.0025851817\n",
            "Epoch: 3000 Cost: 0.002436134\n"
          ],
          "name": "stdout"
        }
      ]
    },
    {
      "metadata": {
        "id": "fZwCbsntw6-_",
        "colab_type": "text"
      },
      "cell_type": "markdown",
      "source": [
        "**Swift TensorFlow** code for Inferencing"
      ]
    },
    {
      "metadata": {
        "id": "LOmonwRSVqui",
        "colab_type": "code",
        "outputId": "fb3441ef-d839-4c8a-e2e5-90923822ab18",
        "colab": {
          "base_uri": "https://localhost:8080/",
          "height": 34
        }
      },
      "cell_type": "code",
      "source": [
        "let height = heightNormalizer.normalize(Float(76.8))\n",
        "let xPredict = Tensor<Float>(shape: [Int32(1), 3], scalars: [height, 0, 1]) //Height, Female, Male\n",
        "\n",
        "let normPredictedWeight = model.applied(to: xPredict)\n",
        "let predictedWeight = weightNormalizer.denormalize(Float(normPredictedWeight[0][0])!)\n",
        "\n",
        "print(predictedWeight)"
      ],
      "execution_count": 10,
      "outputs": [
        {
          "output_type": "stream",
          "text": [
            "229.22473\r\n"
          ],
          "name": "stdout"
        }
      ]
    }
  ]
}